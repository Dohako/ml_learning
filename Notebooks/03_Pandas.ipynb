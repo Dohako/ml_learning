{
  "nbformat": 4,
  "nbformat_minor": 0,
  "metadata": {
    "kernelspec": {
      "display_name": "Python 3",
      "language": "python",
      "name": "python3"
    },
    "language_info": {
      "codemirror_mode": {
        "name": "ipython",
        "version": 3
      },
      "file_extension": ".py",
      "mimetype": "text/x-python",
      "name": "python",
      "nbconvert_exporter": "python",
      "pygments_lexer": "ipython3",
      "version": "3.8.3"
    },
    "colab": {
      "name": "Pr03_Pandas.ipynb",
      "provenance": [],
      "collapsed_sections": [],
      "toc_visible": true
    }
  },
  "cells": [
    {
      "cell_type": "markdown",
      "metadata": {
        "id": "_hmXpj3l1WIL"
      },
      "source": [
        "# Pandas"
      ]
    },
    {
      "cell_type": "markdown",
      "metadata": {
        "id": "ZvFbiSZm1bP7"
      },
      "source": [
        "Pandas - это библиотека для работы с табличными данными.\n",
        "\n",
        "Как всегда, [официальный сайт](https://pandas.pydata.org/) предоставляет самую актуальную и полезную информацию. Доки по функциям и классам [здесь](https://pandas.pydata.org/pandas-docs/stable/reference/index.html)."
      ]
    },
    {
      "cell_type": "markdown",
      "metadata": {
        "id": "1Dy-A1LZ2JUs"
      },
      "source": [
        "Установка pandas как обычно не составляет сложностей:"
      ]
    },
    {
      "cell_type": "code",
      "metadata": {
        "id": "7VCWliX_2MeI",
        "outputId": "32a6f148-49d3-468d-ec36-03653cc999ef",
        "colab": {
          "base_uri": "https://localhost:8080/",
          "height": 340
        }
      },
      "source": [
        "!pip install pandas==1.0.0"
      ],
      "execution_count": 1,
      "outputs": [
        {
          "output_type": "stream",
          "text": [
            "Collecting pandas==1.0.0\n",
            "\u001b[?25l  Downloading https://files.pythonhosted.org/packages/12/d1/a6502c2f5c15b50f5dd579fc1c52b47edf6f2e9f682aed917dd7565b3e60/pandas-1.0.0-cp36-cp36m-manylinux1_x86_64.whl (10.1MB)\n",
            "\u001b[K     |████████████████████████████████| 10.1MB 2.6MB/s \n",
            "\u001b[?25hRequirement already satisfied: pytz>=2017.2 in /usr/local/lib/python3.6/dist-packages (from pandas==1.0.0) (2018.9)\n",
            "Requirement already satisfied: python-dateutil>=2.6.1 in /usr/local/lib/python3.6/dist-packages (from pandas==1.0.0) (2.8.1)\n",
            "Requirement already satisfied: numpy>=1.13.3 in /usr/local/lib/python3.6/dist-packages (from pandas==1.0.0) (1.18.5)\n",
            "Requirement already satisfied: six>=1.5 in /usr/local/lib/python3.6/dist-packages (from python-dateutil>=2.6.1->pandas==1.0.0) (1.15.0)\n",
            "\u001b[31mERROR: google-colab 1.0.0 has requirement pandas~=1.1.0; python_version >= \"3.0\", but you'll have pandas 1.0.0 which is incompatible.\u001b[0m\n",
            "\u001b[31mERROR: fbprophet 0.7.1 has requirement pandas>=1.0.4, but you'll have pandas 1.0.0 which is incompatible.\u001b[0m\n",
            "Installing collected packages: pandas\n",
            "  Found existing installation: pandas 1.1.2\n",
            "    Uninstalling pandas-1.1.2:\n",
            "      Successfully uninstalled pandas-1.1.2\n",
            "Successfully installed pandas-1.0.0\n"
          ],
          "name": "stdout"
        },
        {
          "output_type": "display_data",
          "data": {
            "application/vnd.colab-display-data+json": {
              "pip_warning": {
                "packages": [
                  "pandas"
                ]
              }
            }
          },
          "metadata": {
            "tags": []
          }
        }
      ]
    },
    {
      "cell_type": "markdown",
      "metadata": {
        "id": "TlwBz_g72OMg"
      },
      "source": [
        "Импорт библиотеки с устоявшимся сокращением:"
      ]
    },
    {
      "cell_type": "code",
      "metadata": {
        "id": "JGQnosLe2TiZ"
      },
      "source": [
        "import pandas as pd"
      ],
      "execution_count": 1,
      "outputs": []
    },
    {
      "cell_type": "markdown",
      "metadata": {
        "id": "yHJyRJ5M64Mr"
      },
      "source": [
        ""
      ]
    },
    {
      "cell_type": "markdown",
      "metadata": {
        "id": "lD9rbk7k2auF"
      },
      "source": [
        "# Создание объекта таблицы"
      ]
    },
    {
      "cell_type": "markdown",
      "metadata": {
        "id": "M6V26pIT2if3"
      },
      "source": [
        "Начнем с простого создания объекта основного класса в pandas - `DataFrame`. Фреймы в pandas представляют собой двумерные массивы (матрицы) данных. Для применения в машинном обучении визуально можно представить данные следующим образом:\n",
        "\n",
        "$$\n",
        "X = \n",
        "\\begin{bmatrix}\n",
        "x^{(1)}_1 & \\dots & x^{(1)}_{m-1} & x^{(1)}_m \\\\\n",
        "x^{(2)}_1 & \\dots & x^{(2)}_{m-1} & x^{(2)}_m \\\\\n",
        "\\vdots & \\ddots &  \\vdots & \\vdots  \\\\\n",
        "x^{(n)}_1 & \\dots & x^{(n)}_{m-1} & x^{(n)}_m \\\\\n",
        "\\end{bmatrix}\n",
        "$$\n",
        "\n",
        "где $n$ - количество записей (сэмплов/рядов) в данных, $m$ - количество признаков (предикторов/фич) в данных.\n",
        "\n",
        "> **Признаки** в данных - это те данные, на основе которых производится анализ данных, обучение модели и предсказание. В реальной задаче признаками могут быть \"цена\", \"пол\", \"группа крови\", \"текст в заявке\" и т.д. [Колонки в таблице]\n",
        "\n",
        "> **Записи** в данных - сущности, каждая из которых имеет свой набор значений признаков. В базе данных банка это могут быть отдельные транзакции. Все транзакции имеют одинаковые признаки, но значения этих признаков у каждой записи свои. [Строки в таблице]"
      ]
    },
    {
      "cell_type": "markdown",
      "metadata": {
        "id": "YGZ0Le_m6866"
      },
      "source": [
        "Создание `DataFrame` возможно разными способами, для начала попробуем создать фрейм из двумерного массива:"
      ]
    },
    {
      "cell_type": "code",
      "metadata": {
        "id": "6ffPZfw67l5u",
        "outputId": "5eb45953-bec1-402c-94bd-84f1af0decab",
        "colab": {
          "base_uri": "https://localhost:8080/",
          "height": 102
        }
      },
      "source": [
        "import numpy as np\n",
        "\n",
        "arr = np.random.randint(0, 10, size=(5, 3))\n",
        "print(arr)"
      ],
      "execution_count": 2,
      "outputs": [
        {
          "output_type": "stream",
          "text": [
            "[[2 9 4]\n",
            " [8 6 8]\n",
            " [1 9 6]\n",
            " [2 4 1]\n",
            " [6 1 5]]\n"
          ],
          "name": "stdout"
        }
      ]
    },
    {
      "cell_type": "code",
      "metadata": {
        "id": "AHGZmnLI7x6R",
        "outputId": "0a776011-9cb8-4686-c8e3-46bf271b79fb",
        "colab": {
          "base_uri": "https://localhost:8080/",
          "height": 204
        }
      },
      "source": [
        "# Создание фрейма - просто вызвать конструктор\n",
        "df = pd.DataFrame(data=arr, index=['first','second','third','fourth','fifth'], columns=['some']*3)\n",
        "# Фреймы удобнее отображать с помощью встроенных средств Jupyter\n",
        "df"
      ],
      "execution_count": 5,
      "outputs": [
        {
          "output_type": "execute_result",
          "data": {
            "text/html": [
              "<div>\n",
              "<style scoped>\n",
              "    .dataframe tbody tr th:only-of-type {\n",
              "        vertical-align: middle;\n",
              "    }\n",
              "\n",
              "    .dataframe tbody tr th {\n",
              "        vertical-align: top;\n",
              "    }\n",
              "\n",
              "    .dataframe thead th {\n",
              "        text-align: right;\n",
              "    }\n",
              "</style>\n",
              "<table border=\"1\" class=\"dataframe\">\n",
              "  <thead>\n",
              "    <tr style=\"text-align: right;\">\n",
              "      <th></th>\n",
              "      <th>some</th>\n",
              "      <th>some</th>\n",
              "      <th>some</th>\n",
              "    </tr>\n",
              "  </thead>\n",
              "  <tbody>\n",
              "    <tr>\n",
              "      <th>first</th>\n",
              "      <td>2</td>\n",
              "      <td>9</td>\n",
              "      <td>4</td>\n",
              "    </tr>\n",
              "    <tr>\n",
              "      <th>second</th>\n",
              "      <td>8</td>\n",
              "      <td>6</td>\n",
              "      <td>8</td>\n",
              "    </tr>\n",
              "    <tr>\n",
              "      <th>third</th>\n",
              "      <td>1</td>\n",
              "      <td>9</td>\n",
              "      <td>6</td>\n",
              "    </tr>\n",
              "    <tr>\n",
              "      <th>fourth</th>\n",
              "      <td>2</td>\n",
              "      <td>4</td>\n",
              "      <td>1</td>\n",
              "    </tr>\n",
              "    <tr>\n",
              "      <th>fifth</th>\n",
              "      <td>6</td>\n",
              "      <td>1</td>\n",
              "      <td>5</td>\n",
              "    </tr>\n",
              "  </tbody>\n",
              "</table>\n",
              "</div>"
            ],
            "text/plain": [
              "        some  some  some\n",
              "first      2     9     4\n",
              "second     8     6     8\n",
              "third      1     9     6\n",
              "fourth     2     4     1\n",
              "fifth      6     1     5"
            ]
          },
          "metadata": {
            "tags": []
          },
          "execution_count": 5
        }
      ]
    },
    {
      "cell_type": "markdown",
      "metadata": {
        "id": "GDmWQFBI9TmN"
      },
      "source": [
        "В представленном фрейме важно отметить две особенности:\n",
        "- Колонки (признаки) имеют имена, но так как мы их (имена) не задали, то они создались автоматически;\n",
        "- Каждая строка (запись) имеет **уникальный** индекс, тоже создались сами, так как мы не передавали своих индексов.\n",
        "\n",
        "Для задания имен колонок используется аргумент в конструкторе (DataFrame) `columns`, в который передаеся список имен по количеству признаков. Для задания индексов аргумент `index`, в который передается список индексов по количеству записей в массиве."
      ]
    },
    {
      "cell_type": "markdown",
      "metadata": {
        "id": "kcJdh-ES_bsy"
      },
      "source": [
        "## Задание\n",
        "\n",
        "Создайте фрейм с именами колонок `'col_1', 'col_2', 'col_3'` и индексами по алфавиту (`'A', 'B', 'C', ...` или `'A', 'Б', 'В', ...`)."
      ]
    },
    {
      "cell_type": "code",
      "metadata": {
        "id": "fes-4j4U_1ts",
        "outputId": "1cb6683f-42cd-4969-aa19-176c51a41d03",
        "colab": {
          "base_uri": "https://localhost:8080/",
          "height": 204
        }
      },
      "source": [
        "# TODO\n",
        "arr = np.random.randint(0, 10, size=(5, 3))\n",
        "indexes = [\"A\",\"B\",\"C\",\"D\",\"E\"]\n",
        "columns = [f'col_{col_number}' for col_number in range(3)]\n",
        "df = pd.DataFrame(data=arr, index=indexes, columns=columns)\n",
        "df"
      ],
      "execution_count": 13,
      "outputs": [
        {
          "output_type": "execute_result",
          "data": {
            "text/html": [
              "<div>\n",
              "<style scoped>\n",
              "    .dataframe tbody tr th:only-of-type {\n",
              "        vertical-align: middle;\n",
              "    }\n",
              "\n",
              "    .dataframe tbody tr th {\n",
              "        vertical-align: top;\n",
              "    }\n",
              "\n",
              "    .dataframe thead th {\n",
              "        text-align: right;\n",
              "    }\n",
              "</style>\n",
              "<table border=\"1\" class=\"dataframe\">\n",
              "  <thead>\n",
              "    <tr style=\"text-align: right;\">\n",
              "      <th></th>\n",
              "      <th>col_0</th>\n",
              "      <th>col_1</th>\n",
              "      <th>col_2</th>\n",
              "    </tr>\n",
              "  </thead>\n",
              "  <tbody>\n",
              "    <tr>\n",
              "      <th>A</th>\n",
              "      <td>5</td>\n",
              "      <td>5</td>\n",
              "      <td>2</td>\n",
              "    </tr>\n",
              "    <tr>\n",
              "      <th>B</th>\n",
              "      <td>7</td>\n",
              "      <td>0</td>\n",
              "      <td>0</td>\n",
              "    </tr>\n",
              "    <tr>\n",
              "      <th>C</th>\n",
              "      <td>4</td>\n",
              "      <td>5</td>\n",
              "      <td>0</td>\n",
              "    </tr>\n",
              "    <tr>\n",
              "      <th>D</th>\n",
              "      <td>1</td>\n",
              "      <td>8</td>\n",
              "      <td>2</td>\n",
              "    </tr>\n",
              "    <tr>\n",
              "      <th>E</th>\n",
              "      <td>7</td>\n",
              "      <td>6</td>\n",
              "      <td>7</td>\n",
              "    </tr>\n",
              "  </tbody>\n",
              "</table>\n",
              "</div>"
            ],
            "text/plain": [
              "   col_0  col_1  col_2\n",
              "A      5      5      2\n",
              "B      7      0      0\n",
              "C      4      5      0\n",
              "D      1      8      2\n",
              "E      7      6      7"
            ]
          },
          "metadata": {
            "tags": []
          },
          "execution_count": 13
        }
      ]
    },
    {
      "cell_type": "markdown",
      "metadata": {
        "id": "kdd9oZeYBd3P"
      },
      "source": [
        "# Создание фрейма из словарей"
      ]
    },
    {
      "cell_type": "markdown",
      "metadata": {
        "id": "E1TqHsVxBhKy"
      },
      "source": [
        "Другим способом создания фрейма является конструктор на основе словаря с данными:"
      ]
    },
    {
      "cell_type": "code",
      "metadata": {
        "id": "ifWrFrLUCJ5r",
        "outputId": "ddb54635-ae25-4616-913f-69c57eb9b86d",
        "colab": {
          "base_uri": "https://localhost:8080/",
          "height": 173
        }
      },
      "source": [
        "# Создается словарь, в котором ключи будут названиями колонок,\n",
        "#   а значения - данные по этим колонкам\n",
        "data = {\n",
        "    'test_1_mark': [4.6, 3.8, 5.0, 4.5],\n",
        "    'test_2_mark': [5.0, 3.9, 4.7, 4.5]\n",
        "}\n",
        "\n",
        "pd.DataFrame(data)"
      ],
      "execution_count": 14,
      "outputs": [
        {
          "output_type": "execute_result",
          "data": {
            "text/html": [
              "<div>\n",
              "<style scoped>\n",
              "    .dataframe tbody tr th:only-of-type {\n",
              "        vertical-align: middle;\n",
              "    }\n",
              "\n",
              "    .dataframe tbody tr th {\n",
              "        vertical-align: top;\n",
              "    }\n",
              "\n",
              "    .dataframe thead th {\n",
              "        text-align: right;\n",
              "    }\n",
              "</style>\n",
              "<table border=\"1\" class=\"dataframe\">\n",
              "  <thead>\n",
              "    <tr style=\"text-align: right;\">\n",
              "      <th></th>\n",
              "      <th>test_1_mark</th>\n",
              "      <th>test_2_mark</th>\n",
              "    </tr>\n",
              "  </thead>\n",
              "  <tbody>\n",
              "    <tr>\n",
              "      <th>0</th>\n",
              "      <td>4.6</td>\n",
              "      <td>5.0</td>\n",
              "    </tr>\n",
              "    <tr>\n",
              "      <th>1</th>\n",
              "      <td>3.8</td>\n",
              "      <td>3.9</td>\n",
              "    </tr>\n",
              "    <tr>\n",
              "      <th>2</th>\n",
              "      <td>5.0</td>\n",
              "      <td>4.7</td>\n",
              "    </tr>\n",
              "    <tr>\n",
              "      <th>3</th>\n",
              "      <td>4.5</td>\n",
              "      <td>4.5</td>\n",
              "    </tr>\n",
              "  </tbody>\n",
              "</table>\n",
              "</div>"
            ],
            "text/plain": [
              "   test_1_mark  test_2_mark\n",
              "0          4.6          5.0\n",
              "1          3.8          3.9\n",
              "2          5.0          4.7\n",
              "3          4.5          4.5"
            ]
          },
          "metadata": {
            "tags": []
          },
          "execution_count": 14
        }
      ]
    },
    {
      "cell_type": "markdown",
      "metadata": {
        "id": "qr6mFv5xDmZc"
      },
      "source": [
        "Альтернативой использования словарей является создание массива словарей:"
      ]
    },
    {
      "cell_type": "code",
      "metadata": {
        "id": "C037OQaSD8yY",
        "outputId": "7863535f-9e15-41e0-b5e6-96f2850d3fd6",
        "colab": {
          "base_uri": "https://localhost:8080/",
          "height": 142
        }
      },
      "source": [
        "# Создается список записей, каждая запись представлена словарем\n",
        "# В словаре ключи - названия колонок\n",
        "# При создании фрейма pandas просмотри все возможные ключи словарей в списке\n",
        "#   и создаст колонок по их названиям\n",
        "data = [\n",
        "    {\n",
        "        'test_1_mark': 4.6,\n",
        "        'test_2_mark': 5.0\n",
        "    },\n",
        "    {\n",
        "        'test_1_mark': 3.8,\n",
        "        'test_2_mark': 3.9\n",
        "    },\n",
        "    {\n",
        "        'test_1_mark': 5.0\n",
        "    },\n",
        "]\n",
        "\n",
        "pd.DataFrame(data)"
      ],
      "execution_count": 15,
      "outputs": [
        {
          "output_type": "execute_result",
          "data": {
            "text/html": [
              "<div>\n",
              "<style scoped>\n",
              "    .dataframe tbody tr th:only-of-type {\n",
              "        vertical-align: middle;\n",
              "    }\n",
              "\n",
              "    .dataframe tbody tr th {\n",
              "        vertical-align: top;\n",
              "    }\n",
              "\n",
              "    .dataframe thead th {\n",
              "        text-align: right;\n",
              "    }\n",
              "</style>\n",
              "<table border=\"1\" class=\"dataframe\">\n",
              "  <thead>\n",
              "    <tr style=\"text-align: right;\">\n",
              "      <th></th>\n",
              "      <th>test_1_mark</th>\n",
              "      <th>test_2_mark</th>\n",
              "    </tr>\n",
              "  </thead>\n",
              "  <tbody>\n",
              "    <tr>\n",
              "      <th>0</th>\n",
              "      <td>4.6</td>\n",
              "      <td>5.0</td>\n",
              "    </tr>\n",
              "    <tr>\n",
              "      <th>1</th>\n",
              "      <td>3.8</td>\n",
              "      <td>3.9</td>\n",
              "    </tr>\n",
              "    <tr>\n",
              "      <th>2</th>\n",
              "      <td>5.0</td>\n",
              "      <td>NaN</td>\n",
              "    </tr>\n",
              "  </tbody>\n",
              "</table>\n",
              "</div>"
            ],
            "text/plain": [
              "   test_1_mark  test_2_mark\n",
              "0          4.6          5.0\n",
              "1          3.8          3.9\n",
              "2          5.0          NaN"
            ]
          },
          "metadata": {
            "tags": []
          },
          "execution_count": 15
        }
      ]
    },
    {
      "cell_type": "markdown",
      "metadata": {
        "id": "Xz-spCzKEl4m"
      },
      "source": [
        "Обратите внимание, в одной записи отсутсвовало значение для колонки и во фрейме такое значение обозначено как `NaN`.\n",
        "\n",
        "> **NaN** (Not a Number) - представление пропусков во фрейме.\n",
        "\n",
        "Пропуски в данных являение достаточно распространенное. Например, если данные собираются путем анкетирования, то опциональный вопрос может не иметь ответа, поэтому такие записи пропускаются. При разработке моделей машинного обучения с пропусками ведется отдельная работа, но для сырых данных - это нормальное явление."
      ]
    },
    {
      "cell_type": "markdown",
      "metadata": {
        "id": "N8tbu882Hmqj"
      },
      "source": [
        "# Типы данных"
      ]
    },
    {
      "cell_type": "markdown",
      "metadata": {
        "id": "JhS1UIMCHoIE"
      },
      "source": [
        "Как и в numpy, pandas поддерживает различные типы данных. Для примера создадим фрейм, в котором колонки имеют разные типы данных:"
      ]
    },
    {
      "cell_type": "code",
      "metadata": {
        "id": "Gals1YglIwGr",
        "outputId": "16c1df78-abf8-4a53-b3ef-525780e767b2",
        "colab": {
          "base_uri": "https://localhost:8080/",
          "height": 173
        }
      },
      "source": [
        "df = pd.DataFrame({'A': 1.,\n",
        "                   'B': pd.Timestamp('20130102'),\n",
        "                   'C': np.array([2.] * 4, dtype='float32'),\n",
        "                   'D': np.array([3] * 4, dtype='int32'),\n",
        "                   'E': pd.Categorical([\"test\", \"train\", \"test\", \"train\"]),\n",
        "                   'F': 'foo',\n",
        "                   'G': ['ghbdtn']*4})\n",
        "df"
      ],
      "execution_count": 23,
      "outputs": [
        {
          "output_type": "execute_result",
          "data": {
            "text/html": [
              "<div>\n",
              "<style scoped>\n",
              "    .dataframe tbody tr th:only-of-type {\n",
              "        vertical-align: middle;\n",
              "    }\n",
              "\n",
              "    .dataframe tbody tr th {\n",
              "        vertical-align: top;\n",
              "    }\n",
              "\n",
              "    .dataframe thead th {\n",
              "        text-align: right;\n",
              "    }\n",
              "</style>\n",
              "<table border=\"1\" class=\"dataframe\">\n",
              "  <thead>\n",
              "    <tr style=\"text-align: right;\">\n",
              "      <th></th>\n",
              "      <th>A</th>\n",
              "      <th>B</th>\n",
              "      <th>C</th>\n",
              "      <th>D</th>\n",
              "      <th>E</th>\n",
              "      <th>F</th>\n",
              "      <th>G</th>\n",
              "    </tr>\n",
              "  </thead>\n",
              "  <tbody>\n",
              "    <tr>\n",
              "      <th>0</th>\n",
              "      <td>1.0</td>\n",
              "      <td>2013-01-02</td>\n",
              "      <td>2.0</td>\n",
              "      <td>3</td>\n",
              "      <td>test</td>\n",
              "      <td>foo</td>\n",
              "      <td>ghbdtn</td>\n",
              "    </tr>\n",
              "    <tr>\n",
              "      <th>1</th>\n",
              "      <td>1.0</td>\n",
              "      <td>2013-01-02</td>\n",
              "      <td>2.0</td>\n",
              "      <td>3</td>\n",
              "      <td>train</td>\n",
              "      <td>foo</td>\n",
              "      <td>ghbdtn</td>\n",
              "    </tr>\n",
              "    <tr>\n",
              "      <th>2</th>\n",
              "      <td>1.0</td>\n",
              "      <td>2013-01-02</td>\n",
              "      <td>2.0</td>\n",
              "      <td>3</td>\n",
              "      <td>test</td>\n",
              "      <td>foo</td>\n",
              "      <td>ghbdtn</td>\n",
              "    </tr>\n",
              "    <tr>\n",
              "      <th>3</th>\n",
              "      <td>1.0</td>\n",
              "      <td>2013-01-02</td>\n",
              "      <td>2.0</td>\n",
              "      <td>3</td>\n",
              "      <td>train</td>\n",
              "      <td>foo</td>\n",
              "      <td>ghbdtn</td>\n",
              "    </tr>\n",
              "  </tbody>\n",
              "</table>\n",
              "</div>"
            ],
            "text/plain": [
              "     A          B    C  D      E    F       G\n",
              "0  1.0 2013-01-02  2.0  3   test  foo  ghbdtn\n",
              "1  1.0 2013-01-02  2.0  3  train  foo  ghbdtn\n",
              "2  1.0 2013-01-02  2.0  3   test  foo  ghbdtn\n",
              "3  1.0 2013-01-02  2.0  3  train  foo  ghbdtn"
            ]
          },
          "metadata": {
            "tags": []
          },
          "execution_count": 23
        }
      ]
    },
    {
      "cell_type": "markdown",
      "metadata": {
        "id": "RmHIzPEnJCj3"
      },
      "source": [
        "Как видите, создается фрейм, в котором каждая колонка имеет свой тип. Из них для нас имеются два новых типа:\n",
        "- `Timestamp` - конструктор для временного типа в pandas (`datetime64`);\n",
        "- `Categorical` - категориальный тип, который в большинстве своем является альтернативой численным данным.\n",
        "\n",
        "> **Категориальные данные** - данные, значения которых ограничены списком категорий (одно из возможных значений);\n",
        "\n",
        "> **Численные данные** - данные, которые имеют численное значение (вещественное или целочисленное).\n",
        "\n",
        "Для просмотра информации о фрейме полезно использовать метод `DataFrame.info()`:"
      ]
    },
    {
      "cell_type": "code",
      "metadata": {
        "id": "yQ-DhPj8I7HZ",
        "outputId": "9aea39cc-1904-4dfb-8dcf-2b01bcf507f4",
        "colab": {
          "base_uri": "https://localhost:8080/",
          "height": 255
        }
      },
      "source": [
        "df.info()"
      ],
      "execution_count": 24,
      "outputs": [
        {
          "output_type": "stream",
          "text": [
            "<class 'pandas.core.frame.DataFrame'>\n",
            "RangeIndex: 4 entries, 0 to 3\n",
            "Data columns (total 7 columns):\n",
            " #   Column  Non-Null Count  Dtype         \n",
            "---  ------  --------------  -----         \n",
            " 0   A       4 non-null      float64       \n",
            " 1   B       4 non-null      datetime64[ns]\n",
            " 2   C       4 non-null      float32       \n",
            " 3   D       4 non-null      int32         \n",
            " 4   E       4 non-null      category      \n",
            " 5   F       4 non-null      object        \n",
            " 6   G       4 non-null      object        \n",
            "dtypes: category(1), datetime64[ns](1), float32(1), float64(1), int32(1), object(2)\n",
            "memory usage: 388.0+ bytes\n"
          ],
          "name": "stdout"
        }
      ]
    },
    {
      "cell_type": "markdown",
      "metadata": {
        "id": "MKHizp4tLCQ3"
      },
      "source": [
        "Если тип данных не задан явно как категориальный, то строки будут иметь тип `object`, как универсальный тип данных."
      ]
    },
    {
      "cell_type": "markdown",
      "metadata": {
        "id": "XtXeG0mrNRwW"
      },
      "source": [
        "# Обзор данных"
      ]
    },
    {
      "cell_type": "markdown",
      "metadata": {
        "id": "9EM78zz3NTY1"
      },
      "source": [
        "Начало любого анализа данных происходит с того, что мы должны разобраться, с чем имеем дело, поэтому возможности быстрого обзора данных - то, что нужно:"
      ]
    },
    {
      "cell_type": "code",
      "metadata": {
        "id": "bJNK6MJANiJc",
        "outputId": "4ef35d4e-0cff-45eb-f670-2121154a72e4",
        "colab": {
          "base_uri": "https://localhost:8080/",
          "height": 173
        }
      },
      "source": [
        "df = pd.DataFrame(\n",
        "    data=np.random.randint(-10, 10, size=(15, 3)), \n",
        "    columns=['x1', 'x2', 'x3']\n",
        ")\n",
        "\n",
        "# Функция получения первых записей фрейма\n",
        "# Аргументом задается количество выводимых данных\n",
        "#   Если не задано - 5 по-умолчанию\n",
        "df.head(4)"
      ],
      "execution_count": 25,
      "outputs": [
        {
          "output_type": "execute_result",
          "data": {
            "text/html": [
              "<div>\n",
              "<style scoped>\n",
              "    .dataframe tbody tr th:only-of-type {\n",
              "        vertical-align: middle;\n",
              "    }\n",
              "\n",
              "    .dataframe tbody tr th {\n",
              "        vertical-align: top;\n",
              "    }\n",
              "\n",
              "    .dataframe thead th {\n",
              "        text-align: right;\n",
              "    }\n",
              "</style>\n",
              "<table border=\"1\" class=\"dataframe\">\n",
              "  <thead>\n",
              "    <tr style=\"text-align: right;\">\n",
              "      <th></th>\n",
              "      <th>x1</th>\n",
              "      <th>x2</th>\n",
              "      <th>x3</th>\n",
              "    </tr>\n",
              "  </thead>\n",
              "  <tbody>\n",
              "    <tr>\n",
              "      <th>0</th>\n",
              "      <td>9</td>\n",
              "      <td>-6</td>\n",
              "      <td>4</td>\n",
              "    </tr>\n",
              "    <tr>\n",
              "      <th>1</th>\n",
              "      <td>1</td>\n",
              "      <td>9</td>\n",
              "      <td>8</td>\n",
              "    </tr>\n",
              "    <tr>\n",
              "      <th>2</th>\n",
              "      <td>9</td>\n",
              "      <td>-4</td>\n",
              "      <td>-1</td>\n",
              "    </tr>\n",
              "    <tr>\n",
              "      <th>3</th>\n",
              "      <td>2</td>\n",
              "      <td>-10</td>\n",
              "      <td>-4</td>\n",
              "    </tr>\n",
              "  </tbody>\n",
              "</table>\n",
              "</div>"
            ],
            "text/plain": [
              "   x1  x2  x3\n",
              "0   9  -6   4\n",
              "1   1   9   8\n",
              "2   9  -4  -1\n",
              "3   2 -10  -4"
            ]
          },
          "metadata": {
            "tags": []
          },
          "execution_count": 25
        }
      ]
    },
    {
      "cell_type": "code",
      "metadata": {
        "id": "cuGijZBWN0Rc",
        "outputId": "932cf629-a6e9-44ed-ca78-1cd5ff8b7b7e",
        "colab": {
          "base_uri": "https://localhost:8080/",
          "height": 173
        }
      },
      "source": [
        "# Функция получения последних записей фрейма\n",
        "# Аргументом задается количество выводимых данных\n",
        "#   Если не задано - 5 по-умолчанию\n",
        "df.tail(4)"
      ],
      "execution_count": 26,
      "outputs": [
        {
          "output_type": "execute_result",
          "data": {
            "text/html": [
              "<div>\n",
              "<style scoped>\n",
              "    .dataframe tbody tr th:only-of-type {\n",
              "        vertical-align: middle;\n",
              "    }\n",
              "\n",
              "    .dataframe tbody tr th {\n",
              "        vertical-align: top;\n",
              "    }\n",
              "\n",
              "    .dataframe thead th {\n",
              "        text-align: right;\n",
              "    }\n",
              "</style>\n",
              "<table border=\"1\" class=\"dataframe\">\n",
              "  <thead>\n",
              "    <tr style=\"text-align: right;\">\n",
              "      <th></th>\n",
              "      <th>x1</th>\n",
              "      <th>x2</th>\n",
              "      <th>x3</th>\n",
              "    </tr>\n",
              "  </thead>\n",
              "  <tbody>\n",
              "    <tr>\n",
              "      <th>11</th>\n",
              "      <td>6</td>\n",
              "      <td>-10</td>\n",
              "      <td>3</td>\n",
              "    </tr>\n",
              "    <tr>\n",
              "      <th>12</th>\n",
              "      <td>-1</td>\n",
              "      <td>4</td>\n",
              "      <td>-5</td>\n",
              "    </tr>\n",
              "    <tr>\n",
              "      <th>13</th>\n",
              "      <td>-2</td>\n",
              "      <td>4</td>\n",
              "      <td>4</td>\n",
              "    </tr>\n",
              "    <tr>\n",
              "      <th>14</th>\n",
              "      <td>6</td>\n",
              "      <td>0</td>\n",
              "      <td>-5</td>\n",
              "    </tr>\n",
              "  </tbody>\n",
              "</table>\n",
              "</div>"
            ],
            "text/plain": [
              "    x1  x2  x3\n",
              "11   6 -10   3\n",
              "12  -1   4  -5\n",
              "13  -2   4   4\n",
              "14   6   0  -5"
            ]
          },
          "metadata": {
            "tags": []
          },
          "execution_count": 26
        }
      ]
    },
    {
      "cell_type": "code",
      "metadata": {
        "id": "uXCm5zZiN6HB",
        "outputId": "3495a9a4-4b29-4303-f54e-0e5a648bb43a",
        "colab": {
          "base_uri": "https://localhost:8080/",
          "height": 187
        }
      },
      "source": [
        "# Функция отображения основной информации о фрейме:\n",
        "#   Количество записей\n",
        "#   Типы колонок\n",
        "#   Количество ненулевых значений\n",
        "#   Тип индекса\n",
        "df.info()"
      ],
      "execution_count": 27,
      "outputs": [
        {
          "output_type": "stream",
          "text": [
            "<class 'pandas.core.frame.DataFrame'>\n",
            "RangeIndex: 15 entries, 0 to 14\n",
            "Data columns (total 3 columns):\n",
            " #   Column  Non-Null Count  Dtype\n",
            "---  ------  --------------  -----\n",
            " 0   x1      15 non-null     int64\n",
            " 1   x2      15 non-null     int64\n",
            " 2   x3      15 non-null     int64\n",
            "dtypes: int64(3)\n",
            "memory usage: 488.0 bytes\n"
          ],
          "name": "stdout"
        }
      ]
    },
    {
      "cell_type": "code",
      "metadata": {
        "id": "Y0MfbDxMOPC4",
        "outputId": "0007c2db-466e-459f-f2d7-39caa9d31bd7",
        "colab": {
          "base_uri": "https://localhost:8080/",
          "height": 297
        }
      },
      "source": [
        "# Функция отображения статистики по численным колонкам\n",
        "# count - количество\n",
        "# mean - среднее \n",
        "# std - standard deviation - стандартное отклонение\n",
        "# min/max - экстремумы\n",
        "# 25%/75% квартили 1/4 и 3/4\n",
        "# 50% квантиль / медиана\n",
        "df.describe()"
      ],
      "execution_count": 28,
      "outputs": [
        {
          "output_type": "execute_result",
          "data": {
            "text/html": [
              "<div>\n",
              "<style scoped>\n",
              "    .dataframe tbody tr th:only-of-type {\n",
              "        vertical-align: middle;\n",
              "    }\n",
              "\n",
              "    .dataframe tbody tr th {\n",
              "        vertical-align: top;\n",
              "    }\n",
              "\n",
              "    .dataframe thead th {\n",
              "        text-align: right;\n",
              "    }\n",
              "</style>\n",
              "<table border=\"1\" class=\"dataframe\">\n",
              "  <thead>\n",
              "    <tr style=\"text-align: right;\">\n",
              "      <th></th>\n",
              "      <th>x1</th>\n",
              "      <th>x2</th>\n",
              "      <th>x3</th>\n",
              "    </tr>\n",
              "  </thead>\n",
              "  <tbody>\n",
              "    <tr>\n",
              "      <th>count</th>\n",
              "      <td>15.000000</td>\n",
              "      <td>15.000000</td>\n",
              "      <td>15.000000</td>\n",
              "    </tr>\n",
              "    <tr>\n",
              "      <th>mean</th>\n",
              "      <td>1.866667</td>\n",
              "      <td>-0.400000</td>\n",
              "      <td>-1.200000</td>\n",
              "    </tr>\n",
              "    <tr>\n",
              "      <th>std</th>\n",
              "      <td>5.792442</td>\n",
              "      <td>5.828501</td>\n",
              "      <td>5.544624</td>\n",
              "    </tr>\n",
              "    <tr>\n",
              "      <th>min</th>\n",
              "      <td>-10.000000</td>\n",
              "      <td>-10.000000</td>\n",
              "      <td>-7.000000</td>\n",
              "    </tr>\n",
              "    <tr>\n",
              "      <th>25%</th>\n",
              "      <td>-1.500000</td>\n",
              "      <td>-4.500000</td>\n",
              "      <td>-6.000000</td>\n",
              "    </tr>\n",
              "    <tr>\n",
              "      <th>50%</th>\n",
              "      <td>2.000000</td>\n",
              "      <td>0.000000</td>\n",
              "      <td>-4.000000</td>\n",
              "    </tr>\n",
              "    <tr>\n",
              "      <th>75%</th>\n",
              "      <td>6.000000</td>\n",
              "      <td>4.000000</td>\n",
              "      <td>3.500000</td>\n",
              "    </tr>\n",
              "    <tr>\n",
              "      <th>max</th>\n",
              "      <td>9.000000</td>\n",
              "      <td>9.000000</td>\n",
              "      <td>8.000000</td>\n",
              "    </tr>\n",
              "  </tbody>\n",
              "</table>\n",
              "</div>"
            ],
            "text/plain": [
              "              x1         x2         x3\n",
              "count  15.000000  15.000000  15.000000\n",
              "mean    1.866667  -0.400000  -1.200000\n",
              "std     5.792442   5.828501   5.544624\n",
              "min   -10.000000 -10.000000  -7.000000\n",
              "25%    -1.500000  -4.500000  -6.000000\n",
              "50%     2.000000   0.000000  -4.000000\n",
              "75%     6.000000   4.000000   3.500000\n",
              "max     9.000000   9.000000   8.000000"
            ]
          },
          "metadata": {
            "tags": []
          },
          "execution_count": 28
        }
      ]
    },
    {
      "cell_type": "code",
      "metadata": {
        "id": "-kRXV1P2OfHP",
        "outputId": "0ef86f9b-7243-4b9b-e06d-8251b375c6b6",
        "colab": {
          "base_uri": "https://localhost:8080/",
          "height": 34
        }
      },
      "source": [
        "# Атрибут получения индексов фрейма\n",
        "df.index"
      ],
      "execution_count": 29,
      "outputs": [
        {
          "output_type": "execute_result",
          "data": {
            "text/plain": [
              "RangeIndex(start=0, stop=15, step=1)"
            ]
          },
          "metadata": {
            "tags": []
          },
          "execution_count": 29
        }
      ]
    },
    {
      "cell_type": "code",
      "metadata": {
        "id": "TsPphCdAapK9",
        "outputId": "4bb274e5-c89c-4c05-fc6d-bf3a87356ea4",
        "colab": {
          "base_uri": "https://localhost:8080/",
          "height": 34
        }
      },
      "source": [
        "# Или чтобы представить в виде списка\n",
        "list(df.index)"
      ],
      "execution_count": 30,
      "outputs": [
        {
          "output_type": "execute_result",
          "data": {
            "text/plain": [
              "[0, 1, 2, 3, 4, 5, 6, 7, 8, 9, 10, 11, 12, 13, 14]"
            ]
          },
          "metadata": {
            "tags": []
          },
          "execution_count": 30
        }
      ]
    },
    {
      "cell_type": "code",
      "metadata": {
        "id": "H-ohc7UJOmIO",
        "outputId": "ba2a20fe-90ed-467a-9433-4cfa2715f562",
        "colab": {
          "base_uri": "https://localhost:8080/",
          "height": 34
        }
      },
      "source": [
        "# Атрибут получения имен колонок фрейма\n",
        "df.columns"
      ],
      "execution_count": 31,
      "outputs": [
        {
          "output_type": "execute_result",
          "data": {
            "text/plain": [
              "Index(['x1', 'x2', 'x3'], dtype='object')"
            ]
          },
          "metadata": {
            "tags": []
          },
          "execution_count": 31
        }
      ]
    },
    {
      "cell_type": "code",
      "metadata": {
        "id": "na-OEHT92dln",
        "outputId": "c6fa1a87-fae5-4894-ab6d-3daa415452a3",
        "colab": {
          "base_uri": "https://localhost:8080/",
          "height": 34
        }
      },
      "source": [
        "# Атрибут размерности фрейма\n",
        "df.shape"
      ],
      "execution_count": 32,
      "outputs": [
        {
          "output_type": "execute_result",
          "data": {
            "text/plain": [
              "(15, 3)"
            ]
          },
          "metadata": {
            "tags": []
          },
          "execution_count": 32
        }
      ]
    },
    {
      "cell_type": "code",
      "metadata": {
        "id": "Qa5POknMO2xm",
        "outputId": "ec0171a3-95f9-4487-e9d5-4b4d76747e85",
        "colab": {
          "base_uri": "https://localhost:8080/",
          "height": 272
        }
      },
      "source": [
        "# Преобразование к двумерному массиву numpy\n",
        "df.to_numpy()"
      ],
      "execution_count": 33,
      "outputs": [
        {
          "output_type": "execute_result",
          "data": {
            "text/plain": [
              "array([[  9,  -6,   4],\n",
              "       [  1,   9,   8],\n",
              "       [  9,  -4,  -1],\n",
              "       [  2, -10,  -4],\n",
              "       [ -2,   0,  -7],\n",
              "       [ -8,   7,  -7],\n",
              "       [  6,  -3,  -7],\n",
              "       [  3,   1,  -7],\n",
              "       [  1,  -5,   8],\n",
              "       [  8,   2,   2],\n",
              "       [-10,   5,  -4],\n",
              "       [  6, -10,   3],\n",
              "       [ -1,   4,  -5],\n",
              "       [ -2,   4,   4],\n",
              "       [  6,   0,  -5]])"
            ]
          },
          "metadata": {
            "tags": []
          },
          "execution_count": 33
        }
      ]
    },
    {
      "cell_type": "code",
      "metadata": {
        "id": "kdILwsLJPGJf",
        "outputId": "42c24b1b-62ff-42dd-b9a3-38a69af6bf52",
        "colab": {
          "base_uri": "https://localhost:8080/",
          "height": 142
        }
      },
      "source": [
        "# Получение транспонированного представления\n",
        "# Колонки -> ряды, ряды -> колонки\n",
        "df.T\n",
        "\n",
        "# (*) Транспонирование вряд ли часто понадобится при анализе, но учитывать стоит"
      ],
      "execution_count": 34,
      "outputs": [
        {
          "output_type": "execute_result",
          "data": {
            "text/html": [
              "<div>\n",
              "<style scoped>\n",
              "    .dataframe tbody tr th:only-of-type {\n",
              "        vertical-align: middle;\n",
              "    }\n",
              "\n",
              "    .dataframe tbody tr th {\n",
              "        vertical-align: top;\n",
              "    }\n",
              "\n",
              "    .dataframe thead th {\n",
              "        text-align: right;\n",
              "    }\n",
              "</style>\n",
              "<table border=\"1\" class=\"dataframe\">\n",
              "  <thead>\n",
              "    <tr style=\"text-align: right;\">\n",
              "      <th></th>\n",
              "      <th>0</th>\n",
              "      <th>1</th>\n",
              "      <th>2</th>\n",
              "      <th>3</th>\n",
              "      <th>4</th>\n",
              "      <th>5</th>\n",
              "      <th>6</th>\n",
              "      <th>7</th>\n",
              "      <th>8</th>\n",
              "      <th>9</th>\n",
              "      <th>10</th>\n",
              "      <th>11</th>\n",
              "      <th>12</th>\n",
              "      <th>13</th>\n",
              "      <th>14</th>\n",
              "    </tr>\n",
              "  </thead>\n",
              "  <tbody>\n",
              "    <tr>\n",
              "      <th>x1</th>\n",
              "      <td>9</td>\n",
              "      <td>1</td>\n",
              "      <td>9</td>\n",
              "      <td>2</td>\n",
              "      <td>-2</td>\n",
              "      <td>-8</td>\n",
              "      <td>6</td>\n",
              "      <td>3</td>\n",
              "      <td>1</td>\n",
              "      <td>8</td>\n",
              "      <td>-10</td>\n",
              "      <td>6</td>\n",
              "      <td>-1</td>\n",
              "      <td>-2</td>\n",
              "      <td>6</td>\n",
              "    </tr>\n",
              "    <tr>\n",
              "      <th>x2</th>\n",
              "      <td>-6</td>\n",
              "      <td>9</td>\n",
              "      <td>-4</td>\n",
              "      <td>-10</td>\n",
              "      <td>0</td>\n",
              "      <td>7</td>\n",
              "      <td>-3</td>\n",
              "      <td>1</td>\n",
              "      <td>-5</td>\n",
              "      <td>2</td>\n",
              "      <td>5</td>\n",
              "      <td>-10</td>\n",
              "      <td>4</td>\n",
              "      <td>4</td>\n",
              "      <td>0</td>\n",
              "    </tr>\n",
              "    <tr>\n",
              "      <th>x3</th>\n",
              "      <td>4</td>\n",
              "      <td>8</td>\n",
              "      <td>-1</td>\n",
              "      <td>-4</td>\n",
              "      <td>-7</td>\n",
              "      <td>-7</td>\n",
              "      <td>-7</td>\n",
              "      <td>-7</td>\n",
              "      <td>8</td>\n",
              "      <td>2</td>\n",
              "      <td>-4</td>\n",
              "      <td>3</td>\n",
              "      <td>-5</td>\n",
              "      <td>4</td>\n",
              "      <td>-5</td>\n",
              "    </tr>\n",
              "  </tbody>\n",
              "</table>\n",
              "</div>"
            ],
            "text/plain": [
              "    0  1  2   3  4  5  6  7  8  9  10  11  12  13  14\n",
              "x1  9  1  9   2 -2 -8  6  3  1  8 -10   6  -1  -2   6\n",
              "x2 -6  9 -4 -10  0  7 -3  1 -5  2   5 -10   4   4   0\n",
              "x3  4  8 -1  -4 -7 -7 -7 -7  8  2  -4   3  -5   4  -5"
            ]
          },
          "metadata": {
            "tags": []
          },
          "execution_count": 34
        }
      ]
    },
    {
      "cell_type": "markdown",
      "metadata": {
        "id": "jJ-4jpR4Amqg"
      },
      "source": [
        "# Обращение к данным"
      ]
    },
    {
      "cell_type": "markdown",
      "metadata": {
        "id": "3zVtiVD4Bb_o"
      },
      "source": [
        "Так как данные представлены в виде двумерного массива, то обращение к ним является важным инструментом.\n",
        "\n",
        "Начнем с того, чтобы обращаться к конкретной колонке:"
      ]
    },
    {
      "cell_type": "code",
      "metadata": {
        "id": "L84Jgn8xFqeZ",
        "outputId": "aa9efcf7-8fa0-4325-eecd-651297237956",
        "colab": {
          "base_uri": "https://localhost:8080/",
          "height": 204
        }
      },
      "source": [
        "df = pd.DataFrame(\n",
        "    data=np.random.randint(0, 10, size=(5, 3)), \n",
        "    columns=['x1', 'x2', 'x3']\n",
        ")\n",
        "\n",
        "df"
      ],
      "execution_count": 35,
      "outputs": [
        {
          "output_type": "execute_result",
          "data": {
            "text/html": [
              "<div>\n",
              "<style scoped>\n",
              "    .dataframe tbody tr th:only-of-type {\n",
              "        vertical-align: middle;\n",
              "    }\n",
              "\n",
              "    .dataframe tbody tr th {\n",
              "        vertical-align: top;\n",
              "    }\n",
              "\n",
              "    .dataframe thead th {\n",
              "        text-align: right;\n",
              "    }\n",
              "</style>\n",
              "<table border=\"1\" class=\"dataframe\">\n",
              "  <thead>\n",
              "    <tr style=\"text-align: right;\">\n",
              "      <th></th>\n",
              "      <th>x1</th>\n",
              "      <th>x2</th>\n",
              "      <th>x3</th>\n",
              "    </tr>\n",
              "  </thead>\n",
              "  <tbody>\n",
              "    <tr>\n",
              "      <th>0</th>\n",
              "      <td>8</td>\n",
              "      <td>9</td>\n",
              "      <td>9</td>\n",
              "    </tr>\n",
              "    <tr>\n",
              "      <th>1</th>\n",
              "      <td>1</td>\n",
              "      <td>1</td>\n",
              "      <td>2</td>\n",
              "    </tr>\n",
              "    <tr>\n",
              "      <th>2</th>\n",
              "      <td>4</td>\n",
              "      <td>3</td>\n",
              "      <td>3</td>\n",
              "    </tr>\n",
              "    <tr>\n",
              "      <th>3</th>\n",
              "      <td>5</td>\n",
              "      <td>2</td>\n",
              "      <td>1</td>\n",
              "    </tr>\n",
              "    <tr>\n",
              "      <th>4</th>\n",
              "      <td>4</td>\n",
              "      <td>6</td>\n",
              "      <td>9</td>\n",
              "    </tr>\n",
              "  </tbody>\n",
              "</table>\n",
              "</div>"
            ],
            "text/plain": [
              "   x1  x2  x3\n",
              "0   8   9   9\n",
              "1   1   1   2\n",
              "2   4   3   3\n",
              "3   5   2   1\n",
              "4   4   6   9"
            ]
          },
          "metadata": {
            "tags": []
          },
          "execution_count": 35
        }
      ]
    },
    {
      "cell_type": "code",
      "metadata": {
        "id": "xi4PIyZpFzzp",
        "outputId": "514a9927-a552-45e4-9d43-dacee30918a2",
        "colab": {
          "base_uri": "https://localhost:8080/",
          "height": 153
        }
      },
      "source": [
        "print(df['x1'])\n",
        "print(type(df['x1']))\n",
        "print(type(df['x1'][0]))"
      ],
      "execution_count": 39,
      "outputs": [
        {
          "output_type": "stream",
          "text": [
            "0    8\n",
            "1    1\n",
            "2    4\n",
            "3    5\n",
            "4    4\n",
            "Name: x1, dtype: int64\n",
            "<class 'pandas.core.series.Series'>\n",
            "<class 'numpy.int64'>\n"
          ],
          "name": "stdout"
        }
      ]
    },
    {
      "cell_type": "markdown",
      "metadata": {
        "id": "yt-YPbzyF8zS"
      },
      "source": [
        "Индексация во фрейме по колонкам производится по имени колонок. В результате создается объект `Series` (ряд), который является одномерным массивом. В случае индексации по колонкам каждая запись в ряду имеет индекс из основного фрейма."
      ]
    },
    {
      "cell_type": "markdown",
      "metadata": {
        "id": "jdz_KJZNP7FK"
      },
      "source": [
        "Аналогичный тип данных создается, когда мы обращаемся к конкретной записи в данных. Кстати, просто так не обратиться, поэтому для индексации по записям используются методы `DataFrame.iloc[]` и `DataFrame.loc[]`.\n",
        "\n",
        "Взгляните на разницу:"
      ]
    },
    {
      "cell_type": "code",
      "metadata": {
        "id": "6Qk0PYvSQfJ2",
        "outputId": "804b3a81-8960-4d99-d510-5a81c50e5eb6",
        "colab": {
          "base_uri": "https://localhost:8080/",
          "height": 204
        }
      },
      "source": [
        "data = {\n",
        "    'feature1': np.arange(15),\n",
        "    'feature2': np.linspace(0, 10, 15),\n",
        "    'feature3': 'string',\n",
        "}\n",
        "df = pd.DataFrame(data, index=list('ABCDEFGHIJKLMNO'))\n",
        "df.head()"
      ],
      "execution_count": 40,
      "outputs": [
        {
          "output_type": "execute_result",
          "data": {
            "text/html": [
              "<div>\n",
              "<style scoped>\n",
              "    .dataframe tbody tr th:only-of-type {\n",
              "        vertical-align: middle;\n",
              "    }\n",
              "\n",
              "    .dataframe tbody tr th {\n",
              "        vertical-align: top;\n",
              "    }\n",
              "\n",
              "    .dataframe thead th {\n",
              "        text-align: right;\n",
              "    }\n",
              "</style>\n",
              "<table border=\"1\" class=\"dataframe\">\n",
              "  <thead>\n",
              "    <tr style=\"text-align: right;\">\n",
              "      <th></th>\n",
              "      <th>feature1</th>\n",
              "      <th>feature2</th>\n",
              "      <th>feature3</th>\n",
              "    </tr>\n",
              "  </thead>\n",
              "  <tbody>\n",
              "    <tr>\n",
              "      <th>A</th>\n",
              "      <td>0</td>\n",
              "      <td>0.000000</td>\n",
              "      <td>string</td>\n",
              "    </tr>\n",
              "    <tr>\n",
              "      <th>B</th>\n",
              "      <td>1</td>\n",
              "      <td>0.714286</td>\n",
              "      <td>string</td>\n",
              "    </tr>\n",
              "    <tr>\n",
              "      <th>C</th>\n",
              "      <td>2</td>\n",
              "      <td>1.428571</td>\n",
              "      <td>string</td>\n",
              "    </tr>\n",
              "    <tr>\n",
              "      <th>D</th>\n",
              "      <td>3</td>\n",
              "      <td>2.142857</td>\n",
              "      <td>string</td>\n",
              "    </tr>\n",
              "    <tr>\n",
              "      <th>E</th>\n",
              "      <td>4</td>\n",
              "      <td>2.857143</td>\n",
              "      <td>string</td>\n",
              "    </tr>\n",
              "  </tbody>\n",
              "</table>\n",
              "</div>"
            ],
            "text/plain": [
              "   feature1  feature2 feature3\n",
              "A         0  0.000000   string\n",
              "B         1  0.714286   string\n",
              "C         2  1.428571   string\n",
              "D         3  2.142857   string\n",
              "E         4  2.857143   string"
            ]
          },
          "metadata": {
            "tags": []
          },
          "execution_count": 40
        }
      ]
    },
    {
      "cell_type": "code",
      "metadata": {
        "id": "146jUYuDRIqL",
        "outputId": "63d65c8b-880c-4a7d-f242-a7fea2242ae6",
        "colab": {
          "base_uri": "https://localhost:8080/",
          "height": 85
        }
      },
      "source": [
        "df.iloc[2]"
      ],
      "execution_count": 41,
      "outputs": [
        {
          "output_type": "execute_result",
          "data": {
            "text/plain": [
              "feature1          2\n",
              "feature2    1.42857\n",
              "feature3     string\n",
              "Name: C, dtype: object"
            ]
          },
          "metadata": {
            "tags": []
          },
          "execution_count": 41
        }
      ]
    },
    {
      "cell_type": "code",
      "metadata": {
        "id": "xNER-5W-RK_4",
        "outputId": "70d6afda-577e-45d2-dfcf-c6ffaccd17ab",
        "colab": {
          "base_uri": "https://localhost:8080/",
          "height": 85
        }
      },
      "source": [
        "df.loc['C']"
      ],
      "execution_count": 42,
      "outputs": [
        {
          "output_type": "execute_result",
          "data": {
            "text/plain": [
              "feature1          2\n",
              "feature2    1.42857\n",
              "feature3     string\n",
              "Name: C, dtype: object"
            ]
          },
          "metadata": {
            "tags": []
          },
          "execution_count": 42
        }
      ]
    },
    {
      "cell_type": "code",
      "metadata": {
        "id": "WUGvwU1vRTvj",
        "outputId": "d014ade3-3a45-41e3-a3c0-05ac9c8c5024",
        "colab": {
          "base_uri": "https://localhost:8080/",
          "height": 34
        }
      },
      "source": [
        "df.iloc[2, 1]"
      ],
      "execution_count": 43,
      "outputs": [
        {
          "output_type": "execute_result",
          "data": {
            "text/plain": [
              "1.4285714285714286"
            ]
          },
          "metadata": {
            "tags": []
          },
          "execution_count": 43
        }
      ]
    },
    {
      "cell_type": "code",
      "metadata": {
        "id": "8CnUrklnRb0M",
        "outputId": "6205dae0-ff80-4bc7-be05-ce0401ce8423",
        "colab": {
          "base_uri": "https://localhost:8080/",
          "height": 34
        }
      },
      "source": [
        "df.loc['C', 'feature2']"
      ],
      "execution_count": 44,
      "outputs": [
        {
          "output_type": "execute_result",
          "data": {
            "text/plain": [
              "1.4285714285714286"
            ]
          },
          "metadata": {
            "tags": []
          },
          "execution_count": 44
        }
      ]
    },
    {
      "cell_type": "markdown",
      "metadata": {
        "id": "TXzXJmmbRilU"
      },
      "source": [
        "Если разница не явна, то обсудим:\n",
        "> `.iloc[]` используется для обращения по индексам как рядов, так и колонок;\n",
        "\n",
        "> `.loc[]` используется для обращения по именованиям как рядов, так и колонок.\n",
        "\n",
        "В индексации можно применять как слайсы, подобно тем, что научились применять в numpy, так и массивы в качестве индексов.\n",
        "\n",
        "При индексации по единственной строке создается объект `Series`, но уже с индексами в виде колонок.\n"
      ]
    },
    {
      "cell_type": "markdown",
      "metadata": {
        "id": "IQZEyGyrR3cb"
      },
      "source": [
        "## Задание\n",
        "\n",
        "Выведите часть фрейма со второго ряда по девятый (индексы с 'C' по 'I') и только `feature1` и `feature3`:"
      ]
    },
    {
      "cell_type": "code",
      "metadata": {
        "id": "Cp60LdlbSC4C",
        "outputId": "f65478a0-db46-40ae-c231-b83338c367b1",
        "colab": {
          "base_uri": "https://localhost:8080/",
          "height": 204
        }
      },
      "source": [
        "data = {\n",
        "    'feature1': np.arange(15),\n",
        "    'feature2': np.linspace(0, 10, 15),\n",
        "    'feature3': 'string',\n",
        "}\n",
        "df = pd.DataFrame(data, index=list('ABCDEFGHIJKLMNO'))\n",
        "df.head()"
      ],
      "execution_count": 45,
      "outputs": [
        {
          "output_type": "execute_result",
          "data": {
            "text/html": [
              "<div>\n",
              "<style scoped>\n",
              "    .dataframe tbody tr th:only-of-type {\n",
              "        vertical-align: middle;\n",
              "    }\n",
              "\n",
              "    .dataframe tbody tr th {\n",
              "        vertical-align: top;\n",
              "    }\n",
              "\n",
              "    .dataframe thead th {\n",
              "        text-align: right;\n",
              "    }\n",
              "</style>\n",
              "<table border=\"1\" class=\"dataframe\">\n",
              "  <thead>\n",
              "    <tr style=\"text-align: right;\">\n",
              "      <th></th>\n",
              "      <th>feature1</th>\n",
              "      <th>feature2</th>\n",
              "      <th>feature3</th>\n",
              "    </tr>\n",
              "  </thead>\n",
              "  <tbody>\n",
              "    <tr>\n",
              "      <th>A</th>\n",
              "      <td>0</td>\n",
              "      <td>0.000000</td>\n",
              "      <td>string</td>\n",
              "    </tr>\n",
              "    <tr>\n",
              "      <th>B</th>\n",
              "      <td>1</td>\n",
              "      <td>0.714286</td>\n",
              "      <td>string</td>\n",
              "    </tr>\n",
              "    <tr>\n",
              "      <th>C</th>\n",
              "      <td>2</td>\n",
              "      <td>1.428571</td>\n",
              "      <td>string</td>\n",
              "    </tr>\n",
              "    <tr>\n",
              "      <th>D</th>\n",
              "      <td>3</td>\n",
              "      <td>2.142857</td>\n",
              "      <td>string</td>\n",
              "    </tr>\n",
              "    <tr>\n",
              "      <th>E</th>\n",
              "      <td>4</td>\n",
              "      <td>2.857143</td>\n",
              "      <td>string</td>\n",
              "    </tr>\n",
              "  </tbody>\n",
              "</table>\n",
              "</div>"
            ],
            "text/plain": [
              "   feature1  feature2 feature3\n",
              "A         0  0.000000   string\n",
              "B         1  0.714286   string\n",
              "C         2  1.428571   string\n",
              "D         3  2.142857   string\n",
              "E         4  2.857143   string"
            ]
          },
          "metadata": {
            "tags": []
          },
          "execution_count": 45
        }
      ]
    },
    {
      "cell_type": "code",
      "metadata": {
        "id": "8qMFOU26SEKw",
        "outputId": "e9832383-9169-4253-fdba-e0f3b28f3d50",
        "colab": {
          "base_uri": "https://localhost:8080/",
          "height": 266
        }
      },
      "source": [
        "# TODO - выделите часть фрейма с помощью .loc[]\n",
        "df.loc[ ['C','D','E','F','G','H', 'I'], ['feature1','feature3']]"
      ],
      "execution_count": 57,
      "outputs": [
        {
          "output_type": "execute_result",
          "data": {
            "text/html": [
              "<div>\n",
              "<style scoped>\n",
              "    .dataframe tbody tr th:only-of-type {\n",
              "        vertical-align: middle;\n",
              "    }\n",
              "\n",
              "    .dataframe tbody tr th {\n",
              "        vertical-align: top;\n",
              "    }\n",
              "\n",
              "    .dataframe thead th {\n",
              "        text-align: right;\n",
              "    }\n",
              "</style>\n",
              "<table border=\"1\" class=\"dataframe\">\n",
              "  <thead>\n",
              "    <tr style=\"text-align: right;\">\n",
              "      <th></th>\n",
              "      <th>feature1</th>\n",
              "      <th>feature3</th>\n",
              "    </tr>\n",
              "  </thead>\n",
              "  <tbody>\n",
              "    <tr>\n",
              "      <th>C</th>\n",
              "      <td>2</td>\n",
              "      <td>string</td>\n",
              "    </tr>\n",
              "    <tr>\n",
              "      <th>D</th>\n",
              "      <td>3</td>\n",
              "      <td>string</td>\n",
              "    </tr>\n",
              "    <tr>\n",
              "      <th>E</th>\n",
              "      <td>4</td>\n",
              "      <td>string</td>\n",
              "    </tr>\n",
              "    <tr>\n",
              "      <th>F</th>\n",
              "      <td>5</td>\n",
              "      <td>string</td>\n",
              "    </tr>\n",
              "    <tr>\n",
              "      <th>G</th>\n",
              "      <td>6</td>\n",
              "      <td>string</td>\n",
              "    </tr>\n",
              "    <tr>\n",
              "      <th>H</th>\n",
              "      <td>7</td>\n",
              "      <td>string</td>\n",
              "    </tr>\n",
              "    <tr>\n",
              "      <th>I</th>\n",
              "      <td>8</td>\n",
              "      <td>string</td>\n",
              "    </tr>\n",
              "  </tbody>\n",
              "</table>\n",
              "</div>"
            ],
            "text/plain": [
              "   feature1 feature3\n",
              "C         2   string\n",
              "D         3   string\n",
              "E         4   string\n",
              "F         5   string\n",
              "G         6   string\n",
              "H         7   string\n",
              "I         8   string"
            ]
          },
          "metadata": {
            "tags": []
          },
          "execution_count": 57
        }
      ]
    },
    {
      "cell_type": "code",
      "metadata": {
        "id": "t7AO3Ge5SwgT",
        "outputId": "5889ef3d-646c-4790-8776-eb67f1d8ed28",
        "colab": {
          "base_uri": "https://localhost:8080/",
          "height": 266
        }
      },
      "source": [
        "# TODO - выделите часть фрейма с помощью .iloc[]\n",
        "df.iloc[range(2,9,1),[0,2]]"
      ],
      "execution_count": 58,
      "outputs": [
        {
          "output_type": "execute_result",
          "data": {
            "text/html": [
              "<div>\n",
              "<style scoped>\n",
              "    .dataframe tbody tr th:only-of-type {\n",
              "        vertical-align: middle;\n",
              "    }\n",
              "\n",
              "    .dataframe tbody tr th {\n",
              "        vertical-align: top;\n",
              "    }\n",
              "\n",
              "    .dataframe thead th {\n",
              "        text-align: right;\n",
              "    }\n",
              "</style>\n",
              "<table border=\"1\" class=\"dataframe\">\n",
              "  <thead>\n",
              "    <tr style=\"text-align: right;\">\n",
              "      <th></th>\n",
              "      <th>feature1</th>\n",
              "      <th>feature3</th>\n",
              "    </tr>\n",
              "  </thead>\n",
              "  <tbody>\n",
              "    <tr>\n",
              "      <th>C</th>\n",
              "      <td>2</td>\n",
              "      <td>string</td>\n",
              "    </tr>\n",
              "    <tr>\n",
              "      <th>D</th>\n",
              "      <td>3</td>\n",
              "      <td>string</td>\n",
              "    </tr>\n",
              "    <tr>\n",
              "      <th>E</th>\n",
              "      <td>4</td>\n",
              "      <td>string</td>\n",
              "    </tr>\n",
              "    <tr>\n",
              "      <th>F</th>\n",
              "      <td>5</td>\n",
              "      <td>string</td>\n",
              "    </tr>\n",
              "    <tr>\n",
              "      <th>G</th>\n",
              "      <td>6</td>\n",
              "      <td>string</td>\n",
              "    </tr>\n",
              "    <tr>\n",
              "      <th>H</th>\n",
              "      <td>7</td>\n",
              "      <td>string</td>\n",
              "    </tr>\n",
              "    <tr>\n",
              "      <th>I</th>\n",
              "      <td>8</td>\n",
              "      <td>string</td>\n",
              "    </tr>\n",
              "  </tbody>\n",
              "</table>\n",
              "</div>"
            ],
            "text/plain": [
              "   feature1 feature3\n",
              "C         2   string\n",
              "D         3   string\n",
              "E         4   string\n",
              "F         5   string\n",
              "G         6   string\n",
              "H         7   string\n",
              "I         8   string"
            ]
          },
          "metadata": {
            "tags": []
          },
          "execution_count": 58
        }
      ]
    },
    {
      "cell_type": "markdown",
      "metadata": {
        "id": "TTAoF4zjENYG"
      },
      "source": [
        "# Условная индексация"
      ]
    },
    {
      "cell_type": "markdown",
      "metadata": {
        "id": "z_s9peSYEPaB"
      },
      "source": [
        "При работе с данными часто необходимо выбрать часть данных по условному признаку. По аналогии с работой в numpy, применение булевых операторов на ряд данных создает такой же по размеру ряд из булевых элементов, представляющих собой маску:"
      ]
    },
    {
      "cell_type": "code",
      "metadata": {
        "id": "lnbE8vUyE1f4",
        "outputId": "1b516766-1f8b-4228-cc4d-f0d62e69a3cb",
        "colab": {
          "base_uri": "https://localhost:8080/",
          "height": 142
        }
      },
      "source": [
        "df = pd.DataFrame(\n",
        "    data=np.random.randint(0, 10, size=(15, 3)), \n",
        "    columns=['x1', 'x2', 'x3']\n",
        ")\n",
        "df.head(3)"
      ],
      "execution_count": 59,
      "outputs": [
        {
          "output_type": "execute_result",
          "data": {
            "text/html": [
              "<div>\n",
              "<style scoped>\n",
              "    .dataframe tbody tr th:only-of-type {\n",
              "        vertical-align: middle;\n",
              "    }\n",
              "\n",
              "    .dataframe tbody tr th {\n",
              "        vertical-align: top;\n",
              "    }\n",
              "\n",
              "    .dataframe thead th {\n",
              "        text-align: right;\n",
              "    }\n",
              "</style>\n",
              "<table border=\"1\" class=\"dataframe\">\n",
              "  <thead>\n",
              "    <tr style=\"text-align: right;\">\n",
              "      <th></th>\n",
              "      <th>x1</th>\n",
              "      <th>x2</th>\n",
              "      <th>x3</th>\n",
              "    </tr>\n",
              "  </thead>\n",
              "  <tbody>\n",
              "    <tr>\n",
              "      <th>0</th>\n",
              "      <td>9</td>\n",
              "      <td>4</td>\n",
              "      <td>9</td>\n",
              "    </tr>\n",
              "    <tr>\n",
              "      <th>1</th>\n",
              "      <td>7</td>\n",
              "      <td>4</td>\n",
              "      <td>3</td>\n",
              "    </tr>\n",
              "    <tr>\n",
              "      <th>2</th>\n",
              "      <td>0</td>\n",
              "      <td>2</td>\n",
              "      <td>4</td>\n",
              "    </tr>\n",
              "  </tbody>\n",
              "</table>\n",
              "</div>"
            ],
            "text/plain": [
              "   x1  x2  x3\n",
              "0   9   4   9\n",
              "1   7   4   3\n",
              "2   0   2   4"
            ]
          },
          "metadata": {
            "tags": []
          },
          "execution_count": 59
        }
      ]
    },
    {
      "cell_type": "code",
      "metadata": {
        "id": "p3AUBZupE2ke",
        "outputId": "3ba4c374-ca77-4eda-e5f4-f12d110c2612",
        "colab": {
          "base_uri": "https://localhost:8080/",
          "height": 289
        }
      },
      "source": [
        "df['x1'] > 5"
      ],
      "execution_count": 60,
      "outputs": [
        {
          "output_type": "execute_result",
          "data": {
            "text/plain": [
              "0      True\n",
              "1      True\n",
              "2     False\n",
              "3     False\n",
              "4      True\n",
              "5     False\n",
              "6     False\n",
              "7     False\n",
              "8     False\n",
              "9     False\n",
              "10    False\n",
              "11    False\n",
              "12     True\n",
              "13    False\n",
              "14     True\n",
              "Name: x1, dtype: bool"
            ]
          },
          "metadata": {
            "tags": []
          },
          "execution_count": 60
        }
      ]
    },
    {
      "cell_type": "markdown",
      "metadata": {
        "id": "KMgR5QXlHrci"
      },
      "source": [
        "После того, как маска получена, можно применить ее, чтобы выбрать конкретные записи (строки) данных. При этом, индексация маской работает как при использовании `[]`, так и при использовании `.loc[]`."
      ]
    },
    {
      "cell_type": "code",
      "metadata": {
        "id": "PDUJHQJxH8Ix",
        "outputId": "517dd7d7-c8ed-4c89-e90b-5865c02923ee",
        "colab": {
          "base_uri": "https://localhost:8080/",
          "height": 204
        }
      },
      "source": [
        "mask = df['x1'] > 5\n",
        "df[mask]\n",
        "\n",
        "# Или df[df['x1'] > 5]"
      ],
      "execution_count": 61,
      "outputs": [
        {
          "output_type": "execute_result",
          "data": {
            "text/html": [
              "<div>\n",
              "<style scoped>\n",
              "    .dataframe tbody tr th:only-of-type {\n",
              "        vertical-align: middle;\n",
              "    }\n",
              "\n",
              "    .dataframe tbody tr th {\n",
              "        vertical-align: top;\n",
              "    }\n",
              "\n",
              "    .dataframe thead th {\n",
              "        text-align: right;\n",
              "    }\n",
              "</style>\n",
              "<table border=\"1\" class=\"dataframe\">\n",
              "  <thead>\n",
              "    <tr style=\"text-align: right;\">\n",
              "      <th></th>\n",
              "      <th>x1</th>\n",
              "      <th>x2</th>\n",
              "      <th>x3</th>\n",
              "    </tr>\n",
              "  </thead>\n",
              "  <tbody>\n",
              "    <tr>\n",
              "      <th>0</th>\n",
              "      <td>9</td>\n",
              "      <td>4</td>\n",
              "      <td>9</td>\n",
              "    </tr>\n",
              "    <tr>\n",
              "      <th>1</th>\n",
              "      <td>7</td>\n",
              "      <td>4</td>\n",
              "      <td>3</td>\n",
              "    </tr>\n",
              "    <tr>\n",
              "      <th>4</th>\n",
              "      <td>9</td>\n",
              "      <td>4</td>\n",
              "      <td>6</td>\n",
              "    </tr>\n",
              "    <tr>\n",
              "      <th>12</th>\n",
              "      <td>6</td>\n",
              "      <td>9</td>\n",
              "      <td>5</td>\n",
              "    </tr>\n",
              "    <tr>\n",
              "      <th>14</th>\n",
              "      <td>6</td>\n",
              "      <td>3</td>\n",
              "      <td>4</td>\n",
              "    </tr>\n",
              "  </tbody>\n",
              "</table>\n",
              "</div>"
            ],
            "text/plain": [
              "    x1  x2  x3\n",
              "0    9   4   9\n",
              "1    7   4   3\n",
              "4    9   4   6\n",
              "12   6   9   5\n",
              "14   6   3   4"
            ]
          },
          "metadata": {
            "tags": []
          },
          "execution_count": 61
        }
      ]
    },
    {
      "cell_type": "markdown",
      "metadata": {
        "id": "xiPo4TS8bScn"
      },
      "source": [
        "Чтобы получить значения, обратные условию, можно воспользоваться оператором НЕ: `~` - он инвертирует маску условия:"
      ]
    },
    {
      "cell_type": "code",
      "metadata": {
        "id": "pE8S310qbb41",
        "outputId": "14a51c41-cb9d-4274-ae60-93e8248a7bdc",
        "colab": {
          "base_uri": "https://localhost:8080/",
          "height": 359
        }
      },
      "source": [
        "df[~(df['x1'] > 5)]"
      ],
      "execution_count": 62,
      "outputs": [
        {
          "output_type": "execute_result",
          "data": {
            "text/html": [
              "<div>\n",
              "<style scoped>\n",
              "    .dataframe tbody tr th:only-of-type {\n",
              "        vertical-align: middle;\n",
              "    }\n",
              "\n",
              "    .dataframe tbody tr th {\n",
              "        vertical-align: top;\n",
              "    }\n",
              "\n",
              "    .dataframe thead th {\n",
              "        text-align: right;\n",
              "    }\n",
              "</style>\n",
              "<table border=\"1\" class=\"dataframe\">\n",
              "  <thead>\n",
              "    <tr style=\"text-align: right;\">\n",
              "      <th></th>\n",
              "      <th>x1</th>\n",
              "      <th>x2</th>\n",
              "      <th>x3</th>\n",
              "    </tr>\n",
              "  </thead>\n",
              "  <tbody>\n",
              "    <tr>\n",
              "      <th>2</th>\n",
              "      <td>0</td>\n",
              "      <td>2</td>\n",
              "      <td>4</td>\n",
              "    </tr>\n",
              "    <tr>\n",
              "      <th>3</th>\n",
              "      <td>3</td>\n",
              "      <td>6</td>\n",
              "      <td>2</td>\n",
              "    </tr>\n",
              "    <tr>\n",
              "      <th>5</th>\n",
              "      <td>2</td>\n",
              "      <td>0</td>\n",
              "      <td>0</td>\n",
              "    </tr>\n",
              "    <tr>\n",
              "      <th>6</th>\n",
              "      <td>4</td>\n",
              "      <td>2</td>\n",
              "      <td>1</td>\n",
              "    </tr>\n",
              "    <tr>\n",
              "      <th>7</th>\n",
              "      <td>0</td>\n",
              "      <td>2</td>\n",
              "      <td>1</td>\n",
              "    </tr>\n",
              "    <tr>\n",
              "      <th>8</th>\n",
              "      <td>1</td>\n",
              "      <td>6</td>\n",
              "      <td>2</td>\n",
              "    </tr>\n",
              "    <tr>\n",
              "      <th>9</th>\n",
              "      <td>1</td>\n",
              "      <td>3</td>\n",
              "      <td>1</td>\n",
              "    </tr>\n",
              "    <tr>\n",
              "      <th>10</th>\n",
              "      <td>1</td>\n",
              "      <td>2</td>\n",
              "      <td>0</td>\n",
              "    </tr>\n",
              "    <tr>\n",
              "      <th>11</th>\n",
              "      <td>0</td>\n",
              "      <td>6</td>\n",
              "      <td>4</td>\n",
              "    </tr>\n",
              "    <tr>\n",
              "      <th>13</th>\n",
              "      <td>2</td>\n",
              "      <td>0</td>\n",
              "      <td>6</td>\n",
              "    </tr>\n",
              "  </tbody>\n",
              "</table>\n",
              "</div>"
            ],
            "text/plain": [
              "    x1  x2  x3\n",
              "2    0   2   4\n",
              "3    3   6   2\n",
              "5    2   0   0\n",
              "6    4   2   1\n",
              "7    0   2   1\n",
              "8    1   6   2\n",
              "9    1   3   1\n",
              "10   1   2   0\n",
              "11   0   6   4\n",
              "13   2   0   6"
            ]
          },
          "metadata": {
            "tags": []
          },
          "execution_count": 62
        }
      ]
    },
    {
      "cell_type": "markdown",
      "metadata": {
        "id": "Ax96PHGlIDnL"
      },
      "source": [
        "> Как и в numpy, для применения нескольких операций необходимо оборачивать каждую в скобки."
      ]
    },
    {
      "cell_type": "markdown",
      "metadata": {
        "id": "nbpi-IeCILB2"
      },
      "source": [
        "## Задание\n",
        "\n",
        "Выберите записи во фрейме, которые по признаку `x1` имеют значение больше 3, а по признаку `x3` - меньше 8."
      ]
    },
    {
      "cell_type": "code",
      "metadata": {
        "id": "j1vNwIhkIZD4",
        "outputId": "cc39ee60-48bc-4b15-a58b-f5cda0ee1a99",
        "colab": {
          "base_uri": "https://localhost:8080/",
          "height": 142
        }
      },
      "source": [
        "df = pd.DataFrame(\n",
        "    data=np.random.randint(0, 10, size=(15, 3)), \n",
        "    columns=['x1', 'x2', 'x3']\n",
        ")\n",
        "df.head(3)"
      ],
      "execution_count": 63,
      "outputs": [
        {
          "output_type": "execute_result",
          "data": {
            "text/html": [
              "<div>\n",
              "<style scoped>\n",
              "    .dataframe tbody tr th:only-of-type {\n",
              "        vertical-align: middle;\n",
              "    }\n",
              "\n",
              "    .dataframe tbody tr th {\n",
              "        vertical-align: top;\n",
              "    }\n",
              "\n",
              "    .dataframe thead th {\n",
              "        text-align: right;\n",
              "    }\n",
              "</style>\n",
              "<table border=\"1\" class=\"dataframe\">\n",
              "  <thead>\n",
              "    <tr style=\"text-align: right;\">\n",
              "      <th></th>\n",
              "      <th>x1</th>\n",
              "      <th>x2</th>\n",
              "      <th>x3</th>\n",
              "    </tr>\n",
              "  </thead>\n",
              "  <tbody>\n",
              "    <tr>\n",
              "      <th>0</th>\n",
              "      <td>9</td>\n",
              "      <td>5</td>\n",
              "      <td>2</td>\n",
              "    </tr>\n",
              "    <tr>\n",
              "      <th>1</th>\n",
              "      <td>1</td>\n",
              "      <td>5</td>\n",
              "      <td>6</td>\n",
              "    </tr>\n",
              "    <tr>\n",
              "      <th>2</th>\n",
              "      <td>9</td>\n",
              "      <td>9</td>\n",
              "      <td>0</td>\n",
              "    </tr>\n",
              "  </tbody>\n",
              "</table>\n",
              "</div>"
            ],
            "text/plain": [
              "   x1  x2  x3\n",
              "0   9   5   2\n",
              "1   1   5   6\n",
              "2   9   9   0"
            ]
          },
          "metadata": {
            "tags": []
          },
          "execution_count": 63
        }
      ]
    },
    {
      "cell_type": "code",
      "metadata": {
        "id": "eDmDbM8nIZeE",
        "outputId": "c4d1a4b9-a9cc-4f91-fcb1-264736c0fa18",
        "colab": {
          "base_uri": "https://localhost:8080/",
          "height": 297
        }
      },
      "source": [
        "# TODO - отфильтровать фрейм по значениям признаков\n",
        "first_mask = df['x1'] > 3\n",
        "second_mask = df['x3'] < 8\n",
        "df[first_mask & second_mask]"
      ],
      "execution_count": 94,
      "outputs": [
        {
          "output_type": "execute_result",
          "data": {
            "text/html": [
              "<div>\n",
              "<style scoped>\n",
              "    .dataframe tbody tr th:only-of-type {\n",
              "        vertical-align: middle;\n",
              "    }\n",
              "\n",
              "    .dataframe tbody tr th {\n",
              "        vertical-align: top;\n",
              "    }\n",
              "\n",
              "    .dataframe thead th {\n",
              "        text-align: right;\n",
              "    }\n",
              "</style>\n",
              "<table border=\"1\" class=\"dataframe\">\n",
              "  <thead>\n",
              "    <tr style=\"text-align: right;\">\n",
              "      <th></th>\n",
              "      <th>x1</th>\n",
              "      <th>x2</th>\n",
              "      <th>x3</th>\n",
              "    </tr>\n",
              "  </thead>\n",
              "  <tbody>\n",
              "    <tr>\n",
              "      <th>0</th>\n",
              "      <td>9</td>\n",
              "      <td>5</td>\n",
              "      <td>2</td>\n",
              "    </tr>\n",
              "    <tr>\n",
              "      <th>2</th>\n",
              "      <td>9</td>\n",
              "      <td>9</td>\n",
              "      <td>0</td>\n",
              "    </tr>\n",
              "    <tr>\n",
              "      <th>3</th>\n",
              "      <td>9</td>\n",
              "      <td>6</td>\n",
              "      <td>7</td>\n",
              "    </tr>\n",
              "    <tr>\n",
              "      <th>4</th>\n",
              "      <td>8</td>\n",
              "      <td>3</td>\n",
              "      <td>3</td>\n",
              "    </tr>\n",
              "    <tr>\n",
              "      <th>5</th>\n",
              "      <td>7</td>\n",
              "      <td>6</td>\n",
              "      <td>7</td>\n",
              "    </tr>\n",
              "    <tr>\n",
              "      <th>9</th>\n",
              "      <td>7</td>\n",
              "      <td>5</td>\n",
              "      <td>3</td>\n",
              "    </tr>\n",
              "    <tr>\n",
              "      <th>12</th>\n",
              "      <td>9</td>\n",
              "      <td>6</td>\n",
              "      <td>2</td>\n",
              "    </tr>\n",
              "    <tr>\n",
              "      <th>13</th>\n",
              "      <td>8</td>\n",
              "      <td>9</td>\n",
              "      <td>1</td>\n",
              "    </tr>\n",
              "  </tbody>\n",
              "</table>\n",
              "</div>"
            ],
            "text/plain": [
              "    x1  x2  x3\n",
              "0    9   5   2\n",
              "2    9   9   0\n",
              "3    9   6   7\n",
              "4    8   3   3\n",
              "5    7   6   7\n",
              "9    7   5   3\n",
              "12   9   6   2\n",
              "13   8   9   1"
            ]
          },
          "metadata": {
            "tags": []
          },
          "execution_count": 94
        }
      ]
    },
    {
      "cell_type": "code",
      "metadata": {
        "id": "3zHk7Z2SIkra",
        "outputId": "0bda8ff4-7fb1-40ab-b6eb-ecb10254d837",
        "colab": {
          "base_uri": "https://localhost:8080/",
          "height": 297
        }
      },
      "source": [
        "# TODO - отобразите только колонки x1 и x2 с учетом условий \n",
        "#           (используйте .loc[])\n",
        "df.loc[df[first_mask & second_mask].index,['x1','x2']]"
      ],
      "execution_count": 105,
      "outputs": [
        {
          "output_type": "execute_result",
          "data": {
            "text/html": [
              "<div>\n",
              "<style scoped>\n",
              "    .dataframe tbody tr th:only-of-type {\n",
              "        vertical-align: middle;\n",
              "    }\n",
              "\n",
              "    .dataframe tbody tr th {\n",
              "        vertical-align: top;\n",
              "    }\n",
              "\n",
              "    .dataframe thead th {\n",
              "        text-align: right;\n",
              "    }\n",
              "</style>\n",
              "<table border=\"1\" class=\"dataframe\">\n",
              "  <thead>\n",
              "    <tr style=\"text-align: right;\">\n",
              "      <th></th>\n",
              "      <th>x1</th>\n",
              "      <th>x2</th>\n",
              "    </tr>\n",
              "  </thead>\n",
              "  <tbody>\n",
              "    <tr>\n",
              "      <th>0</th>\n",
              "      <td>9</td>\n",
              "      <td>5</td>\n",
              "    </tr>\n",
              "    <tr>\n",
              "      <th>2</th>\n",
              "      <td>9</td>\n",
              "      <td>9</td>\n",
              "    </tr>\n",
              "    <tr>\n",
              "      <th>3</th>\n",
              "      <td>9</td>\n",
              "      <td>6</td>\n",
              "    </tr>\n",
              "    <tr>\n",
              "      <th>4</th>\n",
              "      <td>8</td>\n",
              "      <td>3</td>\n",
              "    </tr>\n",
              "    <tr>\n",
              "      <th>5</th>\n",
              "      <td>7</td>\n",
              "      <td>6</td>\n",
              "    </tr>\n",
              "    <tr>\n",
              "      <th>9</th>\n",
              "      <td>7</td>\n",
              "      <td>5</td>\n",
              "    </tr>\n",
              "    <tr>\n",
              "      <th>12</th>\n",
              "      <td>9</td>\n",
              "      <td>6</td>\n",
              "    </tr>\n",
              "    <tr>\n",
              "      <th>13</th>\n",
              "      <td>8</td>\n",
              "      <td>9</td>\n",
              "    </tr>\n",
              "  </tbody>\n",
              "</table>\n",
              "</div>"
            ],
            "text/plain": [
              "    x1  x2\n",
              "0    9   5\n",
              "2    9   9\n",
              "3    9   6\n",
              "4    8   3\n",
              "5    7   6\n",
              "9    7   5\n",
              "12   9   6\n",
              "13   8   9"
            ]
          },
          "metadata": {
            "tags": []
          },
          "execution_count": 105
        }
      ]
    },
    {
      "cell_type": "markdown",
      "metadata": {
        "id": "pppYzrYDulwx"
      },
      "source": [
        "## Задание\n",
        "\n",
        "С помощью метода `DataFrame.query()` получите записи, которые соответсвуют условию сравнения колонок $x1 > x3$:"
      ]
    },
    {
      "cell_type": "code",
      "metadata": {
        "id": "WqFcnjEEuzBq"
      },
      "source": [
        "df = pd.DataFrame(\n",
        "    [[1, 2, 6], [5, 1, 1], [8, 4, 6], [4, 1, 1], [9, 9, 0], [-1, 2, 1], [5, 5, 5]],\n",
        "    columns = ['x1', 'x2', 'x3']\n",
        ")\n",
        "df"
      ],
      "execution_count": null,
      "outputs": []
    },
    {
      "cell_type": "code",
      "metadata": {
        "id": "y4CjO3YfvFXq"
      },
      "source": [
        "# TODO - Методом DataFrame.query() получить записи, удовлетворяющие условию\n",
        "#           x1 > x3"
      ],
      "execution_count": null,
      "outputs": []
    },
    {
      "cell_type": "code",
      "metadata": {
        "id": "A4nFNejgvSAN"
      },
      "source": [
        "# TODO - Сделать аналогичное действие, но уже с помощью условной индексации"
      ],
      "execution_count": null,
      "outputs": []
    },
    {
      "cell_type": "markdown",
      "metadata": {
        "id": "9nLi9I9k1lT4"
      },
      "source": [
        "# Операции с рядами / Новые колонки"
      ]
    },
    {
      "cell_type": "markdown",
      "metadata": {
        "id": "pUqSlAwi17k1"
      },
      "source": [
        "Работа с фреймами и рядами данных в pandas поддерживает многие операции по аналогии с работой в numpy."
      ]
    },
    {
      "cell_type": "code",
      "metadata": {
        "id": "xxdg5abT22ZJ"
      },
      "source": [
        "df = pd.DataFrame(\n",
        "    data=np.random.randint(0, 10, size=(15, 3)), \n",
        "    columns=['x1', 'x2', 'x3']\n",
        ")\n",
        "df.head(3)"
      ],
      "execution_count": null,
      "outputs": []
    },
    {
      "cell_type": "code",
      "metadata": {
        "id": "DBbdLqIv3DAG"
      },
      "source": [
        "# Создать новую колонку можно по аналогии с новым ключем в словаре\n",
        "# Сложение нескольких Series и запись в новую колонку\n",
        "df['x1+x2'] = df['x1'] + df['x2']\n",
        "df.head(3)"
      ],
      "execution_count": null,
      "outputs": []
    },
    {
      "cell_type": "code",
      "metadata": {
        "id": "YHsGI82a32Dy"
      },
      "source": [
        "# Поэлементное умножение\n",
        "df['x1*x3'] = df['x1'] * df['x3']\n",
        "df.head(3)"
      ],
      "execution_count": null,
      "outputs": []
    },
    {
      "cell_type": "code",
      "metadata": {
        "id": "2WLH7E1_37Zd"
      },
      "source": [
        "# Взятие среднего по колонке (метод Series.mean())\n",
        "df['x1'].mean()"
      ],
      "execution_count": null,
      "outputs": []
    },
    {
      "cell_type": "code",
      "metadata": {
        "id": "okj2LQ8a4X0c"
      },
      "source": [
        "# Использование функций numpy для работы с колонками\n",
        "df['x2_exp'] = np.exp(df['x2'])\n",
        "df.head(3)"
      ],
      "execution_count": null,
      "outputs": []
    },
    {
      "cell_type": "markdown",
      "metadata": {
        "id": "lGfjIyV14wC8"
      },
      "source": [
        "Как вы заметили, ряды (это же одномерные массивы) можно обрабатывать:\n",
        "- операциями Python;\n",
        "- методами класса Series;\n",
        "- функциями numpy.\n",
        "\n",
        "> Для создания новой колонки достаточно просто задать имя новой колонки и записать ряд данных (может быть даже одномерным массивом numpy), который имеет такой же размер, куда пишется."
      ]
    },
    {
      "cell_type": "markdown",
      "metadata": {
        "id": "5RF8V86g-JMk"
      },
      "source": [
        "Для случая, если нужной функции нет, то можно создать свою с помощью метода `Series.apply()`, которой передается название функции для применения над всем рядом."
      ]
    },
    {
      "cell_type": "code",
      "metadata": {
        "id": "a1hhrKsn-pSy"
      },
      "source": [
        "df = pd.DataFrame(\n",
        "    data=np.random.randint(0, 10, size=(3, 3)), \n",
        "    columns=['x1', 'x2', 'x3']\n",
        ")\n",
        "df"
      ],
      "execution_count": null,
      "outputs": []
    },
    {
      "cell_type": "code",
      "metadata": {
        "id": "Cl1cdYh5_Bsu"
      },
      "source": [
        "# Обязательно требование к функции - один аргумент\n",
        "# Эта функция будет передана в apply() и pandas\n",
        "#   будет вызывать ее и передавать в нее \n",
        "#   по одному элементу из ряда\n",
        "# Возвращать функция должна результат операции над элементом\n",
        "def my_func(x):\n",
        "    print(type(x))\n",
        "    print(x)\n",
        "    return x*2\n",
        "\n",
        "df['result'] = df['x1'].apply(my_func)\n",
        "df"
      ],
      "execution_count": null,
      "outputs": []
    },
    {
      "cell_type": "markdown",
      "metadata": {
        "id": "EiCkYETi_LOr"
      },
      "source": [
        "Как видно, в функцию передается каждый элемент в ряду, тип элемента соответсвует типу колонки. Результат метода `.apply()` - новый ряд с примененной функцией."
      ]
    },
    {
      "cell_type": "markdown",
      "metadata": {
        "id": "cL0aNoDx6hmU"
      },
      "source": [
        "# Операции с фреймами"
      ]
    },
    {
      "cell_type": "markdown",
      "metadata": {
        "id": "CIiispWG6s-N"
      },
      "source": [
        "## Переименование колонок / индексов"
      ]
    },
    {
      "cell_type": "markdown",
      "metadata": {
        "id": "X82Dz47d5vym"
      },
      "source": [
        "Одной из полезных функций является возможность переименования имен колонок. Для этого имеется метод `DataFrame.rename()`:"
      ]
    },
    {
      "cell_type": "code",
      "metadata": {
        "id": "r5a3F6Dw56dr"
      },
      "source": [
        "df = pd.DataFrame(\n",
        "    data=np.random.randint(0, 10, size=(15, 3)), \n",
        "    columns=['x1', 'x2', 'x3']\n",
        ")\n",
        "df.head(3)"
      ],
      "execution_count": null,
      "outputs": []
    },
    {
      "cell_type": "code",
      "metadata": {
        "id": "fWw_Wo_D59FT"
      },
      "source": [
        "# Методу передается в аргумент columns словарь, \n",
        "#   в котором ключи - имена колонок,\n",
        "#   значения - новые имена для переименования\n",
        "df.rename(\n",
        "    columns={\n",
        "        'x1': 'new_name_for_x1',\n",
        "        'x3': 'that_not_x3' \n",
        "    },\n",
        "    inplace=True\n",
        ")\n",
        "df.head(3)"
      ],
      "execution_count": null,
      "outputs": []
    },
    {
      "cell_type": "markdown",
      "metadata": {
        "id": "3GP6Mkby6mIb"
      },
      "source": [
        "> Аргумент `inplace` является достаточно распространенным в методах фреймов. Этот аргумент управляет тем, как произвести операцию: прямо в этом классе (при установленном True) или вернуть результатом новый фрейм с произведенной операцией (при установленном False).\n",
        "\n",
        "Для сравнения аналогичный код без `inplace` выглядел бы так:\n",
        "```python\n",
        "df_renamed = df.rename(columns={\n",
        "    'x1': 'new_name_for_x1',\n",
        "    'x3': 'that_not_x3'\n",
        "})\n",
        "df_renamed\n",
        "```"
      ]
    },
    {
      "cell_type": "markdown",
      "metadata": {
        "id": "Pn5PWfi18Nn1"
      },
      "source": [
        "Для переименования индексов (названий записей) используется тот же принцип, но словарь передается в аргумент `index` с ключами - исходными названиями индексов, значениями - новыми значениями."
      ]
    },
    {
      "cell_type": "markdown",
      "metadata": {
        "id": "ZJ0GeWkG8qqc"
      },
      "source": [
        "### Задание\n",
        "\n",
        "Переименуйте индексы и колонки во фрейме"
      ]
    },
    {
      "cell_type": "code",
      "metadata": {
        "id": "8ItPTn_887Sc"
      },
      "source": [
        "df = pd.DataFrame(\n",
        "    data=np.random.randint(0, 10, size=(5, 3)), \n",
        "    index=['A', 'B', 'C', 'D', 'E'], \n",
        "    columns=['x1', 'x2', 'x3']\n",
        ")\n",
        "df"
      ],
      "execution_count": null,
      "outputs": []
    },
    {
      "cell_type": "code",
      "metadata": {
        "id": "wHgJGm0A9Jib"
      },
      "source": [
        "# TODO - переименуйте индексы [A, C] -> [indA, indC] \n",
        "#           и колонки [x1, x3] -> [new1, new3]"
      ],
      "execution_count": null,
      "outputs": []
    },
    {
      "cell_type": "markdown",
      "metadata": {
        "id": "PIxEiYeA7fCT"
      },
      "source": [
        "## Удаление колонок / строк\n",
        "\n",
        "Данную операцию можно произвести двумя способами:\n",
        "1. Выбрать колонки, которые необходимо оставить, простой индексацией;\n",
        "2. Метод `DataFrame.drop()`."
      ]
    },
    {
      "cell_type": "code",
      "metadata": {
        "id": "614A8LHV7t7d"
      },
      "source": [
        "df = pd.DataFrame(\n",
        "    data=np.random.randint(0, 10, size=(15, 3)), \n",
        "    columns=['x1', 'x2', 'x3']\n",
        ")\n",
        "df.head(3)"
      ],
      "execution_count": null,
      "outputs": []
    },
    {
      "cell_type": "code",
      "metadata": {
        "id": "RpIHpNdd94Sl"
      },
      "source": [
        "df.drop(columns=['x2'], inplace=True)\n",
        "df.head(3)"
      ],
      "execution_count": null,
      "outputs": []
    },
    {
      "cell_type": "markdown",
      "metadata": {
        "id": "2jgzUMWxJO6N"
      },
      "source": [
        "## Определение количества NaN"
      ]
    },
    {
      "cell_type": "markdown",
      "metadata": {
        "id": "ymvbguTYJUhn"
      },
      "source": [
        "В данных часто бывают пропуски (NaN), при этом на первых этапах анализа важно понять их количество по каждому признаку. Для этого можно воспользоваться методом `DataFrame.isna()`, который создаст двумерный булевый фрейм, отвечающий на вопрос \"является ли значение NaN?\". После этого над всем фреймом можно применить метод `DataFrame.sum()`, который вернет ряд (Series) с количеством элементов True в булевом фрейме (элементов NaN в основном фрейме)."
      ]
    },
    {
      "cell_type": "code",
      "metadata": {
        "id": "u6ySClv7KEUo"
      },
      "source": [
        "df = pd.DataFrame(\n",
        "    data=np.random.randint(0, 10, size=(5, 3)), \n",
        "    columns=['x1', 'x2', 'x3']\n",
        ")\n",
        "df.iloc[0, :2] = np.nan\n",
        "df.iloc[2, 1:] = np.nan\n",
        "\n",
        "df"
      ],
      "execution_count": null,
      "outputs": []
    },
    {
      "cell_type": "code",
      "metadata": {
        "id": "OYFxtfNQKRkq"
      },
      "source": [
        "df.isna()"
      ],
      "execution_count": null,
      "outputs": []
    },
    {
      "cell_type": "code",
      "metadata": {
        "id": "FMmdpRcUKTsT"
      },
      "source": [
        "df.isna().sum()"
      ],
      "execution_count": null,
      "outputs": []
    },
    {
      "cell_type": "markdown",
      "metadata": {
        "id": "DE4eBYciLiHc"
      },
      "source": [
        "## Заполнение пустых значений"
      ]
    },
    {
      "cell_type": "markdown",
      "metadata": {
        "id": "159PGj1jLkeX"
      },
      "source": [
        "Техники заполнения пустых значений имеют разнообразное представление, но одним из простых методов является заполнение константой. Для этого ряд данных имеет метод `Series.fillna()`, в который можно передать значение и вместо NaN элементов будет поставлена константа, указанная в аргументах."
      ]
    },
    {
      "cell_type": "code",
      "metadata": {
        "id": "rVrv2pvGL7FT"
      },
      "source": [
        "df"
      ],
      "execution_count": null,
      "outputs": []
    },
    {
      "cell_type": "code",
      "metadata": {
        "id": "CNEGPZRnL9Ji"
      },
      "source": [
        "df['x2'].fillna(3, inplace=True)\n",
        "df"
      ],
      "execution_count": null,
      "outputs": []
    },
    {
      "cell_type": "markdown",
      "metadata": {
        "id": "qMLVYwcAsjv8"
      },
      "source": [
        "## Информация об уникальных значениях\n",
        "\n"
      ]
    },
    {
      "cell_type": "markdown",
      "metadata": {
        "id": "CA1B55wAson8"
      },
      "source": [
        "При работе с категориальными данными полезна информация об уникальных значения признака, поэтому важно понимать, как проверить их количество:"
      ]
    },
    {
      "cell_type": "code",
      "metadata": {
        "id": "ipzBgmO-soWq"
      },
      "source": [
        "df = pd.DataFrame({\n",
        "    'col1': ['high', 'high', 'low', 'med', 'low', 'low', 'med', 'low', 'low', 'high'],\n",
        "    'col2': [0, 1, 1, 2, 3, 1, 1, 2, 2, 2]\n",
        "})\n",
        "df"
      ],
      "execution_count": null,
      "outputs": []
    },
    {
      "cell_type": "code",
      "metadata": {
        "id": "GQZBjAektbHR"
      },
      "source": [
        "# Метод DataFrame.nunique() позволяет вывести \n",
        "#   количество уникальных значений в каждой колонке\n",
        "# Результат - Series с индексами - названиями колонок\n",
        "df.nunique()"
      ],
      "execution_count": null,
      "outputs": []
    },
    {
      "cell_type": "code",
      "metadata": {
        "id": "w2Ffo-nHtvaq"
      },
      "source": [
        "# Метод Series.value_counts() показывает уникальные значения в ряду\n",
        "#   и указывает их количество\n",
        "df['col1'].value_counts()"
      ],
      "execution_count": null,
      "outputs": []
    },
    {
      "cell_type": "code",
      "metadata": {
        "id": "5IQjN3OCt7Hs"
      },
      "source": [
        "# Результат - Series с индексами - уникальными значениями\n",
        "df['col2'].value_counts()"
      ],
      "execution_count": null,
      "outputs": []
    },
    {
      "cell_type": "markdown",
      "metadata": {
        "id": "7u9_i7LXTuHm"
      },
      "source": [
        "## Фильтрация"
      ]
    },
    {
      "cell_type": "markdown",
      "metadata": {
        "id": "uosoHO-Sokh8"
      },
      "source": [
        "Метод `DataFrame.filter()` позволяет отфильтровать и выбрать только те колонки/записи, котрые соответсвуют условию, заданному в аргументах:"
      ]
    },
    {
      "cell_type": "code",
      "metadata": {
        "id": "rzgkdyi0opus"
      },
      "source": [
        "df = pd.DataFrame(np.array(([1, 2, 3], [4, 5, 6])),\n",
        "                  index=['mouse', 'rabbit'],\n",
        "                  columns=['col_one', 'col_two', 'col_three'])\n",
        "df"
      ],
      "execution_count": null,
      "outputs": []
    },
    {
      "cell_type": "code",
      "metadata": {
        "id": "vYYUgNBRottW"
      },
      "source": [
        "# Отфильтровать по именам колонок\n",
        "# Аналогично df[['col_one', 'col_three']]\n",
        "df.filter(items=['col_one', 'col_three'], axis='columns')"
      ],
      "execution_count": null,
      "outputs": []
    },
    {
      "cell_type": "code",
      "metadata": {
        "id": "a6ofBx49pYSq"
      },
      "source": [
        "# Отфильтровать по регулярному выражению\n",
        "# Оставить только те колонки, которые оканчиваются на букву \"o\"\n",
        "df.filter(regex='o$', axis='columns')"
      ],
      "execution_count": null,
      "outputs": []
    },
    {
      "cell_type": "markdown",
      "metadata": {
        "id": "YqiHEBFbptwT"
      },
      "source": [
        "### Задание\n",
        "\n",
        "Отфильруйте записи по строке, содержащейся в имени индекса (аргумент `like`):"
      ]
    },
    {
      "cell_type": "code",
      "metadata": {
        "id": "bpguGOH1p6Ju"
      },
      "source": [
        "df = pd.DataFrame(np.array(([1, 2, 3], [4, 5, 6], [7, 8, 9])),\n",
        "                  index=['dog in house', 'cat in house', 'pig in farm'],\n",
        "                  columns=['x1', 'x2', 'x3'])\n",
        "df"
      ],
      "execution_count": null,
      "outputs": []
    },
    {
      "cell_type": "code",
      "metadata": {
        "id": "-yGYrEPCqJMl"
      },
      "source": [
        "# TODO - отфильтруйте по записям, должны остаться записи, \n",
        "#           индекс которых содержит слово \"house\""
      ],
      "execution_count": null,
      "outputs": []
    },
    {
      "cell_type": "markdown",
      "metadata": {
        "id": "b-YLfI7_T--K"
      },
      "source": [
        "## Сортировка"
      ]
    },
    {
      "cell_type": "markdown",
      "metadata": {
        "id": "cRGU2oQcqiAD"
      },
      "source": [
        "Всегда полезно знать, как отсортировать данные, для этого мы воспользуемся методом `DataFrame.sort_values()`:"
      ]
    },
    {
      "cell_type": "code",
      "metadata": {
        "id": "-7UkJ8_nq6vQ"
      },
      "source": [
        "df = pd.DataFrame({\n",
        "    'col1': ['A', 'A', 'B', np.nan, 'D', 'C'],\n",
        "    'col2': [2, 1, 9, 8, 7, 4],\n",
        "    'col3': [0, 1, 9, 4, 2, 3],\n",
        "    'col4': ['a', 'B', 'c', 'D', 'e', 'F']\n",
        "}, index=['A', 'B', 'C', 'D', 'E', 'F'])\n",
        "df"
      ],
      "execution_count": null,
      "outputs": []
    },
    {
      "cell_type": "code",
      "metadata": {
        "id": "RDgqmbx0rEUl"
      },
      "source": [
        "# Отсортируем записи колонки col2\n",
        "# Именно поэтому в axis ставится rows, так как\n",
        "#   операция производится в колонке по каждому ряду\n",
        "df.sort_values(by='col2', axis='rows')"
      ],
      "execution_count": null,
      "outputs": []
    },
    {
      "cell_type": "markdown",
      "metadata": {
        "id": "yLlPKSRArVGN"
      },
      "source": [
        "### Задание\n",
        "\n",
        "Отсортируйте данные:"
      ]
    },
    {
      "cell_type": "code",
      "metadata": {
        "id": "5t5K1QlBr00d"
      },
      "source": [
        "df = pd.DataFrame(\n",
        "    np.random.randint(0, 20, size=(5, 5)), \n",
        "    columns=['col1', 'col2', 'col3', 'col4', 'col5']\n",
        ")\n",
        "df"
      ],
      "execution_count": null,
      "outputs": []
    },
    {
      "cell_type": "code",
      "metadata": {
        "id": "SEHuw4hJsoUP"
      },
      "source": [
        "# TODO - отсортируйте данные индекса 3 по убыванию"
      ],
      "execution_count": null,
      "outputs": []
    },
    {
      "cell_type": "markdown",
      "metadata": {
        "id": "1NiNk_Z4swrf"
      },
      "source": [
        "## Разделение данных на категории"
      ]
    },
    {
      "cell_type": "markdown",
      "metadata": {
        "id": "GqVFtAOws2vY"
      },
      "source": [
        "В ходе работы с данными часто бывает необходимо диапазон числовой переменной разбить на несколько групп (категорий). Например, заменить числовой диапазон температур воды $[-10; 60]$ на три категории $[низкая, средняя, высокая]$. Для таких целей используется функция `pd.cut()`:"
      ]
    },
    {
      "cell_type": "code",
      "metadata": {
        "id": "RMGX8awRtsQb"
      },
      "source": [
        "df = pd.DataFrame({\n",
        "    'temp': [59, 22, -10, 38, 20, 40, 38, 47, 20, 15, 13, 44, 57, 32, 38]\n",
        "})\n",
        "df.head()"
      ],
      "execution_count": null,
      "outputs": []
    },
    {
      "cell_type": "code",
      "metadata": {
        "id": "8s2DpnH8uPPI"
      },
      "source": [
        "# Можно задать свои границы диапазона и названия категорий\n",
        "# Если планируется три категории, то границ должно быть на одну больше - \n",
        "#   так задаются диапазоны для категорий\n",
        "df['temp_cat'] = pd.cut(\n",
        "    x=df['temp'],\n",
        "    bins=[-10, 10, 25, 60],\n",
        "    labels=['low', 'medium', 'high'],\n",
        "    # Флаг, чтобы самое левое значение границы входило в первый диапазон\n",
        "    include_lowest=True\n",
        ")\n",
        "df.head()"
      ],
      "execution_count": null,
      "outputs": []
    },
    {
      "cell_type": "code",
      "metadata": {
        "id": "xq8zAyhSvIh-"
      },
      "source": [
        "# Результат разделения имеет категориальный тип\n",
        "df['temp_cat'].dtype"
      ],
      "execution_count": null,
      "outputs": []
    },
    {
      "cell_type": "code",
      "metadata": {
        "id": "er1CIaTvvTAY"
      },
      "source": [
        "# Можно не задавать имена категориям, тогда он сам их назовет\n",
        "result_after_cut = pd.cut(\n",
        "    x=df['temp'],\n",
        "    bins=[-10, 10, 25, 60],\n",
        "    include_lowest=True\n",
        ")\n",
        "# Взглянем на имена\n",
        "result_after_cut.unique()"
      ],
      "execution_count": null,
      "outputs": []
    },
    {
      "cell_type": "code",
      "metadata": {
        "id": "t_3YYiaWwKZB"
      },
      "source": [
        "# Можно не задавать границы, лишь количество категорий - \n",
        "#   разделение будет на категории с одинаковой шириной диапазонов\n",
        "result_after_cut = pd.cut(\n",
        "    x=df['temp'],\n",
        "    bins=3\n",
        ")\n",
        "result_after_cut.unique()"
      ],
      "execution_count": null,
      "outputs": []
    },
    {
      "cell_type": "markdown",
      "metadata": {
        "id": "iXKi1PEJxin2"
      },
      "source": [
        "### Задание\n",
        "\n",
        "Разделите показатель качества в диапазоне $[0, 100]$ на три группы: плохое $[0-20]$, среднее $(20-45]$, хорошее $(45-85]$, отличное $(85-100]$. Выясните, что происходит со значениями, которые не попадают в диапазоны категорий:"
      ]
    },
    {
      "cell_type": "code",
      "metadata": {
        "id": "Z1zFynfFyiZk"
      },
      "source": [
        "df = pd.DataFrame({\n",
        "    'quality': [ 7, 67, 21, 38,  2, -2, 79, 22,  5, 31, 77, 72, 23, 64, 99]\n",
        "})\n",
        "df.head()"
      ],
      "execution_count": null,
      "outputs": []
    },
    {
      "cell_type": "code",
      "metadata": {
        "id": "AYlnGVTGyxWh"
      },
      "source": [
        "# TODO - разделите данные на категории\n",
        "# TODO - определите, какие записи не имеют категорий и почему"
      ],
      "execution_count": null,
      "outputs": []
    },
    {
      "cell_type": "markdown",
      "metadata": {
        "id": "Bmguv4P80S4s"
      },
      "source": [
        "## Агрегация данных"
      ]
    },
    {
      "cell_type": "markdown",
      "metadata": {
        "id": "pGSptZbq0Vn7"
      },
      "source": [
        "Агрегация данных - объединение группы данных для получения информации. Примерами операций аргегации являются: сумма, среднее, максимум, минимум.\n",
        "\n",
        "В pandas агрегация может быть выполнена путем метода `DataFrame.aggregate()`:"
      ]
    },
    {
      "cell_type": "code",
      "metadata": {
        "id": "Op1RTE8P1UCT"
      },
      "source": [
        "df = pd.DataFrame([[1, 2, 3],\n",
        "                   [4, 5, 6],\n",
        "                   [7, 8, 9],\n",
        "                   [np.nan, np.nan, np.nan]],\n",
        "                  columns=['A', 'B', 'C'])\n",
        "df"
      ],
      "execution_count": null,
      "outputs": []
    },
    {
      "cell_type": "code",
      "metadata": {
        "id": "7WW-Y5fG1ozf"
      },
      "source": [
        "# Получим значения минимумов и средних по всем колонкам\n",
        "# Принцип аналогичен операциям в numpy - \n",
        "#   для агрегации по колонка операция должна пройти по рядам,\n",
        "#   соответсвенно, axis='rows'\n",
        "df.aggregate(['min', 'mean'], axis='rows')"
      ],
      "execution_count": null,
      "outputs": []
    },
    {
      "cell_type": "code",
      "metadata": {
        "id": "4xER9_e_2BdW"
      },
      "source": [
        "# Зададим правила агрегации для каждой колонки\n",
        "# Операции можно задавать строками или функциями numpy\n",
        "df.aggregate({\n",
        "    'A': ['sum', 'min'],\n",
        "    'B': ['max', 'min'],\n",
        "    'C': [np.sum, np.mean],\n",
        "})"
      ],
      "execution_count": null,
      "outputs": []
    },
    {
      "cell_type": "markdown",
      "metadata": {
        "id": "yGZz-fgz2iR0"
      },
      "source": [
        "### Задание\n",
        "\n",
        "Произведите агрегацию средним по рядам"
      ]
    },
    {
      "cell_type": "code",
      "metadata": {
        "id": "19vF30JF2pu_"
      },
      "source": [
        "df = pd.DataFrame(\n",
        "    ([1, 2, 3], [4, 5, 6], [7, 8, 9]), \n",
        "    columns=['x1', 'x2', 'x3'])\n",
        "df"
      ],
      "execution_count": null,
      "outputs": []
    },
    {
      "cell_type": "code",
      "metadata": {
        "id": "NCi-jyrA20b5"
      },
      "source": [
        "# TODO - произведите агрегацию по рядам (найти среднее)"
      ],
      "execution_count": null,
      "outputs": []
    },
    {
      "cell_type": "markdown",
      "metadata": {
        "id": "C12HB8hxuHi7"
      },
      "source": [
        "## Группировки"
      ]
    },
    {
      "cell_type": "markdown",
      "metadata": {
        "id": "jSyxFTtFue8h"
      },
      "source": [
        "Игры закончились - начались серьезные вещи. Группировки это один из сильнейших инструментов, которые позволяют вытаскивать из данных полезную информацию!\n",
        "\n",
        "Для понимания разберем пример: допустим, у нас есть база данных студентов с 1 по 4 курсы. Одна из колонок будет иметь в качестве значения номер курса и так как количество допустимых значений ограничено - то правильно считать эту колонку категориальной. Другая колонка - оценка за общий университетский тест (все курсы его проходили). Третьей колонкой будет время выполнения:"
      ]
    },
    {
      "cell_type": "code",
      "metadata": {
        "id": "gj4gFhFpxmuq"
      },
      "source": [
        "data = [\n",
        "    [1, 4.7, 60],\n",
        "    [3, 4.5, 45],\n",
        "    [4, 4.8, 40],\n",
        "    [1, 4.9, 58],\n",
        "    [2, 4.1, 50],\n",
        "    [2, 4.2, 49],\n",
        "    [2, 4.4, 49],\n",
        "    [3, 4.9, 46],\n",
        "    [4, 4.3, 33],\n",
        "]\n",
        "\n",
        "stud_df = pd.DataFrame(data, columns=['Grade', 'Test_Mark', 'Time'])\n",
        "stud_df"
      ],
      "execution_count": null,
      "outputs": []
    },
    {
      "cell_type": "markdown",
      "metadata": {
        "id": "REtVnk-JyEbH"
      },
      "source": [
        "Теперь представим, что мы сложим каждый курс в свою корзинку путем группировки:\n"
      ]
    },
    {
      "cell_type": "code",
      "metadata": {
        "id": "Cv2ttcWmyO_8"
      },
      "source": [
        "gr_stud_df = stud_df.groupby(by='Grade')\n",
        "\n",
        "# Тип результата - pd.DataFrameGroupBy\n",
        "print(type(gr_stud_df))\n",
        "\n",
        "# Таким образом увидим словарь:\n",
        "#   Ключи - названия групп\n",
        "#   Значения - индексы из данных для группы\n",
        "gr_stud_df.groups"
      ],
      "execution_count": null,
      "outputs": []
    },
    {
      "cell_type": "markdown",
      "metadata": {
        "id": "qA5LXUaEys_8"
      },
      "source": [
        "После того, как мы сложили записи по группам, мы можем вычислить, например, среднее значение в каждой группе:"
      ]
    },
    {
      "cell_type": "code",
      "metadata": {
        "id": "akIG2VcFy1Mq"
      },
      "source": [
        "gr_stud_df.agg('mean')"
      ],
      "execution_count": null,
      "outputs": []
    },
    {
      "cell_type": "markdown",
      "metadata": {
        "id": "243rNrpUzHvL"
      },
      "source": [
        "В результате, мы смогли вычислить среднюю оценку за тест по каждому курсу! И для этого нам потребовалось всего два метода! Ручным вариантом нам бы пришлось создавать контейнеры, складывать в них значения и потом вычислять средние значения..."
      ]
    },
    {
      "cell_type": "markdown",
      "metadata": {
        "id": "_4axNP1MzP7u"
      },
      "source": [
        "Резюмируя, группировка - это размещение данных по группам уникальных значений признака, по которому группируется. После группировки можно произвести агрегацию данных в каждой группе."
      ]
    },
    {
      "cell_type": "code",
      "metadata": {
        "id": "1RjQadBi3XYL"
      },
      "source": [
        "# Более сложный вариант - найдем средние и минимальные время и оценку \n",
        "\n",
        "gr_stud_df.agg(['mean', 'min'])"
      ],
      "execution_count": null,
      "outputs": []
    },
    {
      "cell_type": "code",
      "metadata": {
        "id": "9SEk__CQ4wtP"
      },
      "source": [
        "# Или зададим правила для каждого признака по отдельности\n",
        "\n",
        "res = gr_stud_df.agg({\n",
        "    'Test_Mark': ['mean', 'min'],\n",
        "    'Time': ['min']\n",
        "})\n",
        "\n",
        "print(type(res))\n",
        "res"
      ],
      "execution_count": null,
      "outputs": []
    },
    {
      "cell_type": "code",
      "metadata": {
        "id": "T78u8tYt6Kn6"
      },
      "source": [
        "# Для обращения к данным просто используем несколько индексов, \n",
        "#   так как это DataFrame\n",
        "res['Test_Mark']['mean']"
      ],
      "execution_count": null,
      "outputs": []
    },
    {
      "cell_type": "markdown",
      "metadata": {
        "id": "D0WysErg5FyX"
      },
      "source": [
        "### Задание\n",
        "\n",
        "Сгруппируйте данные по признаку x2 и найдите медиану и максимальное значения по признакам x1, x3:"
      ]
    },
    {
      "cell_type": "code",
      "metadata": {
        "id": "inrIEOBN7tIJ"
      },
      "source": [
        "df = pd.DataFrame({\n",
        "    'x1': np.random.randint(10, 100, size=(200, )),\n",
        "    'x2': np.random.choice(['low', 'high', 'medium'], size=(200, )),\n",
        "    'x3': np.random.randint(-20, 30, size=(200, )),\n",
        "})\n",
        "df.head()"
      ],
      "execution_count": null,
      "outputs": []
    },
    {
      "cell_type": "code",
      "metadata": {
        "id": "s9YIb62P8NZR"
      },
      "source": [
        "# TODO - произведите групировку данных\n",
        "#           и получите средние и максимальные значения по каждой группе"
      ],
      "execution_count": null,
      "outputs": []
    },
    {
      "cell_type": "markdown",
      "metadata": {
        "id": "QoA5WcSp_1am"
      },
      "source": [
        "# Сохранение / загрузка данных (работа с CSV)"
      ]
    },
    {
      "cell_type": "markdown",
      "metadata": {
        "id": "FRzJjPfe_55Q"
      },
      "source": [
        "Одним из важных инструментов в работе с таблицами является возможность сохранить результаты работы в файл или загрузить данные из файла. Пользоваться мы будем форматом CSV, который является текстовым форматом для хранения таблицы. Формат представляет собой текстовые строки, каждая колонка разделяется разделителем (запятая, точка запятой и др.), поэтому его просто понять и обрабатывать, так как не требуется никакого специального протокола для понимания.\n",
        "\n",
        "Для сохранения данных имеется метод `DataFrame.to_csv()`:"
      ]
    },
    {
      "cell_type": "code",
      "metadata": {
        "id": "DmYMxecrAq10"
      },
      "source": [
        "import string\n",
        "\n",
        "df = pd.DataFrame(\n",
        "    data=np.random.randint(0, 10, size=(15, 3)), \n",
        "    columns=['x1', 'x2', 'x3'],\n",
        "    index=list(string.ascii_uppercase)[:15]\n",
        ")\n",
        "df.head(3)"
      ],
      "execution_count": null,
      "outputs": []
    },
    {
      "cell_type": "code",
      "metadata": {
        "id": "KMNVroGbA7Vw"
      },
      "source": [
        "# Для сохранения задается путь до файла\n",
        "df.to_csv('my_first_file.csv')"
      ],
      "execution_count": null,
      "outputs": []
    },
    {
      "cell_type": "markdown",
      "metadata": {
        "id": "s8k6zkCrBgJf"
      },
      "source": [
        "Чтобы убедиться в работе метода найдите файл рядом с ноутбуком и откройте его через редактор.\n",
        "\n",
        "> При работе в Google Colab слева есть вкладка, которая показывает файлы на сервере.\n",
        "\n",
        "При открытии можно увидеть четыре колонки:\n",
        "- Колонка индекса;\n",
        "- Три колонки из наших данных.\n",
        "\n",
        "Теперь, когда мы имеем файл CSV в системе - можем испытать функцию загрузки `pd.read_csv()`:"
      ]
    },
    {
      "cell_type": "code",
      "metadata": {
        "id": "Hu1Cn2dAAtZE"
      },
      "source": [
        "df = pd.read_csv('my_first_file.csv')\n",
        "df.head(3)"
      ],
      "execution_count": null,
      "outputs": []
    },
    {
      "cell_type": "markdown",
      "metadata": {
        "id": "826nsjTTDELg"
      },
      "source": [
        "Видна одна явная проблема - у нас появилась колонка, которая должна быть индексом, но она стала новой колонкой, а индексы создались новые. Для решения проблемы при загрузке необходимо явно задать, какая колонка считается индексом:"
      ]
    },
    {
      "cell_type": "code",
      "metadata": {
        "id": "4ro4a8XQD7NU"
      },
      "source": [
        "df = pd.read_csv('my_first_file.csv', index_col=0)\n",
        "df.head(3)"
      ],
      "execution_count": null,
      "outputs": []
    },
    {
      "cell_type": "markdown",
      "metadata": {
        "id": "VvNbDFPlD-kK"
      },
      "source": [
        "Теперь все отлично и данные загрузились так, как они должны быть."
      ]
    },
    {
      "cell_type": "markdown",
      "metadata": {
        "id": "iji4lnn2DRrF"
      },
      "source": [
        "## Задание\n",
        "\n",
        "Разберитесь в аргументах `DataFrame.to_csv()` и сохраните данные в файл так, чтобы в файл индекс не сохранялся."
      ]
    },
    {
      "cell_type": "code",
      "metadata": {
        "id": "QmxqqhksDdZz"
      },
      "source": [
        "df = pd.DataFrame(\n",
        "    data=np.random.randint(0, 10, size=(15, 3)), \n",
        "    columns=['x1', 'x2', 'x3'],\n",
        "    index=list(string.ascii_uppercase)[:15]\n",
        ")\n",
        "df.head(3)\n",
        "\n",
        "# TODO - сохранить в файл no_index.csv без индексов"
      ],
      "execution_count": null,
      "outputs": []
    },
    {
      "cell_type": "markdown",
      "metadata": {
        "id": "irt2kdlT1Y5g"
      },
      "source": [
        "# Задачки\n"
      ]
    },
    {
      "cell_type": "markdown",
      "metadata": {
        "id": "ia4T__g3U7JG"
      },
      "source": [
        "Создайте фрейм с тремя колонками:\n",
        "- Колонка с именами (тип - объекты);\n",
        "- Колонка с стажем работы (тип - вещественный);\n",
        "- Колонка с возрастом (тип - целочисленный);\n",
        "- Колонка с названием любимого цвета (тип - категориальный);\n",
        "\n",
        "Имена колонок и значения любые, не менее трех записей (строк) в фрейме."
      ]
    },
    {
      "cell_type": "code",
      "metadata": {
        "id": "gjI5Zey31Ntq"
      },
      "source": [
        "# TODO - создайте фрейм и настройте правильные типы колонок\n",
        "#           DataFrame.info() дожен отображать указанные типы"
      ],
      "execution_count": null,
      "outputs": []
    },
    {
      "cell_type": "markdown",
      "metadata": {
        "id": "Mq_Iapt6Wuzq"
      },
      "source": [
        "Выберите числа в ряду `ds1`, которых нет в ряду `ds2`:\n",
        "\n",
        "> Почитайте и примение метод `Series.isin()`"
      ]
    },
    {
      "cell_type": "code",
      "metadata": {
        "id": "EndB77j2XxBd"
      },
      "source": [
        "ds1 = pd.Series([1, 2, 3, 4, 5])\n",
        "ds2 = pd.Series([4, 5, 6, 7, 8, 1, 9])\n",
        "\n",
        "# TODO - выберите значения в ds1, которых нет в ds2: \n",
        "# [2, 3]"
      ],
      "execution_count": null,
      "outputs": []
    },
    {
      "cell_type": "markdown",
      "metadata": {
        "id": "zpEVG3hjZGfS"
      },
      "source": [
        "Оставьте в ряду два наиболее частых значения, остальные замените значением 'Другое':\n",
        "\n",
        "<details>\n",
        "<summary>Подсказка 1</summary>\n",
        "\n",
        "Для определения наиболее частых значений воспользуйтесь методом `Series.value_counts()`\n",
        "</details>\n",
        "\n",
        "<details>\n",
        "<summary>Подсказка 2</summary>\n",
        "\n",
        "Чтобы получить наиболее частые значения можно воспользоваться результатом `Series.value_counts()` - атрибутом `Series.index`\n",
        "</details>\n",
        "\n",
        "<details>\n",
        "<summary>Подсказка 3</summary>\n",
        "\n",
        "Получив наиболее частые значения, можно индексировать другие через маску метода `Series.isin()`\n",
        "</details>\n"
      ]
    },
    {
      "cell_type": "code",
      "metadata": {
        "id": "6hexIuIsYw-D"
      },
      "source": [
        "ds = pd.Series([2, 2, 2, 4, 4, 4, 3, 1, 1, 1, 1, 4])\n",
        "\n",
        "# TODO - определите два наиболее частых значения в ряду (1, 4),\n",
        "#           остальные замените значением 'Другое'\n",
        "# ['Другое', 'Другое', 'Другое', 4, 4, 4, 'Другое', 1, 1, 1, 1, 4]"
      ],
      "execution_count": null,
      "outputs": []
    },
    {
      "cell_type": "markdown",
      "metadata": {
        "id": "oz2HQvOcb5SN"
      },
      "source": [
        "Сделайте каждую первую букву в словах ряда заглавной:"
      ]
    },
    {
      "cell_type": "code",
      "metadata": {
        "id": "BN5CToI2ZhRK"
      },
      "source": [
        "ds = pd.Series(['how', 'to', 'use', 'pandas?'])\n",
        "\n",
        "# TODO - сделайте каждую первую букву заглавной с помощью Series.apply()"
      ],
      "execution_count": null,
      "outputs": []
    },
    {
      "cell_type": "markdown",
      "metadata": {
        "id": "DMVceUcqd9RF"
      },
      "source": [
        "Выберите записи с максимальным значением по колонке `x1`:"
      ]
    },
    {
      "cell_type": "code",
      "metadata": {
        "id": "W5CrazwJcF1O"
      },
      "source": [
        "df = pd.DataFrame(\n",
        "    np.random.randint(0, 4, size=(15, 3)), \n",
        "    columns=['x1', 'x2', 'x3']\n",
        ")\n",
        "\n",
        "# TODO - выберите те записи, которые имеют x1 равный \n",
        "#           максимальному значению в колонке x1"
      ],
      "execution_count": null,
      "outputs": []
    },
    {
      "cell_type": "markdown",
      "metadata": {
        "id": "Ct6PN4nCeqOA"
      },
      "source": [
        "Выведите количество пропусков в каждой колонке данных:"
      ]
    },
    {
      "cell_type": "code",
      "metadata": {
        "id": "Nqmv3g3EeODD"
      },
      "source": [
        "df = pd.read_csv('https://raw.githubusercontent.com/Kail4eK/ml_edu/master/datasets/Cars93_miss.csv')\n",
        "\n",
        "# TODO - отобразите количество пропусков в данных по каждой колонке"
      ],
      "execution_count": null,
      "outputs": []
    },
    {
      "cell_type": "markdown",
      "metadata": {
        "id": "suuzAbGzhlX1"
      },
      "source": [
        "Замените пропущенные значения в колонке `Min.Price` средним значениям по этой колонке:"
      ]
    },
    {
      "cell_type": "code",
      "metadata": {
        "id": "JVSvCfgThTh3"
      },
      "source": [
        "df = pd.read_csv('https://raw.githubusercontent.com/Kail4eK/ml_edu/master/datasets/Cars93_miss.csv')\n",
        "\n",
        "# TODO - заполните NaN в колонке Min.Price средним значением по этой колонке\n",
        "# NOTE - после заполнения убедитесь, что в этой колонке нет пропущенных"
      ],
      "execution_count": null,
      "outputs": []
    },
    {
      "cell_type": "markdown",
      "metadata": {
        "id": "FMmDLiwxg3W1"
      },
      "source": [
        "Отсортируйте и выведите фрейм с колонками в алфавитном порядке:"
      ]
    },
    {
      "cell_type": "code",
      "metadata": {
        "id": "0rcW6H5qf70T"
      },
      "source": [
        "df = pd.DataFrame(np.random.randint(0, 10, size=(5, 6)), columns=list('fbecda'))\n",
        "\n",
        "# TODO - получите фрейм с отсортированными по именам колонкам (f e d c b a)\n",
        "# NOTE - сортировка должна быть автоматической"
      ],
      "execution_count": null,
      "outputs": []
    },
    {
      "cell_type": "markdown",
      "metadata": {
        "id": "sRobyGHAjlRm"
      },
      "source": [
        "Отобразите каждую 20ю запись во фрейме и только колонки `Manufacturer`, `Model`, `Type`:"
      ]
    },
    {
      "cell_type": "code",
      "metadata": {
        "id": "kNNS2B5ai9GU"
      },
      "source": [
        "df = pd.read_csv('https://raw.githubusercontent.com/Kail4eK/ml_edu/master/datasets/Cars93_miss.csv')\n",
        "\n",
        "# TODO - отобразите запись с периодичностью во фрейме и определенные колонки"
      ],
      "execution_count": null,
      "outputs": []
    },
    {
      "cell_type": "markdown",
      "metadata": {
        "id": "im7s33LdkZPq"
      },
      "source": [
        "Получите ряд, который содержит длины строк:"
      ]
    },
    {
      "cell_type": "code",
      "metadata": {
        "id": "WKREEgzYj9Dv"
      },
      "source": [
        "ds = pd.Series(['how', 'to', 'use', 'pandas?'])\n",
        "\n",
        "# TODO - создайте ряд, содержащий длины строк:\n",
        "# 0    3\n",
        "# 1    2\n",
        "# 2    3\n",
        "# 3    7\n",
        "# dtype: int64"
      ],
      "execution_count": null,
      "outputs": []
    },
    {
      "cell_type": "code",
      "metadata": {
        "id": "C7LrZvzjmjdE"
      },
      "source": [
        ""
      ],
      "execution_count": null,
      "outputs": []
    }
  ]
}