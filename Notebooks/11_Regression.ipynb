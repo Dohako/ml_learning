{
  "nbformat": 4,
  "nbformat_minor": 0,
  "metadata": {
    "colab": {
      "name": "Pr1_Regression.ipynb",
      "provenance": [],
      "collapsed_sections": [],
      "toc_visible": true
    },
    "kernelspec": {
      "display_name": "Python 3",
      "language": "python",
      "name": "python3"
    },
    "language_info": {
      "codemirror_mode": {
        "name": "ipython",
        "version": 3
      },
      "file_extension": ".py",
      "mimetype": "text/x-python",
      "name": "python",
      "nbconvert_exporter": "python",
      "pygments_lexer": "ipython3",
      "version": "3.8.3"
    }
  },
  "cells": [
    {
      "cell_type": "code",
      "metadata": {
        "id": "nP7tStEZp_8v"
      },
      "source": [
        "# Импорт необходимых модулей \n",
        "import matplotlib\n",
        "import seaborn as sns\n",
        "import matplotlib.pyplot as plt\n",
        "import numpy as np\n",
        "import pandas as pd\n",
        "\n",
        "# Настройки для визуализации\n",
        "# Если используется темная тема - лучше текст сделать белым\n",
        "TEXT_COLOR = 'black'\n",
        "\n",
        "matplotlib.rcParams['figure.figsize'] = (15, 10)\n",
        "matplotlib.rcParams['text.color'] = 'black'\n",
        "matplotlib.rcParams['font.size'] = 14\n",
        "matplotlib.rcParams['axes.labelcolor'] = TEXT_COLOR\n",
        "matplotlib.rcParams['xtick.color'] = TEXT_COLOR\n",
        "matplotlib.rcParams['ytick.color'] = TEXT_COLOR\n",
        "\n",
        "# Зафиксируем состояние случайных чисел\n",
        "RANDOM_STATE = 42\n",
        "np.random.seed(RANDOM_STATE)"
      ],
      "execution_count": 1,
      "outputs": []
    },
    {
      "cell_type": "markdown",
      "metadata": {
        "id": "Jt3KM7DHYtmJ"
      },
      "source": [
        "# Линейная регрессия"
      ]
    },
    {
      "cell_type": "markdown",
      "metadata": {
        "id": "Xzg51F2ZaXLm"
      },
      "source": [
        "Это наша первая практика, в которой мы коснемся вопросов, связанных с машинным обучением. Запомните, в машинном обучении **данные** - всему голова! Поэтому создадим немного данных, чтобы на них разбираться."
      ]
    },
    {
      "cell_type": "code",
      "metadata": {
        "id": "wwH7rsLLqcFo",
        "outputId": "f3a8cc2d-50a2-487b-f3ae-83247eed692c",
        "colab": {
          "base_uri": "https://localhost:8080/",
          "height": 296
        }
      },
      "source": [
        "n_points = 100\n",
        "\n",
        "real_W = [1, 0.7]\n",
        "X_data = 4*np.sort(np.random.rand(n_points, 1), axis=0)+1\n",
        "noize = 1*(np.random.rand(n_points, 1)-0.5)\n",
        "y_data_true = real_W[0] + real_W[1]*X_data\n",
        "y_data_noized = y_data_true + noize\n",
        "y_data = y_data_noized[:, 0]\n",
        "\n",
        "X_render = np.linspace(X_data[:, 0].min(), X_data[:, 0].max(), 100)\n",
        "y_render = real_W[0] + real_W[1]*X_render\n",
        "\n",
        "plt.scatter(X_data, y_data_noized, label='Данные')\n",
        "plt.ylabel('$y$')\n",
        "plt.xlabel('$x$')\n",
        "plt.grid()\n",
        "plt.legend()"
      ],
      "execution_count": 2,
      "outputs": [
        {
          "output_type": "execute_result",
          "data": {
            "text/plain": [
              "<matplotlib.legend.Legend at 0x7fd69c616ac8>"
            ]
          },
          "metadata": {
            "tags": []
          },
          "execution_count": 2
        },
        {
          "output_type": "display_data",
          "data": {
            "image/png": "[encoded data removed]",
            "text/plain": [
              "<Figure size 432x288 with 1 Axes>"
            ]
          },
          "metadata": {
            "tags": [],
            "needs_background": "light"
          }
        }
      ]
    },
    {
      "cell_type": "markdown",
      "metadata": {
        "id": "AEAU9dr88y_h"
      },
      "source": [
        "Отлично! Вот мы имеет данные, но что это и как с этим работать? Эти данные нами сгенерированы, но в реальных данных всему есть назначение, поэтому и мы зададимся некоторым описанием:\n",
        "- $x$ - качество продукта [безразмерный показатель];\n",
        "- $y$ - цена продукта [у.е.].\n",
        "\n",
        "В виде таблицы это бы выглядело вот так:"
      ]
    },
    {
      "cell_type": "code",
      "metadata": {
        "id": "mhJSF-Gq_lCD",
        "outputId": "27087499-4ebc-4819-9163-13d2d50cbd8c",
        "colab": {
          "base_uri": "https://localhost:8080/",
          "height": 195
        }
      },
      "source": [
        "pd.DataFrame({\n",
        "    'quality': X_data[:,0],\n",
        "    'price': y_data\n",
        "}).head()"
      ],
      "execution_count": 3,
      "outputs": [
        {
          "output_type": "execute_result",
          "data": {
            "text/html": [
              "<div>\n",
              "<style scoped>\n",
              "    .dataframe tbody tr th:only-of-type {\n",
              "        vertical-align: middle;\n",
              "    }\n",
              "\n",
              "    .dataframe tbody tr th {\n",
              "        vertical-align: top;\n",
              "    }\n",
              "\n",
              "    .dataframe thead th {\n",
              "        text-align: right;\n",
              "    }\n",
              "</style>\n",
              "<table border=\"1\" class=\"dataframe\">\n",
              "  <thead>\n",
              "    <tr style=\"text-align: right;\">\n",
              "      <th></th>\n",
              "      <th>quality</th>\n",
              "      <th>price</th>\n",
              "    </tr>\n",
              "  </thead>\n",
              "  <tbody>\n",
              "    <tr>\n",
              "      <th>0</th>\n",
              "      <td>1.022088</td>\n",
              "      <td>1.246891</td>\n",
              "    </tr>\n",
              "    <tr>\n",
              "      <th>1</th>\n",
              "      <td>1.082338</td>\n",
              "      <td>1.894047</td>\n",
              "    </tr>\n",
              "    <tr>\n",
              "      <th>2</th>\n",
              "      <td>1.101677</td>\n",
              "      <td>1.585530</td>\n",
              "    </tr>\n",
              "    <tr>\n",
              "      <th>3</th>\n",
              "      <td>1.137554</td>\n",
              "      <td>1.804859</td>\n",
              "    </tr>\n",
              "    <tr>\n",
              "      <th>4</th>\n",
              "      <td>1.180909</td>\n",
              "      <td>2.234203</td>\n",
              "    </tr>\n",
              "  </tbody>\n",
              "</table>\n",
              "</div>"
            ],
            "text/plain": [
              "    quality     price\n",
              "0  1.022088  1.246891\n",
              "1  1.082338  1.894047\n",
              "2  1.101677  1.585530\n",
              "3  1.137554  1.804859\n",
              "4  1.180909  2.234203"
            ]
          },
          "metadata": {
            "tags": []
          },
          "execution_count": 3
        }
      ]
    },
    {
      "cell_type": "markdown",
      "metadata": {
        "id": "D9Kpr9w3_hCF"
      },
      "source": [
        "Теперь данные имеют смысл. Каждая точка на графике (запись в таблице) - отдельный продукт из базы и мы видим, что с увеличением качества продукта растет и цена - это и есть **зависимость** в данных. Зависимость переменной $y$ от переменной $x$, а значит можем назвать эти переменные так:\n",
        "- $y$ - зависимая переменная;\n",
        "- $x$ - независимая переменная.\n",
        "\n",
        "Еще мы можем видеть, что в данных бывают случаи, когда качество ниже, но цена выше! Что это такое? Это статистика! \n",
        "\n",
        "Если рассмотреть две отдельные точки, то можно попасть на такие, что качество выше, но цена ниже. Тогда мы делаем вывод (по двум точкам), что выше качество - ниже цена. **Плохо!**\n",
        "\n",
        "Статистика по большому количеству данных позволяет смотреть не на отдельные точки, а на зависимость в общем. Такой взгляд показывает, как дела обстоят на самом деле, а не в случае двух отдельных продуктов.\n",
        "\n",
        "Немного формализуя, можно сказать, что данные представляют собой следующий вид:\n",
        "$$\n",
        "данные = зависимости + шум\n",
        "$$\n",
        "\n",
        "Здесь зависимость - это то, что ценно и полезно для тех, кто хочет использовать данные (во благо или во зло уже другой вопрос), а шум - отклонения, разброс, выбросы и другие девиации в данных."
      ]
    },
    {
      "cell_type": "markdown",
      "metadata": {
        "id": "WNCq_-zqBtXP"
      },
      "source": [
        "Зависимости бывают разные и спасибо математике за возможность описать не только словами, но и даже формулами (аналитически). Логарифмическая, полиномиальная, экспоненциальная - много разных, но мы смотрим на нашу.\n",
        "\n",
        "Что если попробуем провести две прямых линии через эти данные? Пробуем!"
      ]
    },
    {
      "cell_type": "code",
      "metadata": {
        "id": "d0k0041gCPMy",
        "outputId": "e7cff7e5-bc60-451f-82a6-4ea5de3b23b7",
        "colab": {
          "base_uri": "https://localhost:8080/",
          "height": 317
        }
      },
      "source": [
        "X_render = np.linspace(X_data[:, 0].min(), X_data[:, 0].max(), 100)\n",
        "print(f'real_W is {real_W}')\n",
        "y1 = real_W[0] + real_W[1]*X_render\n",
        "y2 = 0.7 + 0.1*X_render\n",
        "plt.scatter(X_data, y_data_noized, label='Данные')\n",
        "plt.plot(X_render, y1, 'k-', label='Прямая линия 1')\n",
        "plt.plot(X_render, y2, 'k-.', label='Прямая линия 2')\n",
        "plt.ylabel('$y$')\n",
        "plt.xlabel('$x$')\n",
        "plt.grid()\n",
        "plt.legend()"
      ],
      "execution_count": 4,
      "outputs": [
        {
          "output_type": "stream",
          "text": [
            "real_W is [1, 0.7]\n"
          ],
          "name": "stdout"
        },
        {
          "output_type": "execute_result",
          "data": {
            "text/plain": [
              "<matplotlib.legend.Legend at 0x7fd69c027780>"
            ]
          },
          "metadata": {
            "tags": []
          },
          "execution_count": 4
        },
        {
          "output_type": "display_data",
          "data": {
            "image/png": "[encoded data removed]",
            "text/plain": [
              "<Figure size 432x288 with 1 Axes>"
            ]
          },
          "metadata": {
            "tags": [],
            "needs_background": "light"
          }
        }
      ]
    },
    {
      "cell_type": "markdown",
      "metadata": {
        "id": "QYIwvecjCYhx"
      },
      "source": [
        "Хм, разбираемся:\n",
        "- Линия 1 - проходит через данные так, что общая зависимость в данных более менее похожа на нее;\n",
        "- Линия 2 - очень сильно смещена от данных и имеет другой рост значения (угол наклона), нежели данные.\n",
        "\n",
        "Делаем вывод, что линия 1 лучше **описывает** данные, чем линия 2. В чем разница между линиями? У каждой свои коэффициенты $k$ и $b$.\n",
        "\n",
        "> Если кто запамятовал уравнения прямой линии: $y=kx+b$\n",
        "\n",
        "То есть, мы сейчас визуально убедились, что зависимость в данных имеет линейный характер, так как по прямой линии 1 рост идет таким же темпом, а отклонения данных от линии сохраняются более менее равномерно.\n",
        "\n",
        "Если зависимость в данных имеет линейный характер, значит и описать ее можно уравнением прямой линии. Но это должна быть не просто любая прямая линия (как уже убедились), а с такими коэффициентами, при которых линия будет идти в соответсвии с зависимостью в данных."
      ]
    },
    {
      "cell_type": "markdown",
      "metadata": {
        "id": "akFW7uZRFt-9"
      },
      "source": [
        "Так мы подошли к понятию **задачи определения регрессии**.\n",
        "\n",
        "> **Задача определения регрессии** - определение аналитического описания (формулы) зависимости зависимой переменной $y$ от независимых переменных $x$ (да, может быть несколько переменных, например, качество и срок годности).\n",
        "\n",
        "В машинном обучении, решая задачу определения регрессии, мы ищем такую функцию, которая максимально точно опишет зависимость в данных.\n",
        "\n",
        "В нашем случае данные имеют линейную зависимость. Поэтому мы будем использовать **модель линейной регрессии**.\n",
        "\n",
        "Что такое **модель**? В машинном обучении модель - более общее понятие функции/алгоритма. Линейная зависимость определяется уравнением прямой, экспоненциальная - уравнением экспоненты, но есть более сложные зависимости, которые описываются не уравнением, а более сложными вещами (типа решающих деревьев).\n",
        "\n",
        "Так вот, модель линейной регрессии для нашего случая похожа на уравнение прямой:\n",
        "$$\n",
        "\\hat{y} = b + k*x\n",
        "$$\n",
        "\n",
        "Модель имеет **параметры**, которые и характеризуют ее поведение. В случае линейной регрессии это и есть наши $k$ и $b$. Как мы видели, при одних параметрах модель \"хорошо\" описывает данные, а при других - \"плохо\". \n",
        "\n",
        "В уравнении $\\hat{y}$ - **предсказание** модели. Данные, которые мы имеет $x$ и $y$ используются для **обучения**, а использование модели - **предсказать** цену на основе новых неизвестных ранее $x$ (новая оценка качества). Так как задача модели - отражать зависимость в данных, то предсказания должны также соответствовать общей зависимости.\n",
        "\n",
        "Таким образом, после выбора модели мы должны произвести **обучение**. Если кратко, **обучение** - процесс изменения параметров (их еще называют весами модели) так, чтобы модель работала \"хорошо\" (в задаче регрессии - \"хорошо\" описывала закономерности в данных).\n"
      ]
    },
    {
      "cell_type": "markdown",
      "metadata": {
        "id": "h-Vcp8OtNA9h"
      },
      "source": [
        "Резюмируя, имеем данные по продуктам и хотим решить задачу регрессии, видим линейную зависимость в данных, обучаем модель линейной регрессии и она уже по новым данным оценок качества сама предсказывает и устанавливает цену на продукты! Прекрасная автоматизация!"
      ]
    },
    {
      "cell_type": "markdown",
      "metadata": {
        "id": "dWrotA3qNzQe"
      },
      "source": [
        "Если все понятно, то немного копнем поглубже. Обратите внимание, что параметры в нашей модели - это то, насколько качество влияет на цену ($k$) и смещение средней цены ($b$). Величину влияния качества на цену можно назвать весом качества, так как чем больше $k$, тем больше результарующая цена. \n",
        "\n",
        "Смещение нужно, чтобы подкорректировать работу модели. В наших данных нет записей при $x=0$, но если посмотреть общую тенденцию, то при $x=0$, $y \\neq 0$. Да и в уравнении прямой всегда было смещение, ведь иначе все линии проходили бы через точку $(0, 0)$ - центр координат.\n",
        "\n",
        "Так как $k$ мы обозвали весом, то правильнее переопределить переменную. Ведь это не просто уравнение прямой, а целая модель линейной регрессии! Назовем это так:\n",
        "$$\n",
        "\\hat{y} = w_0 + w*x\n",
        "$$\n",
        "\n",
        "где $w_0$ - константное смещение, $w$ - вес переменной $x$."
      ]
    },
    {
      "cell_type": "markdown",
      "metadata": {
        "id": "2rx1SC6cyvSl"
      },
      "source": [
        "# Функция предсказания"
      ]
    },
    {
      "cell_type": "markdown",
      "metadata": {
        "id": "z-7krPgTaXLn"
      },
      "source": [
        "Для нашего случая, когда мы имеем одну независимую переменную (признак) в данных:\n",
        "\n",
        "$$\n",
        "\\hat{y} = w_0 + w*x\n",
        "$$\n",
        "\n",
        "Теперь распространим на случай, когда в данных переменная $y$ зависит от двух принаков: $x_1$ (качество продукта) и $x_2$ (срок годности):\n",
        "\n",
        "$$\n",
        "\\hat{y} = w_0 + w_1*x_1 + w_2*x_2\n",
        "$$\n",
        "\n",
        "Как видно, модель линейной регрессии каждому признаку присваивает вес, поэтому можно записать общий вид модели:\n",
        "\n",
        "$$\n",
        "\\hat{y} = h_W(x)= w_0 + \\sum_{i=1}^{m}w_i*x_i\n",
        "$$\n",
        "\n",
        "> $h_W(x)$ - функция предсказания модели, которая имеет веса для каждого признака\n",
        "\n",
        "где $m$ - кол-во признаков в данных, $w_i$ - вес признака $x_i$, $w_0$ - константное смещение."
      ]
    },
    {
      "cell_type": "markdown",
      "metadata": {
        "id": "2afAH0BuSWDR"
      },
      "source": [
        "> Еще раз для закрепления, модель линейной регрессии - линейное уравнение, в котором каждый признак данных имеет свой вес. В ходе обучения на данных настраиваются веса каждого признака и смещение модели, чтобы модель повторяла зависимость в данных."
      ]
    },
    {
      "cell_type": "markdown",
      "metadata": {
        "id": "rx7FGSlBbGfq"
      },
      "source": [
        "Отлично, теперь мы можем перейти к векторному представлению, так как здесь явно проглядывается формула скалярного произведения!\n",
        "\n",
        "Зададим признаки и веса в виде векторов:\n",
        "$$\n",
        "X = \n",
        "\\begin{bmatrix}\n",
        "1 & x_1 & \\dots & x_{m-1} & x_m\n",
        "\\end{bmatrix} \\\\\n",
        "W = \n",
        "\\begin{bmatrix}\n",
        "w_0 \\\\\n",
        "w_1 \\\\\n",
        "\\vdots \\\\\n",
        "w_{m-1} \\\\\n",
        "w_m\n",
        "\\end{bmatrix}\n",
        "$$\n",
        "\n",
        "Теперь мы можем записать представление модели в векторной форме: \n",
        "$$\n",
        "h_W(X)=XW\n",
        "$$\n",
        "\n",
        "> Здесь $h_W(X)$ означает функцию предсказания модели, в ней фигурируют веса $W$ и входные данные $X$. Результатом этой функции является предсказание модели $\\hat{y}$.\n",
        "\n",
        "Такой вид и запомним, так как он больше вообще не изменится!"
      ]
    },
    {
      "cell_type": "markdown",
      "metadata": {
        "id": "5xXgsOPrcu7u"
      },
      "source": [
        "Мы рассмотрели случай, когда у нас есть одна запись в данных и несколько признаков, но модели машинного обучения должны строиться на основе множества данных, чтобы вычислять основные зависимости, поэтому обязательно необходимо понимать представление, когда имеются $n$ записей данных. Для такого случая, все, что нам надо исправить в представлении - вектор $X$ превратится в матрицу:\n",
        "\n",
        "$$\n",
        "X = \n",
        "\\begin{bmatrix}\n",
        "1 & x^{(1)}_1 & \\dots & x^{(1)}_{m-1} & x^{(1)}_m \\\\\n",
        "1 & x^{(2)}_1 & \\dots & x^{(2)}_{m-1} & x^{(2)}_m \\\\\n",
        "\\vdots & \\vdots & \\ddots & \\vdots & \\vdots  \\\\\n",
        "1 & x^{(n)}_1 & \\dots & x^{(n)}_{m-1} & x^{(n)}_m \\\\\n",
        "\\end{bmatrix}\n",
        "$$\n",
        "\n",
        "где $n$ - количество записей данных.\n",
        "\n",
        "> Верхний индекс в нашем представлении означает номер записи в данных.\n",
        "\n",
        "> Помните! Столбец единиц является спецификой для линейной регрессии, поэтому при работе с линейной регрессией и матричном умножении важно не забывать добавлять этот столбец!\n",
        "\n",
        "И обратите внимание, что представление функции предсказания $h_W(X)$ вообще не поменялось! Только результатом функции является уже не скаляр, а вектор $\\hat{y}$:\n",
        "\n",
        "$$\n",
        "\\hat{y} = \n",
        "\\begin{bmatrix}\n",
        "\\hat{y}^{(1)} \\\\\n",
        "\\hat{y}^{(2)} \\\\\n",
        "\\vdots \\\\\n",
        "\\hat{y}^{(n-1)} \\\\\n",
        "\\hat{y}^{(n)} \\\\\n",
        "\\end{bmatrix}\n",
        "$$"
      ]
    },
    {
      "cell_type": "markdown",
      "metadata": {
        "id": "kJCUWrjfp9bt"
      },
      "source": [
        "---\n",
        "\n",
        "Для пущего понимания разберем более подробно. Перемножение матриц/векторов делается по правилу \"элемент строки левой матрицы умножаются на элементы столбца правой матрицы, складываются и размещаются в результирующей матрице на строке по индексам строки левой матрицы и столбца правой матрицы\". \n",
        "\n",
        "В общем случае мы берем\n",
        "$$\n",
        "X^{(1)}=\n",
        "\\begin{bmatrix}\n",
        "1 & x^{(1)}_1 & \\dots & x^{(1)}_{m-1} & x^{(1)}_m\n",
        "\\end{bmatrix}\n",
        "$$ \n",
        "\n",
        "и умножаем поэлементно на \n",
        "\n",
        "$$\n",
        "W = \n",
        "\\begin{bmatrix}\n",
        "w_0 \\\\\n",
        "w_1 \\\\\n",
        "\\vdots \\\\\n",
        "w_{m-1} \\\\\n",
        "w_m\n",
        "\\end{bmatrix}\n",
        "$$\n",
        "\n",
        "то есть\n",
        "\n",
        "$$\n",
        "\\hat{y}^{(1)} = X^{(1)}*W=\n",
        "w_0 + w_1*x^{(1)}_1 + \\dots + w_{m-1}*x^{(1)}_{m-1} + w_m*x^{(1)}_m \n",
        "$$\n",
        "\n",
        "Так мы получаем результат для первой записи вектора предсказаний $\\hat{y}^{(1)}$. При этом, матричное умножение позволяет получить результаты предсказаний для всех данных одной операций (что часто оптимизированно на процессорах и выполняется быстрее, чем проход циклом по каждой записи).\n",
        "\n",
        "---"
      ]
    },
    {
      "cell_type": "markdown",
      "metadata": {
        "id": "H6jTZMRENjHb"
      },
      "source": [
        "# Let`s get our hands dirty! (Начнем практиковаться)\n",
        "\n"
      ]
    },
    {
      "cell_type": "markdown",
      "metadata": {
        "id": "BMigy9QaO4t_"
      },
      "source": [
        "Перед тем, как делать какие-либо реализации, необходимо посмотреть, в каком виде представлены наши данные. В данном случае мы имеет матрицу данных `X_data` и вектор истинных значений цены `y_data`. Для самого простого анализа отобразим размерности данных:"
      ]
    },
    {
      "cell_type": "code",
      "metadata": {
        "id": "zPA4NAzOP07r",
        "outputId": "44e6420e-c02b-44a1-aa11-7ebc106320f9",
        "colab": {
          "base_uri": "https://localhost:8080/"
        }
      },
      "source": [
        "X_data.shape, y_data.shape"
      ],
      "execution_count": 5,
      "outputs": [
        {
          "output_type": "execute_result",
          "data": {
            "text/plain": [
              "((100, 1), (100,))"
            ]
          },
          "metadata": {
            "tags": []
          },
          "execution_count": 5
        }
      ]
    },
    {
      "cell_type": "markdown",
      "metadata": {
        "id": "yPNGyCMbQI-h"
      },
      "source": [
        "Отлично, мы видим, что данные представлены имеют 100 записей (первая размерность) и всего один признак (вторая размерность). Вектор разметки (истинных значений) обычно представлен одной размерность.\n",
        "\n",
        "После того, как мы знаем размерности, можно отобразить несколько данных из набора:"
      ]
    },
    {
      "cell_type": "code",
      "metadata": {
        "id": "v93he7zMQQl9",
        "outputId": "cbb82e0e-9575-44a6-cf36-357e3b40ec28",
        "colab": {
          "base_uri": "https://localhost:8080/"
        }
      },
      "source": [
        "X_data[:3]"
      ],
      "execution_count": 6,
      "outputs": [
        {
          "output_type": "execute_result",
          "data": {
            "text/plain": [
              "array([[1.02208847],\n",
              "       [1.08233798],\n",
              "       [1.10167651]])"
            ]
          },
          "metadata": {
            "tags": []
          },
          "execution_count": 6
        }
      ]
    },
    {
      "cell_type": "code",
      "metadata": {
        "id": "NJkDM9-hQTVW",
        "outputId": "6aa23ff6-7ee8-47e4-dec6-f4e2bef5bdef",
        "colab": {
          "base_uri": "https://localhost:8080/"
        }
      },
      "source": [
        "y_data[:3]"
      ],
      "execution_count": 7,
      "outputs": [
        {
          "output_type": "execute_result",
          "data": {
            "text/plain": [
              "array([1.24689111, 1.894047  , 1.58552954])"
            ]
          },
          "metadata": {
            "tags": []
          },
          "execution_count": 7
        }
      ]
    },
    {
      "cell_type": "markdown",
      "metadata": {
        "id": "OuVwiDBHODtZ"
      },
      "source": [
        "Для начала, нашей задачей является написать реализацию функции предсказания модели. Начнем мы со скалярного представления:\n",
        "\n",
        "> Напомним, $\\hat{y} = w_0 + w*x$"
      ]
    },
    {
      "cell_type": "code",
      "metadata": {
        "id": "px9ooNzfrEn8"
      },
      "source": [
        "def predict_scalar_one(x, w0, w1):\n",
        "    '''\n",
        "    x - скалярное значение признака\n",
        "    w0 - константное смещение\n",
        "    w1 - вес признака\n",
        "    '''\n",
        "    # TODO - напишите код для вычисления предсказания по одной переменной\n",
        "    y = w0 + w1*x\n",
        "    return y"
      ],
      "execution_count": 8,
      "outputs": []
    },
    {
      "cell_type": "code",
      "metadata": {
        "id": "l1Sw7n7pgtZb"
      },
      "source": [
        "# TEST\n",
        "\n",
        "# В таких проверочных блоках будет проверяться корректность\n",
        "#   написания вами кода, так что если в блоке выпадает ошибка - не пугайтесь,\n",
        "#   просто, вероятно, код делает не совсем правильные вещи\n",
        "\n",
        "# assert - ключевое слово Python\n",
        "#   если ему передан True - он просто ничего не делает\n",
        "#   если False - то он выдаст ошибку AssertionError, \n",
        "#                   что означает проверка не пройдена\n",
        "\n",
        "x = 1\n",
        "w0 = 2\n",
        "w1 = 3\n",
        "\n",
        "assert predict_scalar_one(x, w0, w1) == 5"
      ],
      "execution_count": 9,
      "outputs": []
    },
    {
      "cell_type": "markdown",
      "metadata": {
        "id": "kycGa5L5OlRf"
      },
      "source": [
        "Теперь воспользуемся данной реализацией, достанем из данных значение признака, предскажем значение на основе случайно выбранных весов и сравним с истинным."
      ]
    },
    {
      "cell_type": "code",
      "metadata": {
        "id": "OT9-856esTQg",
        "outputId": "33572c24-c368-4c6f-d84a-e0b8863445b9",
        "colab": {
          "base_uri": "https://localhost:8080/"
        }
      },
      "source": [
        "data_index = 0\n",
        "\n",
        "x = X_data[data_index, 0]\n",
        "y_true = y_data[data_index]\n",
        "# Зададим для примера следующие веса\n",
        "w0 = 3\n",
        "w1 = 0.2\n",
        "\n",
        "y_pred_sc = predict_scalar_one(x, w0, w1)\n",
        "print(f'y_pred_sc = predict_scalar({x}, {w0}, {w1}) = {y_pred_sc}')\n",
        "print(f'y_true = {y_true}')"
      ],
      "execution_count": 10,
      "outputs": [
        {
          "output_type": "stream",
          "text": [
            "y_pred_sc = predict_scalar(1.0220884684944096, 3, 0.2) = 3.2044176936988817\n",
            "y_true = 1.2468911136328207\n"
          ],
          "name": "stdout"
        }
      ]
    },
    {
      "cell_type": "markdown",
      "metadata": {
        "id": "DrCTGe1nQv_N"
      },
      "source": [
        "Как видно, предсказанное значение далековато от истинного. Теперь попрактикуемся в векторизации для случаев, когда у нас не один признак, а много, то есть $X = \n",
        "\\begin{bmatrix}\n",
        "x_1 & \\dots & x_{m-1} & x_m\n",
        "\\end{bmatrix}$.\n",
        "\n",
        "Напишите функцию предсказания для вектора признаков (одной записи в данных):\n",
        "\n",
        "> Не забудьте, что на выходе мы должны получить скалярное значение, а не массив"
      ]
    },
    {
      "cell_type": "code",
      "metadata": {
        "id": "tKCEXk14syjr"
      },
      "source": [
        "def predict_one(X, W):\n",
        "    '''\n",
        "    X - вектор признаков [M]\n",
        "    W - вектор весов [M+1]\n",
        "    '''\n",
        "    # TODO - напишите функцию предсказания\n",
        "    mult = 0\n",
        "    for i in range(len(X)):\n",
        "      mult += W[i+1] * X[i]\n",
        "    y = W[0] + mult\n",
        "    return y"
      ],
      "execution_count": 11,
      "outputs": []
    },
    {
      "cell_type": "code",
      "metadata": {
        "id": "-XE4YPn6bH7d"
      },
      "source": [
        "# TEST\n",
        "\n",
        "# Запись в данных имеет, например, три [M = 3] признака\n",
        "X = np.array([1, 2, 0])\n",
        "# Веса модели [M+1]\n",
        "W = np.array([3, 2, 1, 1])\n",
        "y_pred = predict_one(X, W)\n",
        "\n",
        "assert not isinstance(y_pred, (list, tuple, np.ndarray))\n",
        "assert y_pred == 7"
      ],
      "execution_count": 12,
      "outputs": []
    },
    {
      "cell_type": "code",
      "metadata": {
        "id": "fNYWxJGYtuyX",
        "outputId": "37cc0181-3e6b-476c-a733-09477ed20e10",
        "colab": {
          "base_uri": "https://localhost:8080/"
        }
      },
      "source": [
        "# Вектор наших случайно выбранных весов\n",
        "selected_W = np.array([w0, w1])\n",
        "X = X_data[data_index]\n",
        "y_pred_one = predict_one(X, selected_W)\n",
        "print(f'y_pred = predict_one({X}, {selected_W}) = {y_pred_one}')"
      ],
      "execution_count": 13,
      "outputs": [
        {
          "output_type": "stream",
          "text": [
            "y_pred = predict_one([1.02208847], [3.  0.2]) = 3.2044176936988817\n"
          ],
          "name": "stdout"
        }
      ]
    },
    {
      "cell_type": "markdown",
      "metadata": {
        "id": "BiJt6KJguqcn"
      },
      "source": [
        "Соответственно, проверка на равенство должна пройти:"
      ]
    },
    {
      "cell_type": "code",
      "metadata": {
        "id": "FoGz9i_6uTqM"
      },
      "source": [
        "assert y_pred_sc==y_pred_one"
      ],
      "execution_count": 14,
      "outputs": []
    },
    {
      "cell_type": "markdown",
      "metadata": {
        "id": "ABODZ1lUvzSI"
      },
      "source": [
        "Мы рассмотрели случай, когда у нас всего одна запись в данных. Теперь сыграем серьезно - напишем функцию предсказания для набора данных:"
      ]
    },
    {
      "cell_type": "code",
      "metadata": {
        "id": "h0Q4seIJyfew"
      },
      "source": [
        "def predict(X, W):\n",
        "    '''\n",
        "    X - 2D матрица признаков [N, M]\n",
        "    W - вектор весов [M+1]\n",
        "    '''\n",
        "    # TODO - напишите функцию предсказания\n",
        "    # mult_array = 0\n",
        "    # dump = []\n",
        "    # for i in range(len(X[0])):\n",
        "    #   for j in range(len(X[1])):\n",
        "    #     mult_array += W[j+1]*X[i][j]\n",
        "    #   # np.append(y, W[0] + mult_array)\n",
        "    #   dump.append(W[0] + mult_array)\n",
        "    #   mult_array = 0\n",
        "    # y = np.array(dump)\n",
        "    y = W[0] + X @ W[1:]\n",
        "    # y = W[0] + W[1:] @ X\n",
        "    return y"
      ],
      "execution_count": 15,
      "outputs": []
    },
    {
      "cell_type": "code",
      "metadata": {
        "id": "UeVpaC8Lc9Ci"
      },
      "source": [
        "# TEST\n",
        "X = np.array([\n",
        "    [1, 2, 3],\n",
        "    [2, 3, 4],\n",
        "    [3, 4, 5]\n",
        "])\n",
        "W = np.array([3, 2, 1, 2])\n",
        "y_pred = predict(X, W)\n",
        "\n",
        "assert np.all(y_pred == np.array([13, 18, 23]))\n",
        "assert len(y_pred.shape) == 1\n",
        "assert y_pred.shape[0] == 3"
      ],
      "execution_count": 16,
      "outputs": []
    },
    {
      "cell_type": "markdown",
      "metadata": {
        "id": "GViMlYVrdSDy"
      },
      "source": [
        "Теперь достанем часть данных и сделаем предсказание в цикле векторной функцией и сравним с нашей матричной реализацией:"
      ]
    },
    {
      "cell_type": "code",
      "metadata": {
        "id": "musPsJE-uoPO"
      },
      "source": [
        "data_len = 10\n",
        "\n",
        "X = X_data[10:10+data_len]\n",
        "y_true = y_data[10:10+data_len]"
      ],
      "execution_count": 17,
      "outputs": []
    },
    {
      "cell_type": "code",
      "metadata": {
        "id": "z4OPYHNSxvvw",
        "outputId": "78414a2b-4f9b-4685-adb4-e589875fa529",
        "colab": {
          "base_uri": "https://localhost:8080/"
        }
      },
      "source": [
        "X"
      ],
      "execution_count": 18,
      "outputs": [
        {
          "output_type": "execute_result",
          "data": {
            "text/plain": [
              "array([[1.29820257],\n",
              "       [1.35397001],\n",
              "       [1.39068846],\n",
              "       [1.43156571],\n",
              "       [1.46347624],\n",
              "       [1.47837698],\n",
              "       [1.48815294],\n",
              "       [1.55797544],\n",
              "       [1.5636969 ],\n",
              "       [1.62397808]])"
            ]
          },
          "metadata": {
            "tags": []
          },
          "execution_count": 18
        }
      ]
    },
    {
      "cell_type": "code",
      "metadata": {
        "id": "svjrhO2ExvDY"
      },
      "source": [
        "# Для случая нескольких записей при работе без матриц придется проходить\n",
        "#   циклом по каждой записи\n",
        "y_pred_sc = []\n",
        "for x in X:\n",
        "    y = predict_one(x, selected_W)\n",
        "    y_pred_sc.append(y)\n",
        "\n",
        "y_pred_sc = np.array(y_pred_sc)"
      ],
      "execution_count": 19,
      "outputs": []
    },
    {
      "cell_type": "code",
      "metadata": {
        "id": "DFxEEB-nwm0d",
        "outputId": "be7f6522-2ebd-4008-e3f3-4e8e8d9dd84d",
        "colab": {
          "base_uri": "https://localhost:8080/"
        }
      },
      "source": [
        "y_pred_sc"
      ],
      "execution_count": 20,
      "outputs": [
        {
          "output_type": "execute_result",
          "data": {
            "text/plain": [
              "array([3.25964051, 3.270794  , 3.27813769, 3.28631314, 3.29269525,\n",
              "       3.2956754 , 3.29763059, 3.31159509, 3.31273938, 3.32479562])"
            ]
          },
          "metadata": {
            "tags": []
          },
          "execution_count": 20
        }
      ]
    },
    {
      "cell_type": "code",
      "metadata": {
        "id": "DcwXLuE6xgDR"
      },
      "source": [
        "y_pred = predict(X, selected_W)"
      ],
      "execution_count": 21,
      "outputs": []
    },
    {
      "cell_type": "code",
      "metadata": {
        "id": "mexKDQ0sTbCM",
        "outputId": "52c64e10-cc66-4ca0-b4ef-4f22efc9e6a9",
        "colab": {
          "base_uri": "https://localhost:8080/"
        }
      },
      "source": [
        "y_pred"
      ],
      "execution_count": 22,
      "outputs": [
        {
          "output_type": "execute_result",
          "data": {
            "text/plain": [
              "array([3.25964051, 3.270794  , 3.27813769, 3.28631314, 3.29269525,\n",
              "       3.2956754 , 3.29763059, 3.31159509, 3.31273938, 3.32479562])"
            ]
          },
          "metadata": {
            "tags": []
          },
          "execution_count": 22
        }
      ]
    },
    {
      "cell_type": "code",
      "metadata": {
        "id": "GLp69_bex34b",
        "outputId": "5ce185e6-6678-4952-aeb2-a0a3d31aba0f",
        "colab": {
          "base_uri": "https://localhost:8080/"
        }
      },
      "source": [
        "print(f'ys_pred == ys_pred_sc -> {np.all(y_pred_sc==y_pred)}')"
      ],
      "execution_count": 23,
      "outputs": [
        {
          "output_type": "stream",
          "text": [
            "ys_pred == ys_pred_sc -> True\n"
          ],
          "name": "stdout"
        }
      ]
    },
    {
      "cell_type": "markdown",
      "metadata": {
        "id": "ANSTohz8ToxP"
      },
      "source": [
        "Отлично! У нас готова функция предсказания модели, которой можно передать набор данных, вектор весов и получить предсказанное значение!"
      ]
    },
    {
      "cell_type": "markdown",
      "metadata": {
        "id": "LZS_SOMsSadk"
      },
      "source": [
        "# Визуализация предсказаний"
      ]
    },
    {
      "cell_type": "markdown",
      "metadata": {
        "id": "uKrLjq8bTyjF"
      },
      "source": [
        "Одним из полезных способов анализа является визуализация предсказаний модели. Для нашего случая это можно сделать без каких-либо предобработок, так как количество признаков небольшое."
      ]
    },
    {
      "cell_type": "code",
      "metadata": {
        "id": "l3bZbGAnSgNY"
      },
      "source": [
        "def plot_model(X, y_pred, y_true):\n",
        "    plt.scatter(X, y_data, label='Данные')\n",
        "    plt.plot(X, y_pred, 'k--', label='Предсказание модели')\n",
        "    plt.ylabel('$Y$')\n",
        "    plt.xlabel('$X$')\n",
        "    plt.grid()\n",
        "    plt.legend()\n",
        "    plt.show()"
      ],
      "execution_count": 24,
      "outputs": []
    },
    {
      "cell_type": "code",
      "metadata": {
        "id": "PqwN2EbUUx7i",
        "outputId": "5818c5f4-97a1-4685-eac8-2b67475787e4",
        "colab": {
          "base_uri": "https://localhost:8080/",
          "height": 281
        }
      },
      "source": [
        "y_pred = predict(X_data, selected_W)\n",
        "plot_model(X_data, y_pred, y_data)"
      ],
      "execution_count": 25,
      "outputs": [
        {
          "output_type": "display_data",
          "data": {
            "image/png": "[encoded data removed]",
            "text/plain": [
              "<Figure size 432x288 with 1 Axes>"
            ]
          },
          "metadata": {
            "tags": [],
            "needs_background": "light"
          }
        }
      ]
    },
    {
      "cell_type": "markdown",
      "metadata": {
        "id": "fR5XOYQ8VzVs"
      },
      "source": [
        "На графике видно, что предсказания модели не соотносятся с данными, что говорит о том, что веса подобраны плохо. Это исправит процесс обучения модели!"
      ]
    },
    {
      "cell_type": "markdown",
      "metadata": {
        "id": "32YtJrFYyzGd"
      },
      "source": [
        "# Метрики"
      ]
    },
    {
      "cell_type": "markdown",
      "metadata": {
        "id": "oDsHXrkoWAVj"
      },
      "source": [
        "Перед тем, как обучать модель, важной составляющей является оценка работы модели не только визуально (что полезно, но чаще всего субъективно), но и по численным характеристикам.\n",
        "\n",
        "> При любых экспериментах рекомендуется отдавать предпочтение сравнению по численным показателям, так как визуально восприятие человека часто бывает искажено."
      ]
    },
    {
      "cell_type": "markdown",
      "metadata": {
        "id": "1BLMK2FXWYtr"
      },
      "source": [
        "В данной практике начнем знакомтсво с двумя показателями: Корень среднеквадратичного отклонения (Root Mean Squared Error) и Среднее абсолютное отклонение (Mean Absolute Error). Обе характеристики имеют диапазон значений [0; $\\infty$) и оцениваются по принципу \"меньше значение метрики - лучше модель работает\".\n",
        "\n",
        "Квадратичное отклонение возводит значения ошибок в квадрат, поэтому сильнее реагирует на большие ошибки, так что его лучше применять в случае, когда большие ошибки нежелательны. Малые отклонения, возведенные в квадрат, наоборот становятся еще меньше. \n",
        "\n",
        "Абсолютные отклонения в свою очередь не меняют величину отклонений и представляют буквально среднее значение ошибок."
      ]
    },
    {
      "cell_type": "markdown",
      "metadata": {
        "id": "qXhBh_QY8rZB"
      },
      "source": [
        "\n",
        "$$RMSE = \\sqrt{\\frac{1}{n} \\sum_{i=1}^{n} (h_W(x^{(i)})-y^{(i)})^2 } $$\n",
        "\n",
        "$$MAE = \\frac{1}{n} \\sum_{i=1}^{n} |h_W(x^{(i)})-y^{(i)}| $$"
      ]
    },
    {
      "cell_type": "markdown",
      "metadata": {
        "id": "1h-EkSlxY9kD"
      },
      "source": [
        "Пора перейти к реализации, давайте напишем функции для оценки предсказаний:"
      ]
    },
    {
      "cell_type": "code",
      "metadata": {
        "id": "R-ALO8fIx7ql"
      },
      "source": [
        "def rmse_score(y_true, y_pred):\n",
        "    '''\n",
        "    y_true - вектор истинных значений\n",
        "    y_pred - вектор предсказанных значений\n",
        "    '''\n",
        "    # TODO - напишите функцию вычисления RMSE\n",
        "    my_sum = 0\n",
        "    for i in range(len(y_pred)):\n",
        "      my_sum += (y_pred[i] - y_true[i])**2\n",
        "    rmse_value = (my_sum/len(y_pred))**0.5\n",
        "    return rmse_value\n",
        "\n",
        "def mae_score(y_true, y_pred):\n",
        "    '''\n",
        "    y_true - вектор истинных значений\n",
        "    y_pred - вектор предсказанных значений\n",
        "    '''\n",
        "    # TODO - напишите функцию вычисления MAE\n",
        "    my_sum = 0\n",
        "    for i in range(len(y_pred)):\n",
        "        my_sum += abs(y_pred[i] - y_true[i])\n",
        "    # print(np.sum(my_sum))\n",
        "    mae_value = my_sum / len(y_pred)\n",
        "    return mae_value"
      ],
      "execution_count": 41,
      "outputs": []
    },
    {
      "cell_type": "code",
      "metadata": {
        "id": "780ycb7ghlSF",
        "outputId": "1dda22a0-11cb-4a51-90bd-a969ef1ab00b",
        "colab": {
          "base_uri": "https://localhost:8080/"
        }
      },
      "source": [
        "# TEST\n",
        "y_true = np.array([0.5, 0.1, -0.4, 1.2])\n",
        "y_pred = np.array([0.2, 0.0, -0.1, 3.1])\n",
        "\n",
        "rmse_value = rmse_score(y_true, y_pred)\n",
        "mae_value = mae_score(y_true, y_pred)\n",
        "print(rmse_value, mae_value)\n",
        "\n",
        "assert np.isclose(rmse_value, 0.974679)\n",
        "assert np.isclose(mae_value, 0.65)"
      ],
      "execution_count": 42,
      "outputs": [
        {
          "output_type": "stream",
          "text": [
            "0.9746794344808964 0.65\n"
          ],
          "name": "stdout"
        }
      ]
    },
    {
      "cell_type": "markdown",
      "metadata": {
        "id": "JOTm_-V1ZRv7"
      },
      "source": [
        "Для проверки оценим работу модели на всем наборе данных:"
      ]
    },
    {
      "cell_type": "code",
      "metadata": {
        "id": "NZjtcY5DzJdo",
        "outputId": "1d4de457-148e-4fed-823e-d0f3239580ae",
        "colab": {
          "base_uri": "https://localhost:8080/"
        }
      },
      "source": [
        "# Проверим ошибку на всем наборе данных\n",
        "y_true = y_data\n",
        "X = X_data\n",
        "y_pred = predict(X, selected_W)\n",
        "\n",
        "rmse_value = rmse_score(y_true, y_pred)\n",
        "mae_value = mae_score(y_true, y_pred)\n",
        "\n",
        "rmse_value, mae_value"
      ],
      "execution_count": 43,
      "outputs": [
        {
          "output_type": "execute_result",
          "data": {
            "text/plain": [
              "(0.8822495430466522, 0.7395733955141037)"
            ]
          },
          "metadata": {
            "tags": []
          },
          "execution_count": 43
        }
      ]
    },
    {
      "cell_type": "markdown",
      "metadata": {
        "id": "aBWB7Oym7TvO"
      },
      "source": [
        "> Существует также представление метрики $MSE$, которая имеет отношение с $RMSE$:\n",
        "$$\n",
        "RMSE = \\sqrt{MSE}\n",
        "$$\n",
        "По сути чистое $MSE$ не соотносится по порядкам значений с $MAE$, поэтому в качестве метрики редко используется.\n",
        "\n",
        "Осталось запомнить эти значения, чтобы затем сравнить с метриками на обученной модели."
      ]
    },
    {
      "cell_type": "markdown",
      "metadata": {
        "id": "b5vKlErN0hEM"
      },
      "source": [
        "# Функция потерь"
      ]
    },
    {
      "cell_type": "markdown",
      "metadata": {
        "id": "2So48ezJZ44R"
      },
      "source": [
        "Процесс обучения модели заключается в том, что мы каким-то образом меняем параметры модели (в случае линейной регрессии - веса признаков $w_i$ и смещение $w_0$) так, чтобы в результате обучения наша модель предсказывала данные как можно точнее. Для реализации такого процесса применяют методы оптимизации.\n",
        "\n",
        "> Напомним, задача оптимизации - поиск экстремума (оптимума) по определенному критерию (функции потерь).\n",
        "\n",
        "Мы помним, что при разных параметрах модели предсказания то лучше предсказывает, то хуже. То есть, функция потерь $J$ должна отражать, насколько хорошо модель предсказывает. Ну и так как мы меняем веса модели - это значит, что оптимизируем мы в пространстве параметров $W$. Значит обозначение функции потерь в нашем случае будет $J(W)$."
      ]
    },
    {
      "cell_type": "markdown",
      "metadata": {
        "id": "fv4pAK_maqOC"
      },
      "source": [
        "Для обучения модели линейной регрессии применяется следующая функция потерь, которую стараются минимизировать:\n",
        "\n",
        "$$J(W) = \\frac{1}{2*n} \\|h_W(X)-y\\|^2_2 $$\n",
        "\n",
        "или\n",
        "\n",
        "$$J(W) = \\frac{1}{2*n} \\sum_{i=1}^{n} (h_W(x^{(i)})-y^{(i)})^2 $$\n",
        "\n",
        "где $y$ - значение зависимой переменной в данных, $\\|.\\|_2$ - $L2$ norm."
      ]
    },
    {
      "cell_type": "markdown",
      "metadata": {
        "id": "td_k_bRaajHG"
      },
      "source": [
        "Данная функция потерь очень похожа на метрику $MSE$ за одним отличием - в знаменателе имеется число 2, что приводит к виду $J(W) = MSE/2$.\n",
        "\n",
        "Главные свойства, которые должна иметь функция потерь:\n",
        "- Отражать зависимость поведения модели: \"меньше - лучше\";\n",
        "- Быть дифференцируемой.\n",
        "\n",
        "Так как мы помним, что $MSE$ так и отражает принцип \"меньше значение метрики - лучше модель работает\", то доказывать дифференцируемость функции в данным момент не будем. Данная функция полностью удовлетворяет требованиям и можно заняться ее реализацией.\n",
        "\n",
        "Но зачем же тут двойка? На самом деле, она упростит нам жизнь и сократится с другой двойкой при выводе формулы производной. Давайте проверим, не испортит ли она картину здесь:\n",
        "\n",
        "Допустим, что мы имеет две модели - $M_1$ и $M_2$. Назначение функции потерь (как и метрики $MSE$) - оценить, насколько хорошо/плохо работает модель относительно другой модели. Положим, что сейчас показатели $MSE$ следующие:\n",
        "- $MSE_{M_1} = 10$;\n",
        "- $MSE_{M_2} = 6$;\n",
        "\n",
        "Мы видим, что $M_2$ имеет меньшее значение, а значит работает лучше, чем $M_1$. А теперь, что будет, если мы оба значения поделим на 2? Посмотрим:\n",
        "- $MSE_{M_1} = 5$;\n",
        "- $MSE_{M_2} = 3$;\n",
        "\n",
        "Фактически, изменились оба значения, но результат оценки все тот же - $M_2$ работает лучше, чем $M_1$! Это приводит нас к выводу, что метрика $MSE$ (как и остальные - $MAE$, $RMSE$) не искажается (не меняет результатов оценки) при масштабировании коэффициентом (в нашем случае $\\frac{1}{2}$)!\n",
        "\n",
        "Давайте теперь напишем реализации наших функций потерь!"
      ]
    },
    {
      "cell_type": "code",
      "metadata": {
        "id": "pulArCQsehPK"
      },
      "source": [
        "def loss_function(y_true, y_pred):\n",
        "    '''\n",
        "    y_true - вектор истинных значений\n",
        "    y_pred - вектор предсказанных значений\n",
        "    '''\n",
        "    # TODO - напишите реализацию функции потерь\n",
        "    return loss"
      ],
      "execution_count": null,
      "outputs": []
    },
    {
      "cell_type": "code",
      "metadata": {
        "id": "iu2FF0cSik6N"
      },
      "source": [
        "# TEST\n",
        "y_true = np.array([0.5, 0.1, -0.4, 1.2])\n",
        "y_pred = np.array([0.2, 0.0, -0.1, 3.1])\n",
        "\n",
        "rmse_value = rmse_score(y_true, y_pred)\n",
        "loss_value = loss_function(y_true, y_pred)\n",
        "\n",
        "assert np.isclose(loss_value, rmse_value**2/2)"
      ],
      "execution_count": null,
      "outputs": []
    },
    {
      "cell_type": "markdown",
      "metadata": {
        "id": "26lgVRiSzWzL"
      },
      "source": [
        "Соответственно, проверим наши данные: "
      ]
    },
    {
      "cell_type": "code",
      "metadata": {
        "id": "B6kvzMNGb2jQ"
      },
      "source": [
        "# Вычислим показатель loss на наших данных\n",
        "y_true = y_data\n",
        "X = X_data\n",
        "y_pred = predict(X, selected_W)\n",
        "\n",
        "loss_value = loss_function(y_true, y_pred)\n",
        "loss_value"
      ],
      "execution_count": null,
      "outputs": []
    },
    {
      "cell_type": "markdown",
      "metadata": {
        "id": "vuYm0gAylH4X"
      },
      "source": [
        "Для понимания отобразим пространство весов (так как всего два параметра - мы можем это сделать!) и визуализируем поверхность функции потерь. Также отобразим точками положение в пространстве, которое соответсвует весам, по которым данные были построены (веса истинно зависимости данных), а также веса, которые были заданы случайно."
      ]
    },
    {
      "cell_type": "code",
      "metadata": {
        "id": "XdDSkLKe1EHq"
      },
      "source": [
        "from matplotlib import cm\n",
        "from mpl_toolkits.mplot3d import axes3d\n",
        "\n",
        "side_sz = 300\n",
        "\n",
        "w0_vals = np.linspace(0, 3.5, side_sz)\n",
        "w1_vals = np.linspace(0, 1, side_sz)\n",
        "\n",
        "X = X_data\n",
        "y_true = y_data\n",
        "\n",
        "Z_MAX = 0.6\n",
        "\n",
        "losses = np.ndarray((side_sz, side_sz))\n",
        "for j in range(len(w1_vals)):\n",
        "    w1 = w1_vals[j]\n",
        "    for i in range(len(w0_vals)):\n",
        "        w0 = w0_vals[i]\n",
        "        \n",
        "        render_W = np.array([w0, w1])\n",
        "        y_pred = predict(X, render_W)\n",
        "\n",
        "        loss = loss_function(y_true, y_pred)\n",
        "        loss = np.clip(loss, 0, Z_MAX)\n",
        "        losses[j, i] = loss\n",
        "\n",
        "y_pred = predict(X, np.array(real_W))\n",
        "real_point_loss = loss_function(y_true, y_pred)\n",
        "\n",
        "y_pred = predict(X, selected_W)\n",
        "current_point_loss = loss_function(y_true, y_pred)\n",
        "\n",
        "fig = plt.figure(figsize=[15,15])\n",
        "views = [\n",
        "    # Subplot code, (around X, around Z)\n",
        "    (221, (60, -60)),\n",
        "    (222, (0, -5)),\n",
        "    (223, (0, -90)),\n",
        "]\n",
        "\n",
        "ww0, ww1 = np.meshgrid(w0_vals, w1_vals)\n",
        "\n",
        "for view in views:\n",
        "    ax = fig.add_subplot(view[0], projection='3d')\n",
        "    ax.plot_wireframe(\n",
        "        ww0, \n",
        "        ww1, \n",
        "        losses, \n",
        "        color='lightblue', \n",
        "        rstride=8, \n",
        "        cstride=8, \n",
        "        label='Loss',\n",
        "        cmap=cm.coolwarm,\n",
        "    )\n",
        "\n",
        "    ax.scatter(\n",
        "        xs = [real_W[0]],\n",
        "        ys = [real_W[1]],\n",
        "        zs = [real_point_loss],\n",
        "        color='r',\n",
        "        label='Best $W$',\n",
        "        s=100\n",
        "    )\n",
        "\n",
        "    ax.scatter(\n",
        "        xs = [selected_W[0]],\n",
        "        ys = [selected_W[1]],\n",
        "        zs = [current_point_loss],\n",
        "        color='g',\n",
        "        label='Current $W$',\n",
        "        s=100\n",
        "    )\n",
        "\n",
        "    ax.view_init(*view[1])\n",
        "    \n",
        "    font = {\n",
        "        'color': 'black',\n",
        "        'weight': 'bold',\n",
        "        'size': 24,\n",
        "    }\n",
        "    ax.set_xlabel('$w_0$', fontdict=font)\n",
        "    ax.set_ylabel('$w_1$', fontdict=font)\n",
        "    ax.set_zlabel('J($W$)', fontdict=font)\n",
        "    \n",
        "    # ax.tick_params(axis='x', colors='black')\n",
        "    # ax.tick_params(axis='y', colors='black')\n",
        "    # ax.tick_params(axis='z', colors='black')\n",
        "\n",
        "plt.legend()\n",
        "\n",
        "plt.tight_layout()\n",
        "plt.show()"
      ],
      "execution_count": null,
      "outputs": []
    },
    {
      "cell_type": "markdown",
      "metadata": {
        "id": "Fg6VXx8DvTGJ"
      },
      "source": [
        "График представляет синюю плоскость, которая является плоскостью функции потерь. То есть, если мы будем двигаться по осям и менять веса, то будем попадать на разные точки на этой плоскости. У каждого места на этой плоскости своя высота - значение функции потерь, а нам нужно спуститься в самую низкую точку!\n",
        "\n",
        "> В визуализации специально ограничено максимальное значение функции потерь (из-за этого такие плоские области сверху) для более наглядной демонстрации минимума.\n",
        "\n",
        "Как видно на графиках (представление с трех сторон для понимания), нынешние веса располагаются в синей точке, а красная точка - точка наилучших весов. Можно заметить, что точка наилучших весов является минимумом данной поверхности.\n",
        "\n",
        "Таким образом, задача обучения - перейти из синей точки в красную точку.\n",
        "\n",
        "Давайте теперь для упрощения глянем на двумерный график, если 3D был сложен для понимания:"
      ]
    },
    {
      "cell_type": "code",
      "metadata": {
        "id": "ffHJ8bD32zZY"
      },
      "source": [
        "w1 = np.linspace(0, 1, 100)\n",
        "w0 = real_W[0]\n",
        "\n",
        "X = X_data\n",
        "y_true = y_data\n",
        "\n",
        "losses = []\n",
        "\n",
        "for w1_val in w1:\n",
        "    render_W = np.array([w0, w1_val])\n",
        "    y_pred = predict(X, render_W)\n",
        "\n",
        "    loss = loss_function(y_true, y_pred)\n",
        "    # loss = np.clip(loss, 0, Z_MAX)\n",
        "    losses.append(loss)\n",
        "\n",
        "losses = np.array(losses)\n",
        "\n",
        "plt.plot(w1, losses)\n",
        "\n",
        "# Render best point\n",
        "y_pred = predict(X, np.array([w0, real_W[1]]))\n",
        "best_loss = loss_function(y_true, y_pred)\n",
        "plt.scatter([real_W[1]], [best_loss], color='r', s=100, label='Best $w_1$')\n",
        "\n",
        "# Render selected point\n",
        "y_pred = predict(X, np.array([w0, selected_W[1]]))\n",
        "selected_loss = loss_function(y_true, y_pred)\n",
        "plt.scatter([selected_W[1]], [selected_loss], color='g', s=100, label='Best $w_1$')\n",
        "\n",
        "plt.grid(True)\n",
        "plt.legend()\n",
        "\n",
        "plt.xlabel('$w_1$')\n",
        "plt.ylabel('$J(W)$')\n",
        "\n",
        "plt.show()"
      ],
      "execution_count": null,
      "outputs": []
    },
    {
      "cell_type": "markdown",
      "metadata": {
        "id": "nPxv25xt5NWE"
      },
      "source": [
        "Здесь мы представили простой случай, когда мы меняем только вес признака, а константтное смещение не меняется, но и здесь видно, что задачей обучения будет спуск из зеленой точки (нынешний вес) до красной точки (лучший вес - минимум функции потерь)."
      ]
    },
    {
      "cell_type": "markdown",
      "metadata": {
        "id": "D_YYgTh_0okm"
      },
      "source": [
        "# Градиентный спуск"
      ]
    },
    {
      "cell_type": "markdown",
      "metadata": {
        "id": "cho2qULHVbXI"
      },
      "source": [
        "Обучение моделей может быть сделано с использованием различных алгоритмов оптимизации, но одним из наиболее простых и в то же время эффективных показал себя алгоритм **градиентного спуска**. Основная идея алгоритма заключена в определении градиента (вектора производных).\n",
        "\n",
        "Для примера возьмем функцию $y=0.5x^2$ и точку $x=1$:"
      ]
    },
    {
      "cell_type": "code",
      "metadata": {
        "id": "NWW5EAn3VbXJ"
      },
      "source": [
        "x = np.linspace(-3, 3, 100)\n",
        "y = 0.5*x**2\n",
        "\n",
        "x_grad = np.linspace(0, 2, 100)\n",
        "y_grad = x_grad-0.5\n",
        "\n",
        "plt.plot(x, y, 'b')\n",
        "plt.plot(x_grad, y_grad, 'g--')\n",
        "plt.scatter([1], [0.5], s=100)\n",
        "plt.grid(True)\n",
        "plt.show()"
      ],
      "execution_count": null,
      "outputs": []
    },
    {
      "cell_type": "markdown",
      "metadata": {
        "id": "SQNDX9a9xafQ"
      },
      "source": [
        "На графике синей линией обозначен график функции, а зеленым пунктиром - касательная в точке. Как помним, касательная - это как раз график производной функции.\n",
        "\n",
        "По сути производная функции в точке показывает, **как** изменится значение функции при изменении аргумента, по которому берется производная, от этой точки. Производная в точке $x=1$ есть $\\frac{\\partial{(0.5x^2)}}{\\partial{x}} = 1x = 1$. То есть, судя по производной (прямой линии), увеличим аргумент $x$ на единицу ($x=2$) и значение функции должно измениться до $y=1.5$. Судя по функции, изменение происходит по-другому ($x=2, y=2$). По такому примеру видно, что имея значение производной в точке, можно оценить, **в какую сторону** изменится значение функции при изменении аргумента.\n",
        "\n",
        "Попробуем подойти с другой стороны: имеем описание функции $y=0.5x^2$ и точку, в которой мы располагаемся $x=1$. Попробуем найти ответ на вопрос, как нужно изменить значение $x$, чтобы **уменьшить значение функции** $y=f(x)$. Попробуем проверить два простых варианта:\n",
        "- к значению $x$ прибавим значение производной в точке;\n",
        "- от значения $x$ отнимем значение производной в точке.\n",
        "\n",
        "Первый вариант $x \\leftarrow x + \\frac{\\partial}{\\partial x} f(x)$ нам дает следующий расчет, производная в точке равна $\\frac{\\partial}{\\partial x}f(x) = 1$, прибавление значения дает нам $x=2$, при котором $f(x)=2$. То есть, прибавление производной дало нам увеличение значения функции.\n",
        "\n",
        "Во втором варианте $x \\leftarrow x - \\frac{\\partial}{\\partial x} f(x)$ мы имеет новое значение аргумента $x=0$, при котором $f(x) = 0$. То есть, вычитание значения производной позволило уменьшить значение функции.\n",
        "\n",
        "> Можете проверить аналогично при $x=-2$, прибавление производной ведет к увеличению функции (движемся влево), а вычитание ведет к уменьшению.\n",
        "\n",
        "Таким образом, мы выяснили, что производная в точке показывает направление изменения функции при перемещении из этой точки, поэтому мы этим пользуемся для градиентных методов:\n",
        "- градиентный спуск (gradient descent) - хотим двигаться к минимуму функции (минимизация), поэтому для уменьшения значения функции от аргумента отнимаем значение производной;\n",
        "- градиентный подъем (gradient ascent) - хотим двигаться к максимуму функции (максимизация), поэтому для увеличения значения функции к аргументу прибавляем значение производной."
      ]
    },
    {
      "cell_type": "markdown",
      "metadata": {
        "id": "gF0jmtQHVbXL"
      },
      "source": [
        "Введем небольшую поправку, возьмем функцию $y=5x^2$, производная равна $\\frac{\\partial y}{\\partial x} = 10x$. Если мы находимся в точке $x=1, y=5$ и вычтем производную из аргумента, то получим $x=-9$, что привело к увеличению функции $y=405$. Странно, правило не работает?\n",
        "\n",
        "> При этом можете убедиться, что прибавление производной также ведет к увеличению значения функции.\n",
        "\n",
        "Да, в этом случае мы имеем слишком **большое значение градиента** и это приводит к эффекту **расходящегося градиента**. Это такой эффект, когда мы пытаемся двигаться к уменьшению функции, а из-за большого значения градиента наше перемещения наоборот увеличивает значение функции.\n",
        "\n",
        "Для этого в правила градиентного спуска/подъема вводится специальный коэффициент $\\alpha$ и правило для спуска выглядит так:\n",
        "$$\n",
        "x \\leftarrow x - \\alpha \\frac{\\partial}{\\partial x} f(x)\n",
        "$$\n",
        "\n",
        "Этот коэффициент позволяет уменьшить значени градиента, чтобы он не так сильно влиял на перемещение. Так для последнего случая, имея $\\alpha=0.1$, вычитание даст переход из точки $x=1, y=5$ при $\\alpha \\frac{\\partial y}{\\partial x} = 1$ в точку $x=0, y=0$. Отлично, теперь правило снова работает!"
      ]
    },
    {
      "cell_type": "markdown",
      "metadata": {
        "id": "5Adz6CjqVbXM"
      },
      "source": [
        "Отлично! Понимая, как нужно менять значение аргумента функции, чтобы эту самую функцию минимизировать, мы просто делаем это последовательно шаг за шагом, чтобы так и добраться до минимума. Это очень *жадное* предположение (с точки зрения алгоритмов), но зато алгоритм очень простой и требует лишь нахождения производной функции.\n",
        "\n",
        "Теперь обратимся к нашей задаче. У нас есть:\n",
        "- функция потерь $J(W)$, которая оценивает, как работает наша модель;\n",
        "- параметры модели $W$, которые мы меняем, чтобы сделать работу модели лучше/хуже.\n",
        "\n",
        "Таким образом, используя принцип градиентного спуска для минимизации функции потерь, мы меняем аргумент в соответствии с правилом градиентного спуска, вычитая значение производной умноженной на $\\alpha$ (который в обучении называется **коэффициентом обучения**):\n",
        "$$\n",
        "W \\leftarrow W - \\alpha \\frac{\\partial}{\\partial W} J(W)\n",
        "$$\n",
        "\n",
        "Но мы помним, что $W$ - это не скаляр, а вектор, так что правило обновления для каждого веса будет выглядеть так:\n",
        "$$\n",
        "w_j \\leftarrow w_j - \\alpha \\frac{\\partial}{\\partial w_j} J(W)\n",
        "$$\n",
        "\n",
        "где $w_j$ - $j-й$ вес.\n",
        "\n",
        "По данной формуле видно, что мы просто выводим формулу производной функции, а потом вычисляем значение функции потерь при нынешних весах, обновляем веса и так шаг за шагом. Перейдем к выводу производной!"
      ]
    },
    {
      "cell_type": "markdown",
      "metadata": {
        "id": "7XbMxrZbgqBO"
      },
      "source": [
        "Еще раз вспомним, как выглядит функция потерь и функция предсказания для линейной регрессии для одной переменной:\n",
        "\n",
        "$$\n",
        "J(W) = \\frac{1}{2*n} \\sum_{i=1}^{n} (h_W(x^{(i)})-y^{(i)})^2 \\\\\n",
        "h_W(X) = XW = \\sum_{i=1}^{n} x^{(i)}*w_1+w_0\n",
        "$$ \n",
        "\n",
        "Для дальнейшего вывода введем упрощающее обозначение:\n",
        "$$\n",
        "E(x^{(i)}) = h_W(x^{(i)})-y^{(i)}\n",
        "$$\n",
        "\n",
        "Значит производная функции потерь будет выглядеть следующим образом:\n",
        "\n",
        "$$\n",
        "\\frac{\\partial}{\\partial w_j} J(W) = \n",
        "\\frac{\\partial}{\\partial w_j}  \\frac{1}{2*n} \\sum_{i=1}^{n} E(x^{(i)})^2 =\n",
        "\\frac{1}{2*n} \\sum_{i=1}^{n} \\frac{\\partial}{\\partial w_j} E(x^{(i)})^2\n",
        "$$\n",
        "\n",
        "Данный вывод сделали с учетом правила работы:\n",
        "- С производными от умножения на скаляры $\\frac{\\partial}{\\partial x}kx = k\\frac{\\partial}{\\partial x}x$;\n",
        "- Производными сумм $\\frac{\\partial}{\\partial x}(f(x)+g(x)) = \\frac{\\partial}{\\partial x}f(x) + \\frac{\\partial}{\\partial x}g(x)$.\n",
        "\n",
        "Далее требуется найти производную квадрата разницы между предсказанным и истинным значениями:\n",
        "\n",
        "$$\n",
        "\\frac{\\partial}{\\partial w_j} E(x^{(i)})^2 = \\\\\n",
        "2*E(x^{(i)})\\frac{\\partial}{\\partial w_j} E(x^{(i)})\n",
        "$$\n",
        "\n",
        "Для данного вывода мы воспользовались:\n",
        "- Цепным правилом $\\frac{\\partial}{\\partial x}f(g(x)) = \\frac{\\partial}{\\partial g(x)}f(g(x)) * \\frac{\\partial}{\\partial x}g(x)$.\n",
        "- Правилом степеней $\\frac{\\partial}{\\partial x}x^n = n*x^{n-1}\\frac{\\partial}{\\partial x}x$;\n"
      ]
    },
    {
      "cell_type": "markdown",
      "metadata": {
        "id": "OoKkNgYpixId"
      },
      "source": [
        "Промежуточный вид с учетом $E(x^{(i)}) = h_W(x^{(i)})-y^{(i)}$ (разворачиваем обратно и под производной разворачиваем $h_W(x^{(i)})$ к виду линейной регрессии):\n",
        "\n",
        "$$\n",
        "\\frac{\\partial}{\\partial w_j} J(W) = \n",
        "\\frac{1}{2*n} \\sum_{i=1}^{n} 2*(h_W(x^{(i)})-y^{(i)})\\frac{\\partial}{\\partial w_j}((x^{(i)}*w_1+w_0)-y^{(i)})\n",
        "$$"
      ]
    },
    {
      "cell_type": "markdown",
      "metadata": {
        "id": "NPNB0qPHij4j"
      },
      "source": [
        "\n",
        "Далее находим производные оставшихся частей в зависимости от веса с учетом вида функции предсказания:\n",
        "> Обратите внимание, уже конкретные $w_1$ и $w_0$ вместо $w_j$\n",
        "\n",
        "$$\n",
        "\\frac{\\partial}{\\partial w_0}((w_0 + w_1*x^{(i)})-y^{(i)}) = 1\n",
        "$$\n",
        "\n",
        "$$\n",
        "\\frac{\\partial}{\\partial w_1}((w_0 + w_1*x^{(i)})-y^{(i)}) = x^{(i)}\n",
        "$$\n",
        "\n",
        "Соответвенно, можно представить вид производных по каждому весу: \n",
        "\n",
        "$$\n",
        "\\frac{\\partial}{\\partial w_0} J(W) = \n",
        "\\frac{1}{n} \\sum_{i=1}^{n} (h_W(x^{(i)})-y^{(i)}) \\\\\n",
        "\\frac{\\partial}{\\partial w_1} J(W) = \n",
        "\\frac{1}{n} \\sum_{i=1}^{n} (h_W(x^{(i)})-y^{(i)})*x^{(i)}\n",
        "$$\n",
        "\n",
        "Можно также это выразить, как матричное выражение (заменив знак суммы на умножение матриц):\n",
        "\n",
        "> Помним, что $X$ - матрица $(n, 1)$\n",
        "\n",
        "$$\n",
        "\\frac{\\partial}{\\partial w_0} J(W) = \\frac{1}{n} 1^T*(h_W(X)-y) \\\\\n",
        "\\frac{\\partial}{\\partial w_1} J(W) = \\frac{1}{n} X^T*(h_W(X)-y)\n",
        "$$\n",
        "\n",
        "> Здесь 1 - вектор-столбец, состоящий из единиц длиной $n$."
      ]
    },
    {
      "cell_type": "markdown",
      "metadata": {
        "id": "vFohIdUl01WA"
      },
      "source": [
        "Ура, мы получили математический вид производных, которые позволят нам реализовать алгоритм градиентного спуска для обучения нашей модели!"
      ]
    },
    {
      "cell_type": "markdown",
      "metadata": {
        "id": "PmUId9kFjBuJ"
      },
      "source": [
        "На всякий случай, более простая визуализации алгоритма, только уже с одним параметром:\n",
        "\n",
        "> В линейной регрессии с одним признаком - два параметра для оптимизации: $w_1$ и $w_0$, здесь в примере просто описание градиентного спуска с единственным параметром"
      ]
    },
    {
      "cell_type": "markdown",
      "metadata": {
        "id": "vLvDEb1Zx_Cq"
      },
      "source": [
        "![as](https://miro.medium.com/max/1005/1*f0CuPDSWFUr9XGESWQ4JUA.png)"
      ]
    },
    {
      "cell_type": "markdown",
      "metadata": {
        "id": "5B8p0JBBjJEr"
      },
      "source": [
        "Суть алгоритма заключается в том, что шарик, находясь в определенном положении (вектор весов $W$ - так как двигаемся мы в пространстве весов), может определить не только, насколько он высоко находится (функция потерь $J(W)$), но и понять, куда ему надо двигаться, чтобы эту высоту уменьшить ($\\frac{\\partial}{\\partial w_j} J(W)$ - градиент, направление движения). Также коэффициент обучения $\\alpha$ говорит о том, насколько большой шаг мы сделаем, огромный и быстрый или маленький и медленный. Цель алгоритма, спустить шарик так низко, насколько это возможно (найти оптимальное значение весов $W$, при котором $J(W)$ будет минимальна)."
      ]
    },
    {
      "cell_type": "markdown",
      "metadata": {
        "id": "Q-yMYHM2kEhI"
      },
      "source": [
        "Для практики реализуем функции вычисления производных для каждого веса по отдельности:"
      ]
    },
    {
      "cell_type": "code",
      "metadata": {
        "id": "T_UrkTwBzQEI"
      },
      "source": [
        "def loss_function_deriv_w0(X, W, y_true):\n",
        "    # TODO - код расчета производной для смещения\n",
        "    return loss_deriv_w0\n",
        "\n",
        "def loss_function_deriv_w1(X, W, y_true):\n",
        "    # TODO - код расчета производной для веса признака 1\n",
        "    return loss_deriv_w1"
      ],
      "execution_count": null,
      "outputs": []
    },
    {
      "cell_type": "code",
      "metadata": {
        "id": "rhy-pl-UkBdz"
      },
      "source": [
        "# TEST\n",
        "X = np.array([\n",
        "    [1],\n",
        "    [4],\n",
        "])\n",
        "W = np.array([1, 2])\n",
        "y_true = np.array([1, 3])\n",
        "\n",
        "dJ_w0 = loss_function_deriv_w0(X, W, y_true)\n",
        "dJ_w1 = loss_function_deriv_w1(X, W, y_true)\n",
        "\n",
        "assert dJ_w1 == 13\n",
        "assert dJ_w0 == 4"
      ],
      "execution_count": null,
      "outputs": []
    },
    {
      "cell_type": "code",
      "metadata": {
        "id": "og_pTL16kK-x"
      },
      "source": [
        "# Посмотрим на данных\n",
        "y_true = y_data\n",
        "X = X_data\n",
        "\n",
        "dJ_w0 = loss_function_deriv_w0(X, selected_W, y_true)\n",
        "dJ_w1 = loss_function_deriv_w1(X, selected_W, y_true)"
      ],
      "execution_count": null,
      "outputs": []
    },
    {
      "cell_type": "code",
      "metadata": {
        "id": "lTJc1f3ie1ip"
      },
      "source": [
        "dJ_w1, dJ_w0"
      ],
      "execution_count": null,
      "outputs": []
    },
    {
      "cell_type": "markdown",
      "metadata": {
        "id": "6_mRXbKikMiH"
      },
      "source": [
        "После чего, выполним алгоритм поиска на нескольких итерациях, попутно собирая значения функции потерь, чтобы отобразить:"
      ]
    },
    {
      "cell_type": "code",
      "metadata": {
        "id": "MJT6BRyxdMvN"
      },
      "source": [
        "# Alpha - learning rate (lr)\n",
        "lr = 0.01\n",
        "n_iterations = 1000\n",
        "# Создаем вектор весов с размерностью количества признаков + 1\n",
        "new_W = np.zeros(X.shape[1]+1)\n",
        "loss_history = []\n",
        "\n",
        "for i_iter in range(n_iterations):\n",
        "    dJ_w0 = loss_function_deriv_w0(X, new_W, y_true)\n",
        "    dJ_w1 = loss_function_deriv_w1(X, new_W, y_true)\n",
        "    # TODO - код обновления весов\n",
        "\n",
        "    y_pred = predict(X, new_W)\n",
        "    loss = loss_function(y_true, y_pred)\n",
        "    loss_history.append(loss)"
      ],
      "execution_count": null,
      "outputs": []
    },
    {
      "cell_type": "code",
      "metadata": {
        "id": "3_rnzYz1lVdw"
      },
      "source": [
        "# TEST\n",
        "assert np.all(np.isclose(new_W, np.array([0.76555, 0.77251])))"
      ],
      "execution_count": null,
      "outputs": []
    },
    {
      "cell_type": "markdown",
      "metadata": {
        "id": "SMDUQLyb6Vo1"
      },
      "source": [
        "Теперь напишем функцию отображения истории обучения:"
      ]
    },
    {
      "cell_type": "code",
      "metadata": {
        "id": "0UvHF4SYgJJk"
      },
      "source": [
        "def show_loss(loss_history):\n",
        "    plt.plot(loss_history)\n",
        "    plt.grid()\n",
        "    plt.title('Loss history')\n",
        "    plt.xlabel('Iteration')\n",
        "    plt.ylabel('$J(X)$')\n",
        "    plt.show()"
      ],
      "execution_count": null,
      "outputs": []
    },
    {
      "cell_type": "code",
      "metadata": {
        "id": "6d7Vq6j36iVQ"
      },
      "source": [
        "show_loss(loss_history)"
      ],
      "execution_count": null,
      "outputs": []
    },
    {
      "cell_type": "code",
      "metadata": {
        "id": "xBBhDjuYd9Bm"
      },
      "source": [
        "new_W"
      ],
      "execution_count": null,
      "outputs": []
    },
    {
      "cell_type": "markdown",
      "metadata": {
        "id": "2zMf83lj6xvf"
      },
      "source": [
        "Новые веса уже ближе располагаются к тем весам, по которым построены данные - отлично! Значит алгоритм работает! Осталось отобразить предсказания модели и проверить метрики, чтобы окончательно убедиться:"
      ]
    },
    {
      "cell_type": "code",
      "metadata": {
        "id": "Y_tzzHM-gogb"
      },
      "source": [
        "y_pred = predict(X, new_W)\n",
        "plot_model(X_data, y_pred, y_data)\n",
        "\n",
        "rmse_value = rmse_score(y_true, y_pred)\n",
        "rmse_value"
      ],
      "execution_count": null,
      "outputs": []
    },
    {
      "cell_type": "markdown",
      "metadata": {
        "id": "j06rXs4h7cbd"
      },
      "source": [
        "Метрика $RMSE$ стала меньше, не так ли? Это отличный показатель того, что обученная модель работает лучше, чем с какими-то случайными весами!"
      ]
    },
    {
      "cell_type": "markdown",
      "metadata": {
        "id": "6S1tLQbu6nUq"
      },
      "source": [
        "## Больше визуализации результатов!\n",
        "\n",
        "Для расширения багажа инструментов анализа познакомимся с еще двумя способами оценки результатов предсказания!\n",
        "\n",
        "Первым способом является отображение распределения отклонений:"
      ]
    },
    {
      "cell_type": "code",
      "metadata": {
        "id": "KBZXTRDX627y"
      },
      "source": [
        "y_residuals = y_true-y_pred\n",
        "\n",
        "sns.distplot(y_residuals, bins=15)\n",
        "plt.yticks([])\n",
        "plt.grid(True)\n",
        "plt.xlabel('Отклонения')\n",
        "plt.show()"
      ],
      "execution_count": null,
      "outputs": []
    },
    {
      "cell_type": "markdown",
      "metadata": {
        "id": "KK-2rQ5X7NYw"
      },
      "source": [
        "Мы видим, что распределение является похожим на нормальное и среднее близко к нулю - это важное понимание того, что модель работает правильно! Для сравнения проверим картину со случайными весами:"
      ]
    },
    {
      "cell_type": "code",
      "metadata": {
        "id": "fSqDr-bq7qtn"
      },
      "source": [
        "y_residuals = y_true-predict(X, selected_W)\n",
        "\n",
        "sns.distplot(y_residuals, bins=15)\n",
        "plt.yticks([])\n",
        "plt.grid(True)\n",
        "plt.xlabel('Отклонения')\n",
        "plt.show()"
      ],
      "execution_count": null,
      "outputs": []
    },
    {
      "cell_type": "markdown",
      "metadata": {
        "id": "DabGEWS_70LH"
      },
      "source": [
        "В данном случае характер распределения данных все еще похож на нормальный (из-за того, что данных всего 100 записей), но среднее уже смещено относительно нуля. Это объясняет точечный график отклонений: "
      ]
    },
    {
      "cell_type": "code",
      "metadata": {
        "id": "tfjAsw7T8NzW"
      },
      "source": [
        "_, ax = plt.subplots(1, 2, sharey=True, figsize=[20, 10])\n",
        "\n",
        "y_pred = predict(X, new_W)\n",
        "ax[0].scatter(X, y_true-y_pred)\n",
        "ax[0].grid(True)\n",
        "ax[0].set_title('Trained weights')\n",
        "ax[0].set_xlabel('$X$')\n",
        "ax[0].set_ylabel('Отклонения')\n",
        "\n",
        "y_pred = predict(X, selected_W)\n",
        "ax[1].scatter(X, y_true-y_pred)\n",
        "ax[1].grid(True)\n",
        "ax[1].set_title('Random weights')\n",
        "ax[1].set_xlabel('$X$')\n",
        "\n",
        "plt.show()"
      ],
      "execution_count": null,
      "outputs": []
    },
    {
      "cell_type": "markdown",
      "metadata": {
        "id": "Rc-jpC_H8NH6"
      },
      "source": [
        "На левом графике обученная модель и отклонения предсказания колеблятся около нуля - это и проверяет картина распределения. В случае плохой модели (график справа) отклонения не сконцентрированы около нуля - модель плохо повторяет зависимость в данных.\n",
        "\n",
        "Второй способ визуализации также является очень интуитивным, это график предсказанных значений от истинных:"
      ]
    },
    {
      "cell_type": "code",
      "metadata": {
        "id": "H9G2XcPM9aq2"
      },
      "source": [
        "_, ax = plt.subplots(1, 2, sharey=True, figsize=[20, 10])\n",
        "\n",
        "y_diag = np.sort(y_true)\n",
        "\n",
        "y_pred = predict(X, new_W)\n",
        "ax[0].plot(y_diag, y_diag)\n",
        "ax[0].scatter(y_pred, y_true)\n",
        "ax[0].grid(True)\n",
        "ax[0].set_title('Trained weights')\n",
        "ax[0].set_ylabel('Истинные значения')\n",
        "ax[0].set_xlabel('Предсказания')\n",
        "\n",
        "y_pred = predict(X, selected_W)\n",
        "ax[1].plot(y_diag, y_diag)\n",
        "ax[1].scatter(y_pred, y_true)\n",
        "ax[1].grid(True)\n",
        "ax[1].set_title('Random weights')\n",
        "ax[1].set_xlabel('Предсказания')\n",
        "\n",
        "plt.show()"
      ],
      "execution_count": null,
      "outputs": []
    },
    {
      "cell_type": "markdown",
      "metadata": {
        "id": "BZV4PfMZ98eH"
      },
      "source": [
        "Такой график показывает, как распределены предсказания относительно истинных значений. Можно заметить, что при хорошей работе модели (слева) точки повторяют диагональную прямую, а при плохой (справа) - имеют другое распределение."
      ]
    },
    {
      "cell_type": "markdown",
      "metadata": {
        "id": "mlFGfADEktQr"
      },
      "source": [
        "# Векторный градиентный спуск"
      ]
    },
    {
      "cell_type": "markdown",
      "metadata": {
        "id": "I-dm4de-7vrM"
      },
      "source": [
        "Реализованный градиентный спуск работает и этим нельзя не гордиться! Остается вопрос в том, что сейчас реализация ограничена моделью линейной регрессии с одним признаком. Пора бы перейти к общему случаю для любого количества признаков!"
      ]
    },
    {
      "cell_type": "markdown",
      "metadata": {
        "id": "MrUcXjDfkwyZ"
      },
      "source": [
        "Матричный вид правила обновления выглядит несложно, нужно просто умножить вектор частных производных (градиент) на $\\alpha$ и отнять от старых весов, чтобы получить новые:\n",
        "\n",
        "$$\n",
        "\\begin{bmatrix}\n",
        "w_0 \\\\\n",
        "w_1\n",
        "\\end{bmatrix}\n",
        "\\leftarrow \n",
        "\\begin{bmatrix}\n",
        "w_0 \\\\\n",
        "w_1 \\\\\n",
        "\\end{bmatrix}\n",
        "-\n",
        "\\alpha \n",
        "\\begin{bmatrix}\n",
        "\\frac{\\partial}{\\partial w_0} J(W) \\\\\n",
        "\\frac{\\partial}{\\partial w_1} J(W) \\\\\n",
        "\\end{bmatrix}\n",
        "$$"
      ]
    },
    {
      "cell_type": "markdown",
      "metadata": {
        "id": "3xBMmm9mmeiL"
      },
      "source": [
        "Вспомним, как выглядят правила обновления весов по отдельности, но в матричной форме для случая линейной регрессии одной переменной:\n",
        "\n",
        "$$\n",
        "\\frac{\\partial}{\\partial w_0} J(W) = \\frac{1}{n} 1^T*(h_W(X)-y) \\\\\n",
        "\\frac{\\partial}{\\partial w_1} J(W) = \\frac{1}{n} X^T*(h_W(X)-y)\n",
        "$$\n"
      ]
    },
    {
      "cell_type": "markdown",
      "metadata": {
        "id": "Guw7djTn-W5q"
      },
      "source": [
        "Выражение $h_W(X)-y$ в результате дает вектор-столбец, который затем в случае $w_1$ мы поэлементно умножаем на вектор $X$ (матрицу, но у нас же $(n, 1)$). По факту это умножение - перемножение отклонения предсказанного значения для $i$-й записи в данных на $i$-e значение нашего единственного признака. Для случая многих признаков мы бы имели форму:\n",
        "\n",
        "$$\n",
        "\\frac{\\partial}{\\partial w_j} J(W) = \\frac{1}{n} X^T_j(h_W(X)-y)\n",
        "$$"
      ]
    },
    {
      "cell_type": "markdown",
      "metadata": {
        "id": "UHX1Puf8_D9g"
      },
      "source": [
        "То есть, в зависимости от того, по какому весу берется производная, ту колонку (признак) в данных мы и умножаем на вектор отклонений.\n",
        "\n",
        "Теперь вспоминаем, что для $w_0$ нам нужно умножить последнюю колонку матрицы $X$, для $w_1$ - предпоследнюю, и т.д. Значит, чтобы сделать умножение колонок матрицы $X$ на вектор-колонку $h_W(X)-y$ мы можем просто транспонировать матрицу $X$, чтобы умножение делалось не колонка на колонку, а строка на колонку.\n",
        "\n",
        "> В матрице $X^T$ следующая разметка, строки - признаки, колонки - записи.\n"
      ]
    },
    {
      "cell_type": "markdown",
      "metadata": {
        "id": "mrS_p5gTo4j_"
      },
      "source": [
        "Таким образом мы получаем для нашего случая:\n",
        "\n",
        "$$\n",
        "\\begin{bmatrix}\n",
        "\\frac{\\partial}{\\partial w_0} J(W) \\\\\n",
        "\\frac{\\partial}{\\partial w_1} J(W) \\\\\n",
        "\\end{bmatrix}\n",
        "=\n",
        "\\frac{1}{n} X^T(h_W(X)-y)\n",
        "$$\n",
        "\n",
        "И для общего случая:\n",
        "\n",
        "$$\n",
        "\\begin{bmatrix}\n",
        "\\frac{\\partial}{\\partial w_0} J(W) \\\\\n",
        "\\frac{\\partial}{\\partial w_1} J(W) \\\\\n",
        "\\vdots \\\\\n",
        "\\frac{\\partial}{\\partial w_{m-1}} J(W) \\\\\n",
        "\\frac{\\partial}{\\partial w_m} J(W) \\\\\n",
        "\\end{bmatrix}\n",
        "=\n",
        "\\frac{1}{n} X^T(h_W(X)-y)\n",
        "$$"
      ]
    },
    {
      "cell_type": "markdown",
      "metadata": {
        "id": "olKAYMT7DMnQ"
      },
      "source": [
        "Самое время провести реализацию выведенных законов!"
      ]
    },
    {
      "cell_type": "code",
      "metadata": {
        "id": "Tn3Ge7jBkwTA"
      },
      "source": [
        "def loss_function_deriv(X, W, y_true):\n",
        "    # TODO - код вектора производных (градиента)\n",
        "    return loss_deriv"
      ],
      "execution_count": null,
      "outputs": []
    },
    {
      "cell_type": "code",
      "metadata": {
        "id": "PuoGXeD0XhoT"
      },
      "source": [
        "# TEST\n",
        "X = np.array([\n",
        "    [1, 3],\n",
        "    [4, 2],\n",
        "])\n",
        "W = np.array([1, 1, 2])\n",
        "y_true = np.array([1, 3])\n",
        "\n",
        "dJ = loss_function_deriv(X, W, y_true)\n",
        "dJ_true = np.array([6.5, 15.5, 16.5])\n",
        "\n",
        "assert np.all(dJ == dJ_true)\n",
        "assert np.all(dJ.shape == dJ_true.shape)"
      ],
      "execution_count": null,
      "outputs": []
    },
    {
      "cell_type": "markdown",
      "metadata": {
        "id": "JzFsrg-SDTKU"
      },
      "source": [
        "Также, для удобства напишем функцию обучения модели:"
      ]
    },
    {
      "cell_type": "code",
      "metadata": {
        "id": "a6MEbD0s7Exq"
      },
      "source": [
        "def fit_model(lr, n_iter, X, y):\n",
        "    new_W = np.zeros(X.shape[1]+1)\n",
        "    loss_history = []\n",
        "    print(f'Data shape: {X.shape}')\n",
        "    print(f'Start weights: {new_W}')\n",
        "\n",
        "    for i_iter in range(n_iter):\n",
        "        # TODO - добавьте код обновления весов и вычисления предсказаний\n",
        "     \n",
        "        loss = loss_function(y, y_pred)\n",
        "        loss_history.append(loss)\n",
        "\n",
        "    print(f'Result weights: {new_W}')\n",
        "    return new_W, loss_history"
      ],
      "execution_count": null,
      "outputs": []
    },
    {
      "cell_type": "code",
      "metadata": {
        "id": "a4-rVDPPQPVa"
      },
      "source": [
        "new_W, loss_history = fit_model(\n",
        "    lr=0.01,\n",
        "    n_iter=1000,\n",
        "    X=X_data,\n",
        "    y=y_data\n",
        ")"
      ],
      "execution_count": null,
      "outputs": []
    },
    {
      "cell_type": "code",
      "metadata": {
        "id": "3Js8aDx3l4Gp"
      },
      "source": [
        "# TEST\n",
        "assert np.all(np.isclose(new_W, np.array([0.76555, 0.77251])))"
      ],
      "execution_count": null,
      "outputs": []
    },
    {
      "cell_type": "markdown",
      "metadata": {
        "id": "QIRCSrJXhUR4"
      },
      "source": [
        "## Задание\n",
        "Изучите, как влияет значение `lr` на скорость сходимости - проверьте значения: [1, 0.1, 0.01, 0.001, 1e-4], отобразите графики функции потерь и предсказания модели, сделайте выводы."
      ]
    },
    {
      "cell_type": "code",
      "metadata": {
        "id": "b-DeaIfl94zR"
      },
      "source": [
        "# TODO - обучите модели при разных коэффициентах обучения \n",
        "#           и отобразите графики истории"
      ],
      "execution_count": null,
      "outputs": []
    },
    {
      "cell_type": "markdown",
      "metadata": {
        "id": "iYxNSbfBjO5v"
      },
      "source": [
        "# Полиномиальная регрессия"
      ]
    },
    {
      "cell_type": "code",
      "metadata": {
        "id": "ucFxWHyKjN7I"
      },
      "source": [
        "n_points = 50\n",
        "\n",
        "real_W = [1, 4, -2]\n",
        "X_data = 3*np.sort(np.random.rand(n_points, 1), axis=0)\n",
        "noize = 2*(np.random.rand(n_points, 1)-0.5)\n",
        "y_data_true = real_W[0] + real_W[1]*X_data + real_W[2]*X_data**2\n",
        "y_data_noized = y_data_true + noize\n",
        "y_data = y_data_noized[:, 0]\n",
        "\n",
        "X_render = np.linspace(X_data.min(), X_data.max(), 100)\n",
        "y_render = real_W[0] + real_W[1]*X_render + real_W[2]*X_render**2\n",
        "\n",
        "plt.scatter(X_data, y_data_noized, label='Данные')\n",
        "plt.plot(X_render, y_render, 'k--', label='Истинная зависимость')\n",
        "plt.ylabel('$Y$')\n",
        "plt.xlabel('$X$')\n",
        "plt.grid()\n",
        "plt.legend()"
      ],
      "execution_count": null,
      "outputs": []
    },
    {
      "cell_type": "markdown",
      "metadata": {
        "id": "6mDOe0cW96Sa"
      },
      "source": [
        "Полиномиальная зависимость имеет вид\n",
        "\n",
        "$$\n",
        "y = w_0+w_1*x+w_2*x^2\n",
        "$$\n",
        "\n",
        "Такое представление можно выразить через линейную зависимость, если принять, что квадрат признака - это новый признак, то есть:\n",
        "$$\n",
        "\\begin{align}\n",
        "x_1 = x \\\\\n",
        "x_2 = x^2 \n",
        "\\end{align}\n",
        "$$\n",
        "\n",
        "При этом набор данных и веса с полиномиальными признаками будут иметь вид в матричном представлении:\n",
        "$$\n",
        "X = \n",
        "\\begin{bmatrix}\n",
        "1 & x^{(1)}_1 & x^{(1)}_2 \\\\\n",
        "1 & x^{(2)}_1 & x^{(2)}_2 \\\\\n",
        "\\vdots \\\\\n",
        "1 & x^{(n)}_1 & x^{(n)}_2 \\\\\n",
        "\\end{bmatrix}\n",
        "$$\n",
        "\n",
        "$$\n",
        "W = \n",
        "\\begin{bmatrix}\n",
        "w_0 \\\\\n",
        "w_1 \\\\\n",
        "w_2 \\\\\n",
        "\\end{bmatrix}\n",
        "$$"
      ]
    },
    {
      "cell_type": "markdown",
      "metadata": {
        "id": "W5qfoaJkBkNC"
      },
      "source": [
        "При этом, обратите внимание, что функция предсказания $h_W(X)$ остается прежней. Это означает, что мы свели вопрос полиномиальной зависимости к решению через линейную регрессию."
      ]
    },
    {
      "cell_type": "markdown",
      "metadata": {
        "id": "Hiw_Uo7dADYO"
      },
      "source": [
        "Так как в модели уже три веса, то отобразить плоскость функции потерь затруднительно, но мы можем проверить работоспособность наших функций, которые были написаны ранее.\n",
        "\n",
        "Перед этим нам нужно сформировать преобразование, которое будет приводить вектор данных к представлению для линейной регрессии. Называется такой шаг - генерация полиномиальных признаков."
      ]
    },
    {
      "cell_type": "code",
      "metadata": {
        "id": "H2GjPWDmj5ws"
      },
      "source": [
        "def generate_polynomial_features(X, degree):\n",
        "    # TODO - код генерации полиномиальных признаков\n",
        "    #           из вектора X\n",
        "    return X_poly"
      ],
      "execution_count": null,
      "outputs": []
    },
    {
      "cell_type": "code",
      "metadata": {
        "id": "-itMDEGhopNO"
      },
      "source": [
        "# TEST\n",
        "X = np.array([\n",
        "    [1],\n",
        "    [2],\n",
        "    [3],\n",
        "])\n",
        "\n",
        "X_poly = generate_polynomial_features(X, degree=2)\n",
        "assert np.all(X_poly == np.array([[1, 1], [2, 4], [3, 9]]))"
      ],
      "execution_count": null,
      "outputs": []
    },
    {
      "cell_type": "code",
      "metadata": {
        "id": "1DDUrhr0B5u5"
      },
      "source": [
        "X_poly = generate_polynomial_features(X_data, degree=2)"
      ],
      "execution_count": null,
      "outputs": []
    },
    {
      "cell_type": "code",
      "metadata": {
        "id": "_ZXV1KkyCJ1b"
      },
      "source": [
        "# Задаем примерные начальные веса\n",
        "selected_W = np.array([1.1, 1.2, 1.3])\n",
        "X = generate_polynomial_features(X_data, degree=2)\n",
        "y_true = y_data\n",
        "\n",
        "# Проверяем предикт\n",
        "y_pred = predict(X, selected_W)\n",
        "\n",
        "y_pred.shape, y_pred.shape[0] == X_data.shape[0]"
      ],
      "execution_count": null,
      "outputs": []
    },
    {
      "cell_type": "code",
      "metadata": {
        "id": "Ii1ZfsnxE7kp"
      },
      "source": [
        "# Проверяем показатель метрики\n",
        "rmse_value = rmse_score(y_true, y_pred)\n",
        "\n",
        "rmse_value"
      ],
      "execution_count": null,
      "outputs": []
    },
    {
      "cell_type": "markdown",
      "metadata": {
        "id": "fUr0D3XUFTH9"
      },
      "source": [
        "Для отображения полиномиальной зависимости нужно немного обновить функцию."
      ]
    },
    {
      "cell_type": "code",
      "metadata": {
        "id": "qAvhe2JPCan4"
      },
      "source": [
        "plot_model(X_data, y_pred, y_data)"
      ],
      "execution_count": null,
      "outputs": []
    },
    {
      "cell_type": "code",
      "metadata": {
        "id": "pr7-U11KETWk"
      },
      "source": [
        "new_W, loss_history = fit_model(\n",
        "    lr=0.01,\n",
        "    n_iter=2000,\n",
        "    X=X,\n",
        "    y=y_data\n",
        ")\n",
        "\n",
        "show_loss(loss_history)"
      ],
      "execution_count": null,
      "outputs": []
    },
    {
      "cell_type": "code",
      "metadata": {
        "id": "oENHTzB0HNJg"
      },
      "source": [
        "y_pred = predict(X, new_W)\n",
        "plot_model(X_data, y_pred, y_true)\n",
        "rmse_score(y_true, y_pred)"
      ],
      "execution_count": null,
      "outputs": []
    },
    {
      "cell_type": "markdown",
      "metadata": {
        "id": "7hmBjvc7WOEP"
      },
      "source": [
        "# Underfit (high bias)"
      ]
    },
    {
      "cell_type": "markdown",
      "metadata": {
        "id": "MCzIXSCiWUtH"
      },
      "source": [
        "Эффект Underfit - эффект, когда сложность модели меньше, чем требуемая для описания данных. Самый простой пример, выбор модели первого порядка для описания зависимости второго порядка:"
      ]
    },
    {
      "cell_type": "code",
      "metadata": {
        "id": "rGPG2sg2HQPl"
      },
      "source": [
        "DEGREE=1\n",
        "X = generate_polynomial_features(X_data, degree=DEGREE)\n",
        "y_true = y_data\n",
        "\n",
        "new_W, loss_history = fit_model(\n",
        "    lr=0.01,\n",
        "    n_iter=2000,\n",
        "    X=X,\n",
        "    y=y_data\n",
        ")\n",
        "\n",
        "y_pred = predict(X, new_W)\n",
        "plot_model(X_data, y_pred, y_data)"
      ],
      "execution_count": null,
      "outputs": []
    },
    {
      "cell_type": "code",
      "metadata": {
        "id": "mreZp04GaRlj"
      },
      "source": [
        "show_loss(loss_history)"
      ],
      "execution_count": null,
      "outputs": []
    },
    {
      "cell_type": "markdown",
      "metadata": {
        "id": "LwYg3GtK1ruO"
      },
      "source": [
        "# R2 метрика (коэффициент детерминации)"
      ]
    },
    {
      "cell_type": "markdown",
      "metadata": {
        "id": "GcJCIIIRYzoV"
      },
      "source": [
        "Как видно, модель \"плохо\" описывает данные, при этом градиентный спуск нашел веса для условия минимума функции потерь. Функции $RMSE$ и $MAE$ хорошо использовать для относительных сравнений работы моделей, так как они не имеют верхнего предела. Для абсолютной оценки удобно использовать метрику $R^2$ (r-squared) - коэффициент детерминации.\n",
        "\n",
        "Вычисляется оценка с помощью двух составляющих:\n",
        "- Сумма квадратов отклонений данных (total sum of squares)\n",
        "$$\n",
        "SS_{tot}=\\sum_{i}(y^{(i)}-\\bar{y})^2\n",
        "$$\n",
        "\n",
        "- Сумма отклонений предсказаний (sum of squares of residuals)\n",
        "$$\n",
        "SS_{res}=\\sum_{i}(y^{(i)}-h_W^{(i)}(x^{(i)}))^2\n",
        "$$\n",
        "\n",
        "где $\\bar{y}=\\frac{1}{n}\\sum_{i}y^{(i)}$\n",
        "\n",
        "Сама оценка рассчитывается следующим образом:\n",
        "$$\n",
        "R^2=1-\\frac{SS_{res}}{SS_{tot}}\n",
        "$$\n",
        "\n",
        "Особенностью показателя является то, что он имеет верхний предел 1.0, который достигается в случае, если отклонения предсказаний всегда равны нулю. Нижний предел не ограничивается. Суть коэффициента детерминации в том, что в качестве худшего случая предсказания принимается линия, равная среднему значению $y$. При таком варианте коэффициент равен нулю. Если модель предсказывает лучше, чем худший случай, то значение будет варьироваться от 0 до 1. Если модель описывает данные хуже, чем \"всегда среднее\", то такой кейс считается неприемлимым."
      ]
    },
    {
      "cell_type": "code",
      "metadata": {
        "id": "HI7PRIIrXYEf"
      },
      "source": [
        "def r2_score(y_true, y_pred):\n",
        "    # TODO - код расчета R-squared\n",
        "    return r2_value"
      ],
      "execution_count": null,
      "outputs": []
    },
    {
      "cell_type": "code",
      "metadata": {
        "id": "26pkiV3Cp6v5"
      },
      "source": [
        "# TEST\n",
        "y_true = np.array([0.5, 0.1, -0.4, 1.2])\n",
        "y_pred = np.array([0.2, 0.0, -0.1, 3.1])\n",
        "\n",
        "r2_value = r2_score(y_true, y_pred)\n",
        "\n",
        "assert np.isclose(r2_value, -1.773722)"
      ],
      "execution_count": null,
      "outputs": []
    },
    {
      "cell_type": "code",
      "metadata": {
        "id": "yvSkX3iYb__b"
      },
      "source": [
        "y_true = y_data\n",
        "y_pred = predict(X, new_W)\n",
        "r2_value = r2_score(y_true, y_pred)\n",
        "\n",
        "r2_value, r2_value > 0"
      ],
      "execution_count": null,
      "outputs": []
    },
    {
      "cell_type": "markdown",
      "metadata": {
        "id": "6I_6UNJdgds1"
      },
      "source": [
        "В данном случае мы видим, что модель предсказывает лучше, чем просто среднее значение вектора истинного значения, что уже хорошо. Но при этом показатель недостаточно высок, чтобы сказать, что модель \"хорошо\" описывает данные - случай underfit. Это видно как на графике, так и выведенно численно ($R^2$). Для примера сравните с показателем при обучении модели второго порядка."
      ]
    },
    {
      "cell_type": "markdown",
      "metadata": {
        "id": "8_nPZXZjhIEy"
      },
      "source": [
        "## Задание\n",
        "Произведите обучение модели второго порядка и оцените коэффициент детерминации."
      ]
    },
    {
      "cell_type": "code",
      "metadata": {
        "id": "9AXKn-BodLlP"
      },
      "source": [
        "# TODO - обучите модель при признаках второго порядка и оцените R2"
      ],
      "execution_count": null,
      "outputs": []
    },
    {
      "cell_type": "markdown",
      "metadata": {
        "id": "uAMNtRPAhUaJ"
      },
      "source": [
        "# Overfit (high variance)"
      ]
    },
    {
      "cell_type": "markdown",
      "metadata": {
        "id": "rwIB8NZRj8oW"
      },
      "source": [
        "Случай overfit является обратным к underfit, когда модель является слишком сложной (комплексной), нежели требуется для описания данных. Для разбора такого случая воспользуемся моделью десятого порядка для данных, которые имеют зависимость второго порядка. "
      ]
    },
    {
      "cell_type": "markdown",
      "metadata": {
        "id": "JdRGJoJz2Zkg"
      },
      "source": [
        "> Пример сгенерирован с использованием `numpy.linalg.lstsq` - метод наименьших квадратов, который применим к линейной регрессии. Это аналитический метод, который находит наилучшее решение для линейных методов. Связано это с тем, что при большом количестве признаков пространство ошибок становится крайне неравномерным, а из-за итеративности метода градиентного спуска он останавливается в локальном минимуме."
      ]
    },
    {
      "cell_type": "code",
      "metadata": {
        "id": "fYumOVjo18aR"
      },
      "source": [
        "DEGREE=25\n",
        "X = generate_polynomial_features(X_data, degree=DEGREE)\n",
        "y = y_data\n",
        "\n",
        "def fit_model_least_square(X, y):\n",
        "    coef_, _residues, rank_, singular_ = np.linalg.lstsq(X, y)\n",
        "    coef_ = np.insert(coef_, 0, 0)\n",
        "    new_W = np.array(coef_)\n",
        "\n",
        "    return new_W\n",
        "\n",
        "new_W = fit_model_least_square(X, y)\n",
        "\n",
        "y_pred = predict(X, new_W)\n",
        "plot_model(X_data, y_pred, y_data)\n",
        "rmse_score(y_true, y_pred), r2_score(y_true, y_pred)"
      ],
      "execution_count": null,
      "outputs": []
    },
    {
      "cell_type": "markdown",
      "metadata": {
        "id": "swnuysYNVbFe"
      },
      "source": [
        "Один из простых методов для определения overfit является подход **hold-out**, при котором происходит разделение всей выборки на обучающую и тестовую выборки в соотношении 70/30 или 80/20 (чем больше данных в целом, тем меньше может быть процент тестовой выборки). Таким образом модель учится на обучающей выборке, а тестовая используется лишь для оценки показателей метрик."
      ]
    },
    {
      "cell_type": "code",
      "metadata": {
        "id": "aaG-q70p31wF"
      },
      "source": [
        "DATA_COUNT=X_data.shape[0]\n",
        "# np.random.permutation() - функция перемешивания данных \n",
        "#   в переданном массиве\n",
        "data_indexes=np.random.permutation(range(DATA_COUNT))\n",
        "\n",
        "# 70% данных уходит на обучение\n",
        "TRAIN_COUNT=int(DATA_COUNT*0.7)\n",
        "train_indexes=data_indexes[:TRAIN_COUNT]\n",
        "test_indexes=data_indexes[TRAIN_COUNT:]\n",
        "\n",
        "X_train = X_data[train_indexes]\n",
        "y_train = y_data[train_indexes]\n",
        "X_test = X_data[test_indexes]\n",
        "y_test = y_data[test_indexes]\n",
        "\n",
        "X_train = generate_polynomial_features(X_train, degree=DEGREE)\n",
        "X_test = generate_polynomial_features(X_test, degree=DEGREE)"
      ],
      "execution_count": null,
      "outputs": []
    },
    {
      "cell_type": "code",
      "metadata": {
        "id": "JCmZhhm1jQ0B"
      },
      "source": [
        "new_W = fit_model_least_square(X_train, y_train)\n",
        "\n",
        "y_pred = predict(X_test, new_W)\n",
        "test_mse = rmse_score(y_test, y_pred)\n",
        "test_r2 = r2_score(y_test, y_pred)\n",
        "\n",
        "y_pred = predict(X_train, new_W)\n",
        "train_mse = rmse_score(y_train, y_pred)\n",
        "train_r2 = r2_score(y_train, y_pred)\n",
        "\n",
        "print(f'Train MSE: {train_mse} / R2: {train_r2}')\n",
        "print(f'Test MSE: {test_mse} / R2: {test_r2}')"
      ],
      "execution_count": null,
      "outputs": []
    },
    {
      "cell_type": "markdown",
      "metadata": {
        "id": "XUNdoDsDV5jA"
      },
      "source": [
        "Как видим, явным признаком ситуации overfit является сильная разница в показаниях метрик обучащей и тестовой выборке."
      ]
    },
    {
      "cell_type": "code",
      "metadata": {
        "id": "cy30aAZcakek"
      },
      "source": [
        "X_min = X_data[:,0].min()\n",
        "X_max = X_data[:,0].max()\n",
        "\n",
        "X_render = np.linspace(X_min, X_max, 100).reshape(-1, 1)\n",
        "# Добавим генерацию полиномиальных признаков\n",
        "X_render = generate_polynomial_features(X_render, DEGREE)\n",
        "y_render = predict(X_render, new_W)\n",
        "\n",
        "plt.scatter(X_train[:,0], y_train, color='blue', label='Данные (обучение)')\n",
        "plt.scatter(X_test[:,0], y_test, color='red', label='Данные (тест)')\n",
        "plt.plot(X_render[:,0], y_render, 'k--', label='Предсказание модели')\n",
        "plt.ylabel('$Y$')\n",
        "plt.xlabel('$X$')\n",
        "plt.grid()\n",
        "plt.legend()\n",
        "plt.show()"
      ],
      "execution_count": null,
      "outputs": []
    },
    {
      "cell_type": "markdown",
      "metadata": {
        "id": "c6ciwBpJAkad"
      },
      "source": [
        "По сути, природой такого эффекта является то, что вместо отражения общих зависимостей, модель старается как можно точнее отработать на выборке, на которой обучается. Таким образом, модель отдаляется от работы с зависимостью и сильнее реагирует на шумы в данных.\n",
        "\n",
        "> Эффект overfit еще сравнивают с \"запоминанием\" данных моделью. Это связано с тем, что при большой комплексности модели она может запомнить конкретные точки (на примере полиномов - высокий порядок позволяет сильнее изгибаться), что ведет к невозможности адекватно предсказывать на новых данных.\n",
        "\n",
        "Как видно на картинке, увеличение комплексности модели ведет к увеличению Variance и уменьшению Bias. Так, слишком комплексная модель начинает заниматься запоминанием, а не построением общей зависимости. При недостаточно комплексности высок Bias, что ведет к невозможности описать зависимости.Наилучший вариант, когда модель близка по комплексности к данным, на которых обучается.\n",
        "\n",
        "![title](https://miro.medium.com/max/492/1*kADA5Q4al9DRLoXck6_6Xw.png)"
      ]
    },
    {
      "cell_type": "markdown",
      "metadata": {
        "id": "awqOmPRrQkXZ"
      },
      "source": [
        "Таким образом, эффекты Underfit/Overfit достаточно распространены в работе с моделями. При этом если Underfit можно увидеть уже на моменте оценки работы модели, то для избежания эффекта Overfit можно перечислить некоторые методы работы помимо Holt-Out (Train/Test):\n",
        "- Увеличение количества данных;\n",
        "- Методы **регуляризации** (Ридж, Лассо);\n",
        "- Кросс-валидация;\n",
        "- Уменьшение количества признаков;\n",
        "- Ансамблирование;\n",
        "- и др. "
      ]
    },
    {
      "cell_type": "markdown",
      "metadata": {
        "id": "2oTv0yGO22bA"
      },
      "source": [
        "# Стандартизация/нормализация значений признаков"
      ]
    },
    {
      "cell_type": "markdown",
      "metadata": {
        "id": "bfoYVqrfGOJx"
      },
      "source": [
        "Теперь давайте возьмем наши данные, которые имеют полиномиальную зависимость и попробуем описать ее полиномом 7-го порядка:"
      ]
    },
    {
      "cell_type": "code",
      "metadata": {
        "id": "B87WW_fatJj0"
      },
      "source": [
        "DEGREE=7\n",
        "X_poly = generate_polynomial_features(X_data, degree=DEGREE)"
      ],
      "execution_count": null,
      "outputs": []
    },
    {
      "cell_type": "code",
      "metadata": {
        "id": "LiTitV0IvEbV"
      },
      "source": [
        "X = X_poly\n",
        "y_true = y_data\n",
        "\n",
        "new_W, loss_history = fit_model(\n",
        "    lr=0.01,\n",
        "    n_iter=2000,\n",
        "    X=X,\n",
        "    y=y_true\n",
        ")"
      ],
      "execution_count": null,
      "outputs": []
    },
    {
      "cell_type": "markdown",
      "metadata": {
        "id": "0YnqF4ku4HCR"
      },
      "source": [
        "Что-то странное произошло - все веса стали `nan` (Not A Number). Для того, чтобы разобраться с проблемой, в первую очередь стоить посмотреть на значения вычисленных производных (величину градиента)."
      ]
    },
    {
      "cell_type": "code",
      "metadata": {
        "id": "TC_8CM1vv1F8"
      },
      "source": [
        "start_W = np.zeros(DEGREE+1)\n",
        "dJ = loss_function_deriv(X, start_W, y_true)\n",
        "print(dJ)"
      ],
      "execution_count": null,
      "outputs": []
    },
    {
      "cell_type": "markdown",
      "metadata": {
        "id": "C2LY5QVi4VR5"
      },
      "source": [
        "Как видно, значения производных первых признаков на порядок отличается от значений производных последних признаков. Большие значения производных (большая величина градиента) ведет к огромному шагу в пространстве признаков, что приводит к проблеме **расходящегося градиента**."
      ]
    },
    {
      "cell_type": "markdown",
      "metadata": {
        "id": "-eb2o4rlyorI"
      },
      "source": [
        "![КАРТИНКА С РАСХОДЯЩИМСЯ ГРАДИЕНТОМ](https://miro.medium.com/max/700/1*hGhRddOUV8h0pdQek8T35A.png)"
      ]
    },
    {
      "cell_type": "markdown",
      "metadata": {
        "id": "Be6Y0R_-3m7j"
      },
      "source": [
        "Для решения проблемы расходящегося градиента можно уменьшить коэффициент обучения, тем самым уменьшив шаг перемещения в пространстве весов - это повышает стабильность алгоритма."
      ]
    },
    {
      "cell_type": "code",
      "metadata": {
        "id": "Mb9c9xtFvs3N"
      },
      "source": [
        "new_W, loss_history = fit_model(\n",
        "    lr=1e-6,\n",
        "    n_iter=2000,\n",
        "    X=X,\n",
        "    y=y_true\n",
        ")\n",
        "y_pred = predict(X, new_W)\n",
        "plot_model(X_data, y_pred, y_data)"
      ],
      "execution_count": null,
      "outputs": []
    },
    {
      "cell_type": "markdown",
      "metadata": {
        "id": "7oiU18CZtMGI"
      },
      "source": [
        "По графику обученная модель плохо предсказывает данные.\n",
        "\n",
        "Вспомним значения градиентов, у признаков ближе к нулевому индексу значение более тысячи по модулю, хотя производная последнего элемента меньше единицы по модулю. Это сказывается на процессе обучения: при большом коэффициенте обучения градиент расходится, при малом - веса обновляются очень долго и при этом только те веса, у которых градиент достаточно большой, чтобы умножение на очень малый коэффициент обучения дало хоть какое-то обновление.\n",
        "\n",
        "> Именно эта проблема еще называется проблемой зависания в \"плато\""
      ]
    },
    {
      "cell_type": "markdown",
      "metadata": {
        "id": "lrvTpVL1uQkm"
      },
      "source": [
        "Таким образом, различия в пределах распределения признаков в данных может очень сильно сказаться на процессе обучения, так как признаки с большими значениями сильнее реагируют на изменения по сравнению с признаками, которые имеют малые значения, при том, что коээфициент обучения один."
      ]
    },
    {
      "cell_type": "markdown",
      "metadata": {
        "id": "s2D8FK2yv4Ao"
      },
      "source": [
        "Для решения данной проблемы выполняется процесс стандартизации. Он заключается в том, чтобы привести все признаки к единому диапазону за счет добавления шага предобработки данных."
      ]
    },
    {
      "cell_type": "markdown",
      "metadata": {
        "id": "wxpruVBQwGX3"
      },
      "source": [
        "Наиболее распространенным процессом стандартизации является приведение распределения к распределению с нулевым средним (центрования) и единичным стандартным отклонением (машстабирование).\n",
        "\n",
        "> Связано это с тем, что огромные массивы случайных данных вероятнее всего имеют нормальное распределение. На деле признаки не всегда имеют данный характер распределения, но тем не менее оно остается желанным, так как с ним проще работать. Как известно, нормальное распределение характеризуется средним и стандартным отклонением, именно поэтому процесс стандартизации использует эти два шага."
      ]
    },
    {
      "cell_type": "markdown",
      "metadata": {
        "id": "9g_J9lEnxYRw"
      },
      "source": [
        "Для вычисления средних значений и стандартных отклонений для каждого признака воспользуеся методами `mean()` и `std()` из пакета `numpy` по оси записей (аргумент `axis`)."
      ]
    },
    {
      "cell_type": "markdown",
      "metadata": {
        "id": "IXi37u93xznP"
      },
      "source": [
        "Принцип нормализации основывается на формуле:\n",
        "\n",
        "$$\n",
        "X_{standardized}=\\frac{X-X_{mean}}{X_{std}}\n",
        "$$"
      ]
    },
    {
      "cell_type": "code",
      "metadata": {
        "id": "69BTelQXxsc2"
      },
      "source": [
        "def standardize_features_scale(X):\n",
        "    # TODO - код для стандартизации\n",
        "    return X_scaled"
      ],
      "execution_count": null,
      "outputs": []
    },
    {
      "cell_type": "code",
      "metadata": {
        "id": "totmF7qh2fXR"
      },
      "source": [
        "# TEST\n",
        "X = np.arange(2, 10).reshape(4, 2)\n",
        "\n",
        "X_scaled = standardize_features_scale(X)\n",
        "\n",
        "# Cтандартизированные данные должны иметь нулевое среднее и единичное стандартное отклонение\n",
        "assert np.all(np.isclose(X_scaled.mean(axis=0), 0))\n",
        "assert np.all(np.isclose(X_scaled.std(axis=0), 1))\n",
        "\n",
        "assert np.all(\n",
        "    np.isclose(\n",
        "        X_scaled, \n",
        "        np.array([[-1.34164079, -1.34164079],\n",
        "                  [-0.4472136 , -0.4472136 ],\n",
        "                  [ 0.4472136 ,  0.4472136 ],\n",
        "                  [ 1.34164079,  1.34164079]])\n",
        "    )\n",
        ")"
      ],
      "execution_count": null,
      "outputs": []
    },
    {
      "cell_type": "markdown",
      "metadata": {
        "id": "YkLrC7Vly86W"
      },
      "source": [
        "Посмотрим на значения производных при использовании стандартизованных признаков:"
      ]
    },
    {
      "cell_type": "code",
      "metadata": {
        "id": "k-TLnvUEymxf"
      },
      "source": [
        "X_poly_scaled = standardize_features_scale(X_poly)\n",
        "y_true = y_data\n",
        "start_W = np.zeros(DEGREE+1)\n",
        "\n",
        "dJ = loss_function_deriv(X_poly_scaled, start_W, y_true)\n",
        "print(dJ)"
      ],
      "execution_count": null,
      "outputs": []
    },
    {
      "cell_type": "markdown",
      "metadata": {
        "id": "mbIylGA0zULq"
      },
      "source": [
        "При корректной стандартизации вычисление производных должно показать значения в одном порядковом диапазоне (единицы). Это означает, что во время обучения некоторые признаки не будут так сильно влиять на изменение весов. Все веса будут обновляться равномерно."
      ]
    },
    {
      "cell_type": "code",
      "metadata": {
        "id": "g1frrkSI5HAM"
      },
      "source": [
        "new_W, loss_history = fit_model(\n",
        "    lr=0.01,\n",
        "    n_iter=2000,\n",
        "    X=X_poly_scaled,\n",
        "    y=y_true\n",
        ")\n",
        "y_pred = predict(X_poly_scaled, new_W)\n",
        "plot_model(X_data, y_pred, y_data)\n",
        "r2_score(y_true, y_pred)"
      ],
      "execution_count": null,
      "outputs": []
    },
    {
      "cell_type": "markdown",
      "metadata": {
        "id": "dVYrWl0qzl7f"
      },
      "source": [
        "> Не забывайте важную вещь! При введении шага стандартизации все данные, поступаемые для получения предсказаний, должны быть стандартизованы. То есть, процесс обычно происходит так: обучающие данные стандартизуются, вычисленные средние и стд. отклонения для признаков сохраняются и далее новые данные стандартизуются уже по сохраненным параметрам."
      ]
    },
    {
      "cell_type": "markdown",
      "metadata": {
        "id": "4TBCKSt40Kap"
      },
      "source": [
        "Как видно, обучение со стандартизованными значениями признаков проходит без расходящегося градиента даже при исходном значении коэффициента обучения."
      ]
    },
    {
      "cell_type": "markdown",
      "metadata": {
        "id": "2r5tCQLSrLLl"
      },
      "source": [
        "## Задание"
      ]
    },
    {
      "cell_type": "markdown",
      "metadata": {
        "id": "ZFYDdcAmrPKN"
      },
      "source": [
        "Реализуйте и проверьте работоспособность стандартизации минмакс:\n",
        "$$\n",
        "X_{standardized}=\\frac{X-X_{min}}{X_{max}-X_{min}}\n",
        "$$"
      ]
    },
    {
      "cell_type": "code",
      "metadata": {
        "id": "G01aC4QirMlH"
      },
      "source": [
        "def minmax_feature_scale(X):\n",
        "    # TODO - код масштабирования по принципу minmax\n",
        "    return X_scaled"
      ],
      "execution_count": null,
      "outputs": []
    },
    {
      "cell_type": "code",
      "metadata": {
        "id": "_O3orOdS5I8b"
      },
      "source": [
        "# TEST\n",
        "X = np.arange(2, 10).reshape(4, 2)\n",
        "\n",
        "X_scaled = minmax_feature_scale(X)\n",
        "\n",
        "assert np.all(\n",
        "    np.isclose(\n",
        "        X_scaled, \n",
        "        np.array([[0.        , 0.        ],\n",
        "                  [0.33333333, 0.33333333],\n",
        "                  [0.66666667, 0.66666667],\n",
        "                  [1.        , 1.        ]])\n",
        "    )\n",
        ")"
      ],
      "execution_count": null,
      "outputs": []
    },
    {
      "cell_type": "code",
      "metadata": {
        "id": "g4um8Ygn5JYy"
      },
      "source": [
        "# TODO - обучите модель и проверьте предсказания"
      ],
      "execution_count": null,
      "outputs": []
    },
    {
      "cell_type": "markdown",
      "metadata": {
        "id": "R75JT_Ou5qgM"
      },
      "source": [
        "# Стандартизация для линейной регрессии (важность признаков)"
      ]
    },
    {
      "cell_type": "markdown",
      "metadata": {
        "id": "NhK939u05t2x"
      },
      "source": [
        "Стандартизация имеет не только влияние на процесс обучения, но и важна для модели линейной регрессии и ее применения. Как помнится, модель линейной регрессии представляет собой сумму значений признаков, умноженных на веса. Для примера возьмем модель с двумя признаками и нулевым смещением ($w_0=0$).\n",
        "\n",
        "$$\n",
        "y = 2*x_1 + 20*x_2\n",
        "$$"
      ]
    },
    {
      "cell_type": "markdown",
      "metadata": {
        "id": "PrdyMqT37hqV"
      },
      "source": [
        "Идеологически назначение весов в линейной регрессии в том, чтобы показать, какой вклад составляет каждый признак в предсказание. Без знания и описания данных, на которых обучена модель, можно лишь сказать, что признак $x_2$ имеет в 10 раз больший вклад (важность) в результат предсказания, нежели $x_1$."
      ]
    },
    {
      "cell_type": "markdown",
      "metadata": {
        "id": "EjIpDNwD8fNv"
      },
      "source": [
        "Теперь приложим больше подробностей:\n",
        "- Зависимая переменная $y$ - количество баллов на экзамене $[0; 100]$;\n",
        "- Признак $x_1$ - количество выполненных заданий $[0; 40]$;\n",
        "- Признак $x_2$ - отношение количества посещений к количеству прошедших занятий $[0; 1]$."
      ]
    },
    {
      "cell_type": "markdown",
      "metadata": {
        "id": "lUi-RhOqGCBu"
      },
      "source": [
        "Попробуем представить пример таких данных:\n",
        "\n"
      ]
    },
    {
      "cell_type": "code",
      "metadata": {
        "id": "poNuzz7wEFUh"
      },
      "source": [
        "W = [2, 20]\n",
        "\n",
        "X = np.random.uniform(low=0, high=[40, 1], size=(15, 2))\n",
        "X[:, 0] = X[:, 0].astype(int)\n",
        "y_true = np.clip(X.dot(W)+np.random.randn(15)*3, 0, 100)\n",
        "\n",
        "df = pd.DataFrame(X[:,:2], columns=['tasks_completed', 'class_attended_rate'])\n",
        "df['grade'] = y_true\n",
        "\n",
        "df"
      ],
      "execution_count": null,
      "outputs": []
    },
    {
      "cell_type": "markdown",
      "metadata": {
        "id": "bKZDc7G6EDQp"
      },
      "source": [
        "Что можно отметить: те студенты, которые почти не ходили на занятия, но выполнили большое количество заданий получили высокую оценку. Обратная ситуация, были на всех занятиях, но при этом выполнили мало задач - никто не получил хорошей оценки.\n",
        "\n",
        "При этом, показатель R2 говорит об отличном соответствии модели данным. Так в чем проблема?"
      ]
    },
    {
      "cell_type": "code",
      "metadata": {
        "id": "R71K_i9yHv3D"
      },
      "source": [
        "y_pred = X.dot(W)\n",
        "r2_score(y_true, y_pred)"
      ],
      "execution_count": null,
      "outputs": []
    },
    {
      "cell_type": "markdown",
      "metadata": {
        "id": "t-G0R-A4H1pI"
      },
      "source": [
        "Проблема заключается в том, что даже при супер-точных предсказаниях, модель не отражает реальной зависимости. Она отражает зависимости в данных, которые имеют разные распределения (или как минимум диапазоны), что приводит к ошибочному выводу о том, что посещение занятий в 10 раз важнее, чем количество задач на экзамене.\n",
        "\n",
        "Веса признаков отражают важности этих признаков, поэтому при построении модели нужно всегда учитывать распределение признаков."
      ]
    },
    {
      "cell_type": "code",
      "metadata": {
        "id": "HHWykhAwI9Gf"
      },
      "source": [
        "X_scaled = standardize_features_scale(X)\n",
        "\n",
        "new_W, _ = fit_model(\n",
        "    lr=0.01,\n",
        "    n_iter=3000,\n",
        "    X=X_scaled,\n",
        "    y=y_true\n",
        ")\n",
        "\n",
        "y_pred = predict(X_scaled, new_W)\n",
        "new_W, r2_score(y_true, y_pred)"
      ],
      "execution_count": null,
      "outputs": []
    },
    {
      "cell_type": "markdown",
      "metadata": {
        "id": "pI0BRyFtUgvJ"
      },
      "source": [
        "Как видно, модель, обученная после стандартизации отражает другое отношение весов при признаках $x_1$ (21.5) и $x_2$ (5.9), что больше коррелирует с реальной зависимостью."
      ]
    },
    {
      "cell_type": "markdown",
      "metadata": {
        "id": "7M_OhH2b9htJ"
      },
      "source": [
        "> Именно по этой причине очень важно всегда стараться разобраться в данных, признаках и зависимостях, чтобы интерпретировать данные правильно. Плохое понимание данных может составить дополнительные сложности как в обучении, так и в разборе модели."
      ]
    },
    {
      "cell_type": "markdown",
      "metadata": {
        "id": "j9b1-SAgtXEQ"
      },
      "source": [
        "# Выводы - задание\n",
        "\n",
        "Напишите выводы по итогам изучения материала. Вам может помочь следующий список вопросов, но лучше еще и добавить свои умозаключения!\n",
        "\n",
        "- Почему лучше использовать большое количество данных? \n",
        "- Что такое обучение модели и зачем это нужно? \n",
        "- Что лучше визуальная оценка работы системы или численная? Почему? \n",
        "- В чём заключается задача оптимизации? Почему оптимизация нужна? \n",
        "- Что за функция потерь и что она теряет? Может быть вообще эта функция только усложняет жизнь? \n",
        "- Что такое градиентный спуск и градиентный подъём? Существует ли градиентное плато?\n",
        "- Какие эффекты могут произойти при работе с данными? Как их вовремя распознать? А нужно ли их распознавать, может и так сойдёт? \n"
      ]
    },
    {
      "cell_type": "markdown",
      "metadata": {
        "id": "qCP0fS8I39JU"
      },
      "source": [
        "# Вопросики!\n",
        "\n",
        "Ответив на них вы точно можете считать себя джедаем этой темы!\n",
        "\n",
        "- Что такое зависимость в данных?\n",
        "- Как можно описать линейный характер распределения данных? \n",
        "- Что такое задача определения регрессии? \n",
        "- Что такое модель в машинном обучении? \n",
        "- Что такое обучение модели и зачем это нужно? \n",
        "- Опишите процесс работы с данными и моделью, начиная от получения данных и заканчивая получением предсказания. \n",
        "- Почему вес важен в машинном обучении?  \n",
        "- Какие метрики работают по правилу “меньше значение метрики - лучше модель работает”?\n",
        "- В каком случае лучше применять метрику квадратичного отклонения? \n",
        "- В чём заключается задача оптимизации?\n",
        "- Что такое “определение градиента”? \n",
        "- Опишите что происходит при градиентном расхождении? \n",
        "- Опишите эффект underfit? Приведите пример \n",
        "- В чём особенности метрики R2? \n",
        "- Приведите пример эффекта overfit?\n"
      ]
    }
  ]
}